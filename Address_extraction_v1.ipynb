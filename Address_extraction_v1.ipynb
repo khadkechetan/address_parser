{
  "cells": [
    {
      "cell_type": "markdown",
      "metadata": {
        "id": "8DhXT5PYPPy-"
      },
      "source": [
        "Address component extraction from the text.\n",
        "\n",
        "PS: Please select GPU as a runtime for fater processing.\n",
        "\n",
        "Owner: Chetan Khadke khadkechetan@gmail.com"
      ]
    },
    {
      "cell_type": "markdown",
      "metadata": {
        "id": "lF05WXUrPEyy"
      },
      "source": [
        "#pyap"
      ]
    },
    {
      "cell_type": "code",
      "execution_count": null,
      "metadata": {
        "colab": {
          "base_uri": "https://localhost:8080/"
        },
        "id": "t-t3RuT76IEa",
        "outputId": "6999f261-6dc0-4850-8605-da41df264b26"
      },
      "outputs": [
        {
          "name": "stdout",
          "output_type": "stream",
          "text": [
            "Installing collected packages: pyap\n",
            "Successfully installed pyap-0.3.1\n"
          ]
        }
      ],
      "source": [
        "!pip install pyap"
      ]
    },
    {
      "cell_type": "code",
      "execution_count": null,
      "metadata": {
        "id": "1xbtJvWg6Kz5"
      },
      "outputs": [],
      "source": [
        "import pyap\n",
        "text = \"44 West 22nd Street, New York NY 12345\"\n",
        "addresses = pyap.parse(text, country='US')"
      ]
    },
    {
      "cell_type": "code",
      "execution_count": null,
      "metadata": {
        "colab": {
          "base_uri": "https://localhost:8080/"
        },
        "id": "Rp1-WHr56UxQ",
        "outputId": "6fc0cad3-3969-41fd-8b84-967f099e90bc"
      },
      "outputs": [
        {
          "data": {
            "text/plain": [
              "[44 West 22nd Street, New York NY 12345]"
            ]
          },
          "execution_count": 3,
          "metadata": {},
          "output_type": "execute_result"
        }
      ],
      "source": [
        "addresses"
      ]
    },
    {
      "cell_type": "code",
      "execution_count": null,
      "metadata": {
        "colab": {
          "base_uri": "https://localhost:8080/"
        },
        "id": "rrd0213y9t6u",
        "outputId": "c0ab8271-6ddc-4890-dd40-80076a4d3292"
      },
      "outputs": [
        {
          "name": "stdout",
          "output_type": "stream",
          "text": [
            "44 West 22nd Street, New York NY 12345\n",
            "{'full_address': '44 West 22nd Street, New York NY 12345', 'full_street': '44 West 22nd Street', 'street_number': '44', 'street_name': 'West 22nd', 'street_type': 'Street', 'route_id': None, 'post_direction': None, 'floor': None, 'building_id': None, 'occupancy': None, 'city': 'New York', 'region1': 'NY', 'postal_code': '12345', 'country_id': 'US', 'match_start': 0, 'match_end': 38}\n"
          ]
        }
      ],
      "source": [
        "for address in addresses:\n",
        "    # shows found address\n",
        "    print(address)\n",
        "    # shows address parts\n",
        "    print(address.as_dict())"
      ]
    },
    {
      "cell_type": "markdown",
      "metadata": {
        "id": "eRlrIWkYPTxl"
      },
      "source": [
        "#usaddress"
      ]
    },
    {
      "cell_type": "code",
      "execution_count": null,
      "metadata": {
        "id": "oWlR4VmO6Yjc"
      },
      "outputs": [],
      "source": [
        "!pip install usaddress"
      ]
    },
    {
      "cell_type": "code",
      "execution_count": null,
      "metadata": {
        "colab": {
          "base_uri": "https://localhost:8080/"
        },
        "id": "nIukGNge6xaO",
        "outputId": "fbdc06e0-7d00-48db-be5e-0908d2d96f41"
      },
      "outputs": [
        {
          "data": {
            "text/plain": [
              "[('DMC', 'Recipient'),\n",
              " ('office', 'Recipient'),\n",
              " ('address', 'Recipient'),\n",
              " ('is', 'Recipient'),\n",
              " ('3146', 'AddressNumber'),\n",
              " ('Barter', 'StreetName'),\n",
              " ('St', 'StreetNamePostType'),\n",
              " ('BEAUMONT', 'PlaceName'),\n",
              " ('TAXAS', 'StateName'),\n",
              " ('77707-3514', 'ZipCode'),\n",
              " ('US.', 'CountryName')]"
            ]
          },
          "execution_count": 7,
          "metadata": {},
          "output_type": "execute_result"
        }
      ],
      "source": [
        "import usaddress\n",
        "text = \"DMC office address is 3146 Barter St BEAUMONT TAXAS 77707-3514 US.\"\n",
        "usaddress.parse(text)"
      ]
    },
    {
      "cell_type": "code",
      "execution_count": null,
      "metadata": {
        "colab": {
          "base_uri": "https://localhost:8080/"
        },
        "id": "o0ZKCHbh6z_w",
        "outputId": "8415eeb2-823c-4b93-d94e-9f9bf24b4468"
      },
      "outputs": [
        {
          "data": {
            "text/plain": [
              "(OrderedDict([('Recipient', 'DMC office address is'),\n",
              "              ('AddressNumber', '3146'),\n",
              "              ('StreetName', 'Barter'),\n",
              "              ('StreetNamePostType', 'St'),\n",
              "              ('PlaceName', 'BEAUMONT'),\n",
              "              ('StateName', 'TAXAS'),\n",
              "              ('ZipCode', '77707-3514'),\n",
              "              ('CountryName', 'US.')]),\n",
              " 'Street Address')"
            ]
          },
          "execution_count": 8,
          "metadata": {},
          "output_type": "execute_result"
        }
      ],
      "source": [
        "usaddress.tag(text)"
      ]
    },
    {
      "cell_type": "code",
      "execution_count": null,
      "metadata": {
        "colab": {
          "base_uri": "https://localhost:8080/"
        },
        "id": "0xElebo_JwpP",
        "outputId": "315d7072-901f-4a53-e8fc-2f255d72cc6b"
      },
      "outputs": [
        {
          "data": {
            "text/plain": [
              "(OrderedDict([('recipient', 'DMC office address is'),\n",
              "              ('home1', '3146 Barter'),\n",
              "              ('st1', 'St'),\n",
              "              ('city', 'BEAUMONT'),\n",
              "              ('state', 'TAXAS'),\n",
              "              ('zip_code', '77707-3514'),\n",
              "              ('CountryName', 'US.')]),\n",
              " 'Street Address')"
            ]
          },
          "execution_count": 9,
          "metadata": {},
          "output_type": "execute_result"
        }
      ],
      "source": [
        "usaddress.tag(text, tag_mapping={\n",
        "   'Recipient': 'recipient',\n",
        "   'AddressNumber': 'home1',\n",
        "   'AddressNumberPrefix': 'home1',\n",
        "   'AddressNumberSuffix': 'home1',\n",
        "   'StreetName': 'home1',\n",
        "   'StreetNamePreDirectional': 'st1',\n",
        "   'StreetNamePreModifier': 'st1',\n",
        "   'StreetNamePreType': 'st1',\n",
        "   'StreetNamePostDirectional': 'st1',\n",
        "   'StreetNamePostModifier': 'st1',\n",
        "   'StreetNamePostType': 'st1',\n",
        "   'CornerOf': 'st1',\n",
        "   'IntersectionSeparator': 'st1',\n",
        "   'LandmarkName': 'st1',\n",
        "   'USPSBoxGroupID': 'st1',\n",
        "   'USPSBoxGroupType': 'st1',\n",
        "   'USPSBoxID': 'st1',\n",
        "   'USPSBoxType': 'st1',\n",
        "   'BuildingName': 'st1',\n",
        "   'OccupancyType': 'home1',\n",
        "   'OccupancyIdentifier': 'home1',\n",
        "   'SubaddressIdentifier': 'home1',\n",
        "   'SubaddressType': 'home1',\n",
        "   'PlaceName': 'city',\n",
        "   'StateName': 'state',\n",
        "   'ZipCode': 'zip_code',\n",
        "})\n"
      ]
    },
    {
      "cell_type": "markdown",
      "metadata": {
        "id": "vQ6sPi7yPn3N"
      },
      "source": [
        "#NLTK"
      ]
    },
    {
      "cell_type": "code",
      "execution_count": null,
      "metadata": {
        "id": "3Ht5V6sE-3t_"
      },
      "outputs": [],
      "source": [
        "import nltk\n",
        "nltk.download('punkt')\n",
        "nltk.download('averaged_perceptron_tagger')"
      ]
    },
    {
      "cell_type": "code",
      "execution_count": 3,
      "metadata": {
        "colab": {
          "base_uri": "https://localhost:8080/"
        },
        "id": "rCZP_VpV_DGv",
        "outputId": "e459a3cb-9724-4268-bfeb-12e708681319"
      },
      "outputs": [
        {
          "output_type": "stream",
          "name": "stdout",
          "text": [
            "Loading dataset...\n",
            "Done.\n",
            "(GPE\n",
            "  44/CD\n",
            "  West/NNP\n",
            "  22nd/CD\n",
            "  Street/NNP\n",
            "  ,/,\n",
            "  New/NNP\n",
            "  York/NNP\n",
            "  ,/,\n",
            "  NY/NNP\n",
            "  12345/CD)\n",
            "[['44', 'West', '22nd', 'Street', ',', 'New', 'York', ',', 'NY', '12345']]\n"
          ]
        }
      ],
      "source": [
        "import pickle\n",
        "import nltk\n",
        "import string\n",
        "\n",
        "from nltk import pos_tag\n",
        "from nltk import word_tokenize\n",
        "from nltk.chunk import ChunkParserI\n",
        "from nltk.chunk import conlltags2tree, tree2conlltags\n",
        "from nltk.tag import ClassifierBasedTagger\n",
        "from nltk.tag.util import untag\n",
        "from nltk.stem.snowball import SnowballStemmer\n",
        "\n",
        "# IOB tag name for specifying address \n",
        "GPE_TAG = \"GPE\"\n",
        "\n",
        "class AddressChunker(ChunkParserI):\n",
        "    def __init__(self, train_sents, **kwargs):\n",
        "        self.tagger = ClassifierBasedTagger(\n",
        "            train=train_sents,\n",
        "            feature_detector=self.features,\n",
        "            **kwargs)\n",
        "\n",
        "    def parse(self, tagged_sent):\n",
        "        chunks = self.tagger.tag(tagged_sent)\n",
        "\n",
        "        # Transform the result from [((w1, t1), iob1), ...]\n",
        "        # to the preferred list of triplets format [(w1, t1, iob1), ...]\n",
        "        iob_triplets = [(w, t, c) for ((w, t), c) in chunks]\n",
        "\n",
        "        # Transform the list of triplets to nltk.Tree format\n",
        "        return conlltags2tree(iob_triplets)\n",
        "    \n",
        "    def features(self, tokens, index, history):\n",
        "        # for more details see: http://nlpforhackers.io/named-entity-extraction/ \n",
        "        \n",
        "        \"\"\"\n",
        "        `tokens`  = a POS-tagged sentence [(w1, t1), ...]\n",
        "        `index`   = the index of the token we want to extract features for\n",
        "        `history` = the previous predicted IOB tags\n",
        "        \"\"\"\n",
        "\n",
        "        # init the stemmer\n",
        "        stemmer = SnowballStemmer('english')\n",
        "\n",
        "        # Pad the sequence with placeholders\n",
        "        tokens = [('[START2]', '[START2]'), ('[START1]', '[START1]')] + list(tokens) + [('[END1]', '[END1]'), ('[END2]', '[END2]')]\n",
        "        history = ['[START2]', '[START1]'] + list(history)\n",
        "\n",
        "        # shift the index with 2, to accommodate the padding\n",
        "        index += 2\n",
        "\n",
        "        word, pos = tokens[index]\n",
        "        prevword, prevpos = tokens[index - 1]\n",
        "        prevprevword, prevprevpos = tokens[index - 2]\n",
        "        nextword, nextpos = tokens[index + 1]\n",
        "        nextnextword, nextnextpos = tokens[index + 2]\n",
        "        previob = history[index - 1]\n",
        "        contains_dash = '-' in word\n",
        "        contains_dot = '.' in word\n",
        "        allascii = all([True for c in word if c in string.ascii_lowercase])\n",
        "\n",
        "        allcaps = word == word.capitalize()\n",
        "        capitalized = word[0] in string.ascii_uppercase\n",
        "\n",
        "        prevallcaps = prevword == prevword.capitalize()\n",
        "        prevcapitalized = prevword[0] in string.ascii_uppercase\n",
        "\n",
        "        nextallcaps = prevword == prevword.capitalize()\n",
        "        nextcapitalized = prevword[0] in string.ascii_uppercase\n",
        "\n",
        "        f = {\n",
        "            'word': word,\n",
        "            'lemma': stemmer.stem(word),\n",
        "            'pos': pos,\n",
        "            'all-ascii': allascii,\n",
        "\n",
        "            'next-word': nextword,\n",
        "            'next-lemma': stemmer.stem(nextword),\n",
        "            'next-pos': nextpos,\n",
        "\n",
        "            'next-next-word': nextnextword,\n",
        "            'nextnextpos': nextnextpos,\n",
        "\n",
        "            'prev-word': prevword,\n",
        "            'prev-lemma': stemmer.stem(prevword),\n",
        "            'prev-pos': prevpos,\n",
        "\n",
        "            'prev-prev-word': prevprevword,\n",
        "            'prev-prev-pos': prevprevpos,\n",
        "\n",
        "            'prev-iob': previob,\n",
        "\n",
        "            'contains-dash': contains_dash,\n",
        "            'contains-dot': contains_dot,\n",
        "\n",
        "            'all-caps': allcaps,\n",
        "            'capitalized': capitalized,\n",
        "\n",
        "            'prev-all-caps': prevallcaps,\n",
        "            'prev-capitalized': prevcapitalized,\n",
        "\n",
        "            'next-all-caps': nextallcaps,\n",
        "            'next-capitalized': nextcapitalized,\n",
        "        }\n",
        "\n",
        "        return f\n",
        "\n",
        "def get_address_chunker(dataset_file_name):\n",
        "    \"\"\"\n",
        "    returns AddressChunker instance with dataset_file_name as training samples\n",
        "    `dataset_file_name` = file name of pickled list of CoNLL IOB format sentences\n",
        "    \"\"\"\n",
        "\n",
        "    with open(dataset_file_name, 'rb') as fp:\n",
        "        dataset = pickle.load(fp)\n",
        "        # print(len(dataset))\n",
        "        chunker = AddressChunker(dataset)\n",
        "\n",
        "    return chunker\n",
        "\n",
        "def get_chuncker_accuracy(chunker, test_samples):\n",
        "    \"\"\"\n",
        "    returns score of the chunker against the gold standard\n",
        "    \"\"\"\n",
        "    score = chunker.evaluate([\n",
        "        conlltags2tree([(w, t, iob) for (w, t), iob in iobs])\n",
        "        for iobs in test_samples\n",
        "        ])\n",
        "    return score.accuracy()\n",
        "\n",
        "def get_tagged_sentence(chunker, sentence):\n",
        "    \"\"\"\n",
        "    returns IOB tagged tree of sentence\n",
        "    \"\"\"\n",
        "    return chunker.parse(pos_tag(word_tokenize(sentence)))\n",
        "\n",
        "def extract_address(chunker, sentence):\n",
        "    \"\"\"\n",
        "    returns all addresses in sentence\n",
        "    \"\"\"\n",
        "    def tree_filter(tree):\n",
        "        return GPE_TAG == tree.label()\n",
        "\n",
        "    tagged_tree = get_tagged_sentence(chunker, sentence)\n",
        "    # print(tagged_tree)\n",
        "    addresses = list()\n",
        "    for subtree in tagged_tree.subtrees(filter=tree_filter):\n",
        "        print(subtree)\n",
        "        addresses.append(untag(subtree.leaves()))\n",
        "    return addresses\n",
        "\n",
        "print(\"Loading dataset...\")\n",
        "chunker = get_address_chunker(\"/content/IOB_tagged_addresses.pkl\") # Copy the file here\n",
        "print(\"Done.\")\n",
        "print(extract_address(chunker, \"Hey man! Joe lives here: 44 West 22nd Street, New York, NY 12345. Can you contact him now? If you need any help, call me on 12345678\"))"
      ]
    }
  ],
  "metadata": {
    "colab": {
      "provenance": [],
      "collapsed_sections": [
        "lF05WXUrPEyy",
        "eRlrIWkYPTxl",
        "vQ6sPi7yPn3N"
      ]
    },
    "gpuClass": "standard",
    "kernelspec": {
      "display_name": "Python 3",
      "name": "python3"
    },
    "language_info": {
      "name": "python"
    }
  },
  "nbformat": 4,
  "nbformat_minor": 0
}