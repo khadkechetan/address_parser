{
  "nbformat": 4,
  "nbformat_minor": 0,
  "metadata": {
    "colab": {
      "provenance": []
    },
    "kernelspec": {
      "name": "python3",
      "display_name": "Python 3"
    },
    "language_info": {
      "name": "python"
    },
    "gpuClass": "standard",
    "accelerator": "GPU"
  },
  "cells": [
    {
      "cell_type": "markdown",
      "source": [
        "Address component extraction from the text.\n",
        "\n",
        "PS: Please select GPU as a runtime for fater processing.\n",
        "\n",
        "Owner: Chetan Khadke khadkechetan@gmail.com"
      ],
      "metadata": {
        "id": "rlwT2SQtGOxb"
      }
    },
    {
      "cell_type": "code",
      "source": [
        "!pip install flair"
      ],
      "metadata": {
        "id": "wRtyJlU47Jx9",
        "colab": {
          "base_uri": "https://localhost:8080/"
        },
        "outputId": "e8c936f7-6ea9-475e-af20-8ccbeaf80b31"
      },
      "execution_count": 1,
      "outputs": [
        {
          "output_type": "stream",
          "name": "stdout",
          "text": [
            "Looking in indexes: https://pypi.org/simple, https://us-python.pkg.dev/colab-wheels/public/simple/\n",
            "Requirement already satisfied: flair in /usr/local/lib/python3.8/dist-packages (0.11.3)\n",
            "Requirement already satisfied: ftfy in /usr/local/lib/python3.8/dist-packages (from flair) (6.1.1)\n",
            "Requirement already satisfied: langdetect in /usr/local/lib/python3.8/dist-packages (from flair) (1.0.9)\n",
            "Requirement already satisfied: more-itertools in /usr/local/lib/python3.8/dist-packages (from flair) (9.0.0)\n",
            "Requirement already satisfied: torch!=1.8,>=1.5.0 in /usr/local/lib/python3.8/dist-packages (from flair) (1.13.1+cu116)\n",
            "Requirement already satisfied: scikit-learn>=0.21.3 in /usr/local/lib/python3.8/dist-packages (from flair) (1.0.2)\n",
            "Requirement already satisfied: transformers>=4.0.0 in /usr/local/lib/python3.8/dist-packages (from flair) (4.26.0)\n",
            "Requirement already satisfied: janome in /usr/local/lib/python3.8/dist-packages (from flair) (0.4.2)\n",
            "Requirement already satisfied: sentencepiece==0.1.95 in /usr/local/lib/python3.8/dist-packages (from flair) (0.1.95)\n",
            "Requirement already satisfied: conllu>=4.0 in /usr/local/lib/python3.8/dist-packages (from flair) (4.5.2)\n",
            "Requirement already satisfied: mpld3==0.3 in /usr/local/lib/python3.8/dist-packages (from flair) (0.3)\n",
            "Requirement already satisfied: huggingface-hub in /usr/local/lib/python3.8/dist-packages (from flair) (0.12.0)\n",
            "Requirement already satisfied: matplotlib>=2.2.3 in /usr/local/lib/python3.8/dist-packages (from flair) (3.2.2)\n",
            "Requirement already satisfied: tabulate in /usr/local/lib/python3.8/dist-packages (from flair) (0.8.10)\n",
            "Requirement already satisfied: python-dateutil>=2.6.1 in /usr/local/lib/python3.8/dist-packages (from flair) (2.8.2)\n",
            "Requirement already satisfied: hyperopt>=0.2.7 in /usr/local/lib/python3.8/dist-packages (from flair) (0.2.7)\n",
            "Requirement already satisfied: deprecated>=1.2.4 in /usr/local/lib/python3.8/dist-packages (from flair) (1.2.13)\n",
            "Requirement already satisfied: sqlitedict>=1.6.0 in /usr/local/lib/python3.8/dist-packages (from flair) (2.1.0)\n",
            "Requirement already satisfied: wikipedia-api in /usr/local/lib/python3.8/dist-packages (from flair) (0.5.8)\n",
            "Requirement already satisfied: gensim>=3.4.0 in /usr/local/lib/python3.8/dist-packages (from flair) (3.6.0)\n",
            "Requirement already satisfied: segtok>=1.5.7 in /usr/local/lib/python3.8/dist-packages (from flair) (1.5.11)\n",
            "Requirement already satisfied: konoha<5.0.0,>=4.0.0 in /usr/local/lib/python3.8/dist-packages (from flair) (4.6.5)\n",
            "Requirement already satisfied: regex in /usr/local/lib/python3.8/dist-packages (from flair) (2022.6.2)\n",
            "Requirement already satisfied: tqdm>=4.26.0 in /usr/local/lib/python3.8/dist-packages (from flair) (4.64.1)\n",
            "Requirement already satisfied: lxml in /usr/local/lib/python3.8/dist-packages (from flair) (4.9.2)\n",
            "Requirement already satisfied: gdown==4.4.0 in /usr/local/lib/python3.8/dist-packages (from flair) (4.4.0)\n",
            "Requirement already satisfied: pptree in /usr/local/lib/python3.8/dist-packages (from flair) (3.1)\n",
            "Requirement already satisfied: bpemb>=0.3.2 in /usr/local/lib/python3.8/dist-packages (from flair) (0.3.4)\n",
            "Requirement already satisfied: six in /usr/local/lib/python3.8/dist-packages (from gdown==4.4.0->flair) (1.15.0)\n",
            "Requirement already satisfied: beautifulsoup4 in /usr/local/lib/python3.8/dist-packages (from gdown==4.4.0->flair) (4.6.3)\n",
            "Requirement already satisfied: requests[socks] in /usr/local/lib/python3.8/dist-packages (from gdown==4.4.0->flair) (2.25.1)\n",
            "Requirement already satisfied: filelock in /usr/local/lib/python3.8/dist-packages (from gdown==4.4.0->flair) (3.9.0)\n",
            "Requirement already satisfied: numpy in /usr/local/lib/python3.8/dist-packages (from bpemb>=0.3.2->flair) (1.21.6)\n",
            "Requirement already satisfied: wrapt<2,>=1.10 in /usr/local/lib/python3.8/dist-packages (from deprecated>=1.2.4->flair) (1.14.1)\n",
            "Requirement already satisfied: scipy>=0.18.1 in /usr/local/lib/python3.8/dist-packages (from gensim>=3.4.0->flair) (1.7.3)\n",
            "Requirement already satisfied: smart-open>=1.2.1 in /usr/local/lib/python3.8/dist-packages (from gensim>=3.4.0->flair) (6.3.0)\n",
            "Requirement already satisfied: py4j in /usr/local/lib/python3.8/dist-packages (from hyperopt>=0.2.7->flair) (0.10.9.7)\n",
            "Requirement already satisfied: cloudpickle in /usr/local/lib/python3.8/dist-packages (from hyperopt>=0.2.7->flair) (2.2.0)\n",
            "Requirement already satisfied: future in /usr/local/lib/python3.8/dist-packages (from hyperopt>=0.2.7->flair) (0.16.0)\n",
            "Requirement already satisfied: networkx>=2.2 in /usr/local/lib/python3.8/dist-packages (from hyperopt>=0.2.7->flair) (3.0)\n",
            "Requirement already satisfied: importlib-metadata<4.0.0,>=3.7.0 in /usr/local/lib/python3.8/dist-packages (from konoha<5.0.0,>=4.0.0->flair) (3.10.1)\n",
            "Requirement already satisfied: overrides<4.0.0,>=3.0.0 in /usr/local/lib/python3.8/dist-packages (from konoha<5.0.0,>=4.0.0->flair) (3.1.0)\n",
            "Requirement already satisfied: kiwisolver>=1.0.1 in /usr/local/lib/python3.8/dist-packages (from matplotlib>=2.2.3->flair) (1.4.4)\n",
            "Requirement already satisfied: pyparsing!=2.0.4,!=2.1.2,!=2.1.6,>=2.0.1 in /usr/local/lib/python3.8/dist-packages (from matplotlib>=2.2.3->flair) (3.0.9)\n",
            "Requirement already satisfied: cycler>=0.10 in /usr/local/lib/python3.8/dist-packages (from matplotlib>=2.2.3->flair) (0.11.0)\n",
            "Requirement already satisfied: threadpoolctl>=2.0.0 in /usr/local/lib/python3.8/dist-packages (from scikit-learn>=0.21.3->flair) (3.1.0)\n",
            "Requirement already satisfied: joblib>=0.11 in /usr/local/lib/python3.8/dist-packages (from scikit-learn>=0.21.3->flair) (1.2.0)\n",
            "Requirement already satisfied: typing-extensions in /usr/local/lib/python3.8/dist-packages (from torch!=1.8,>=1.5.0->flair) (4.4.0)\n",
            "Requirement already satisfied: packaging>=20.0 in /usr/local/lib/python3.8/dist-packages (from transformers>=4.0.0->flair) (21.3)\n",
            "Requirement already satisfied: tokenizers!=0.11.3,<0.14,>=0.11.1 in /usr/local/lib/python3.8/dist-packages (from transformers>=4.0.0->flair) (0.13.2)\n",
            "Requirement already satisfied: pyyaml>=5.1 in /usr/local/lib/python3.8/dist-packages (from transformers>=4.0.0->flair) (6.0)\n",
            "Requirement already satisfied: wcwidth>=0.2.5 in /usr/local/lib/python3.8/dist-packages (from ftfy->flair) (0.2.5)\n",
            "Requirement already satisfied: zipp>=0.5 in /usr/local/lib/python3.8/dist-packages (from importlib-metadata<4.0.0,>=3.7.0->konoha<5.0.0,>=4.0.0->flair) (3.11.0)\n",
            "Requirement already satisfied: chardet<5,>=3.0.2 in /usr/local/lib/python3.8/dist-packages (from requests[socks]->gdown==4.4.0->flair) (4.0.0)\n",
            "Requirement already satisfied: certifi>=2017.4.17 in /usr/local/lib/python3.8/dist-packages (from requests[socks]->gdown==4.4.0->flair) (2022.12.7)\n",
            "Requirement already satisfied: idna<3,>=2.5 in /usr/local/lib/python3.8/dist-packages (from requests[socks]->gdown==4.4.0->flair) (2.10)\n",
            "Requirement already satisfied: urllib3<1.27,>=1.21.1 in /usr/local/lib/python3.8/dist-packages (from requests[socks]->gdown==4.4.0->flair) (1.24.3)\n",
            "Requirement already satisfied: PySocks!=1.5.7,>=1.5.6 in /usr/local/lib/python3.8/dist-packages (from requests[socks]->gdown==4.4.0->flair) (1.7.1)\n"
          ]
        }
      ]
    },
    {
      "cell_type": "code",
      "execution_count": 2,
      "metadata": {
        "id": "q8f9dnkTA3oU"
      },
      "outputs": [],
      "source": [
        "import os\n",
        "import pandas as pd\n",
        "import re, math\n",
        "import numpy as np\n",
        "import pandas as pd\n",
        "from flair.data import Corpus\n",
        "from flair.datasets import ColumnCorpus"
      ]
    },
    {
      "cell_type": "code",
      "source": [
        "from flair.embeddings import FlairEmbeddings, TransformerWordEmbeddings\n",
        "from flair.datasets import CONLL_03\n",
        "from flair.embeddings import WordEmbeddings, FlairEmbeddings, StackedEmbeddings\n",
        "from flair.models import SequenceTagger\n",
        "from flair.trainers import ModelTrainer\n",
        "from flair.embeddings import StackedEmbeddings"
      ],
      "metadata": {
        "id": "3-rlQwglJZJA"
      },
      "execution_count": 3,
      "outputs": []
    },
    {
      "cell_type": "code",
      "source": [
        "columns = ['Building_Name', 'Building_Number', 'City', 'Recipient',\n",
        "       'Street_Name', 'Zip_Code', 'State', 'Country']"
      ],
      "metadata": {
        "id": "rWx1W8Z870GJ"
      },
      "execution_count": 4,
      "outputs": []
    },
    {
      "cell_type": "code",
      "source": [
        "count=0\n",
        "labels = set()\n",
        "def generate_data(file_name):\n",
        "    data = pd.read_csv(file_name)\n",
        "    def get_value(x):\n",
        "        global count\n",
        "        results = []\n",
        "        address = x[\"Address\"]\n",
        "        previous = \"\"\n",
        "        _temp = x.to_dict()\n",
        "        for each in address.split():\n",
        "            match = False\n",
        "            for col in columns:\n",
        "                if each.strip(\" ,.-\") in str(_temp[col]):\n",
        "                    if previous == col:\n",
        "                        results.append((count, each, \"I-\"+col))\n",
        "                        labels.add(\"I-\"+col)\n",
        "                    else:\n",
        "                        results.append((count, each, \"B-\"+col)) \n",
        "                        labels.add(\"B-\"+col)\n",
        "                    previous = col\n",
        "                    match = True\n",
        "                    break\n",
        "            if not match:\n",
        "                results.append((count, each, \"O\")) \n",
        "                labels.add(\"O\")\n",
        "                match = False\n",
        "        results.append((\"\", \"\",\"\"))\n",
        "        count += 1\n",
        "        return results\n",
        "    values = data[:].apply(lambda x:get_value(x), axis=1)\n",
        "    flat_list = [item for sublist in values for item in sublist]\n",
        "    train_df = pd.DataFrame(flat_list, columns=[\"sentence_id\", \"words\", \"labels\"])\n",
        "    return train_df"
      ],
      "metadata": {
        "id": "TCAFqBIvBbpZ"
      },
      "execution_count": 5,
      "outputs": []
    },
    {
      "cell_type": "code",
      "source": [
        "# create a train folder\n",
        "os.makedirs(\"train/\", exist_ok = True) "
      ],
      "metadata": {
        "id": "-3UjqitfItBt"
      },
      "execution_count": 9,
      "outputs": []
    },
    {
      "cell_type": "code",
      "source": [
        "train_df = generate_data(\"us-train-dataset.csv\")"
      ],
      "metadata": {
        "id": "JQ6RFYnw5iU0"
      },
      "execution_count": 10,
      "outputs": []
    },
    {
      "cell_type": "code",
      "source": [
        "test_df = generate_data(\"us-test-dataset.csv\")"
      ],
      "metadata": {
        "id": "2whwowEN9RBD"
      },
      "execution_count": 11,
      "outputs": []
    },
    {
      "cell_type": "code",
      "source": [
        "train_df[[\"words\", \"labels\"]].tail(20)"
      ],
      "metadata": {
        "colab": {
          "base_uri": "https://localhost:8080/",
          "height": 676
        },
        "id": "ltwKjj6lKGJ2",
        "outputId": "6df6eb45-1d76-4a54-e13f-fca01f1d0db6"
      },
      "execution_count": 12,
      "outputs": [
        {
          "output_type": "execute_result",
          "data": {
            "text/plain": [
              "         words         labels\n",
              "3169      4538  B-Street_Name\n",
              "3170        Us  I-Street_Name\n",
              "3171       Hwy  I-Street_Name\n",
              "3172       231  I-Street_Name\n",
              "3173     36092     B-Zip_Code\n",
              "3174  Wetumpka         B-City\n",
              "3175        AL        B-State\n",
              "3176    United      B-Country\n",
              "3177    States      I-Country\n",
              "3178                         \n",
              "3179      2575  B-Street_Name\n",
              "3180        Us  I-Street_Name\n",
              "3181       Hwy  I-Street_Name\n",
              "3182        43  I-Street_Name\n",
              "3183     35594     B-Zip_Code\n",
              "3184  Winfield         B-City\n",
              "3185        AL        B-State\n",
              "3186    United      B-Country\n",
              "3187    States      I-Country\n",
              "3188                         "
            ],
            "text/html": [
              "\n",
              "  <div id=\"df-d3c58071-2abc-415d-8443-fc0d9341c59b\">\n",
              "    <div class=\"colab-df-container\">\n",
              "      <div>\n",
              "<style scoped>\n",
              "    .dataframe tbody tr th:only-of-type {\n",
              "        vertical-align: middle;\n",
              "    }\n",
              "\n",
              "    .dataframe tbody tr th {\n",
              "        vertical-align: top;\n",
              "    }\n",
              "\n",
              "    .dataframe thead th {\n",
              "        text-align: right;\n",
              "    }\n",
              "</style>\n",
              "<table border=\"1\" class=\"dataframe\">\n",
              "  <thead>\n",
              "    <tr style=\"text-align: right;\">\n",
              "      <th></th>\n",
              "      <th>words</th>\n",
              "      <th>labels</th>\n",
              "    </tr>\n",
              "  </thead>\n",
              "  <tbody>\n",
              "    <tr>\n",
              "      <th>3169</th>\n",
              "      <td>4538</td>\n",
              "      <td>B-Street_Name</td>\n",
              "    </tr>\n",
              "    <tr>\n",
              "      <th>3170</th>\n",
              "      <td>Us</td>\n",
              "      <td>I-Street_Name</td>\n",
              "    </tr>\n",
              "    <tr>\n",
              "      <th>3171</th>\n",
              "      <td>Hwy</td>\n",
              "      <td>I-Street_Name</td>\n",
              "    </tr>\n",
              "    <tr>\n",
              "      <th>3172</th>\n",
              "      <td>231</td>\n",
              "      <td>I-Street_Name</td>\n",
              "    </tr>\n",
              "    <tr>\n",
              "      <th>3173</th>\n",
              "      <td>36092</td>\n",
              "      <td>B-Zip_Code</td>\n",
              "    </tr>\n",
              "    <tr>\n",
              "      <th>3174</th>\n",
              "      <td>Wetumpka</td>\n",
              "      <td>B-City</td>\n",
              "    </tr>\n",
              "    <tr>\n",
              "      <th>3175</th>\n",
              "      <td>AL</td>\n",
              "      <td>B-State</td>\n",
              "    </tr>\n",
              "    <tr>\n",
              "      <th>3176</th>\n",
              "      <td>United</td>\n",
              "      <td>B-Country</td>\n",
              "    </tr>\n",
              "    <tr>\n",
              "      <th>3177</th>\n",
              "      <td>States</td>\n",
              "      <td>I-Country</td>\n",
              "    </tr>\n",
              "    <tr>\n",
              "      <th>3178</th>\n",
              "      <td></td>\n",
              "      <td></td>\n",
              "    </tr>\n",
              "    <tr>\n",
              "      <th>3179</th>\n",
              "      <td>2575</td>\n",
              "      <td>B-Street_Name</td>\n",
              "    </tr>\n",
              "    <tr>\n",
              "      <th>3180</th>\n",
              "      <td>Us</td>\n",
              "      <td>I-Street_Name</td>\n",
              "    </tr>\n",
              "    <tr>\n",
              "      <th>3181</th>\n",
              "      <td>Hwy</td>\n",
              "      <td>I-Street_Name</td>\n",
              "    </tr>\n",
              "    <tr>\n",
              "      <th>3182</th>\n",
              "      <td>43</td>\n",
              "      <td>I-Street_Name</td>\n",
              "    </tr>\n",
              "    <tr>\n",
              "      <th>3183</th>\n",
              "      <td>35594</td>\n",
              "      <td>B-Zip_Code</td>\n",
              "    </tr>\n",
              "    <tr>\n",
              "      <th>3184</th>\n",
              "      <td>Winfield</td>\n",
              "      <td>B-City</td>\n",
              "    </tr>\n",
              "    <tr>\n",
              "      <th>3185</th>\n",
              "      <td>AL</td>\n",
              "      <td>B-State</td>\n",
              "    </tr>\n",
              "    <tr>\n",
              "      <th>3186</th>\n",
              "      <td>United</td>\n",
              "      <td>B-Country</td>\n",
              "    </tr>\n",
              "    <tr>\n",
              "      <th>3187</th>\n",
              "      <td>States</td>\n",
              "      <td>I-Country</td>\n",
              "    </tr>\n",
              "    <tr>\n",
              "      <th>3188</th>\n",
              "      <td></td>\n",
              "      <td></td>\n",
              "    </tr>\n",
              "  </tbody>\n",
              "</table>\n",
              "</div>\n",
              "      <button class=\"colab-df-convert\" onclick=\"convertToInteractive('df-d3c58071-2abc-415d-8443-fc0d9341c59b')\"\n",
              "              title=\"Convert this dataframe to an interactive table.\"\n",
              "              style=\"display:none;\">\n",
              "        \n",
              "  <svg xmlns=\"http://www.w3.org/2000/svg\" height=\"24px\"viewBox=\"0 0 24 24\"\n",
              "       width=\"24px\">\n",
              "    <path d=\"M0 0h24v24H0V0z\" fill=\"none\"/>\n",
              "    <path d=\"M18.56 5.44l.94 2.06.94-2.06 2.06-.94-2.06-.94-.94-2.06-.94 2.06-2.06.94zm-11 1L8.5 8.5l.94-2.06 2.06-.94-2.06-.94L8.5 2.5l-.94 2.06-2.06.94zm10 10l.94 2.06.94-2.06 2.06-.94-2.06-.94-.94-2.06-.94 2.06-2.06.94z\"/><path d=\"M17.41 7.96l-1.37-1.37c-.4-.4-.92-.59-1.43-.59-.52 0-1.04.2-1.43.59L10.3 9.45l-7.72 7.72c-.78.78-.78 2.05 0 2.83L4 21.41c.39.39.9.59 1.41.59.51 0 1.02-.2 1.41-.59l7.78-7.78 2.81-2.81c.8-.78.8-2.07 0-2.86zM5.41 20L4 18.59l7.72-7.72 1.47 1.35L5.41 20z\"/>\n",
              "  </svg>\n",
              "      </button>\n",
              "      \n",
              "  <style>\n",
              "    .colab-df-container {\n",
              "      display:flex;\n",
              "      flex-wrap:wrap;\n",
              "      gap: 12px;\n",
              "    }\n",
              "\n",
              "    .colab-df-convert {\n",
              "      background-color: #E8F0FE;\n",
              "      border: none;\n",
              "      border-radius: 50%;\n",
              "      cursor: pointer;\n",
              "      display: none;\n",
              "      fill: #1967D2;\n",
              "      height: 32px;\n",
              "      padding: 0 0 0 0;\n",
              "      width: 32px;\n",
              "    }\n",
              "\n",
              "    .colab-df-convert:hover {\n",
              "      background-color: #E2EBFA;\n",
              "      box-shadow: 0px 1px 2px rgba(60, 64, 67, 0.3), 0px 1px 3px 1px rgba(60, 64, 67, 0.15);\n",
              "      fill: #174EA6;\n",
              "    }\n",
              "\n",
              "    [theme=dark] .colab-df-convert {\n",
              "      background-color: #3B4455;\n",
              "      fill: #D2E3FC;\n",
              "    }\n",
              "\n",
              "    [theme=dark] .colab-df-convert:hover {\n",
              "      background-color: #434B5C;\n",
              "      box-shadow: 0px 1px 3px 1px rgba(0, 0, 0, 0.15);\n",
              "      filter: drop-shadow(0px 1px 2px rgba(0, 0, 0, 0.3));\n",
              "      fill: #FFFFFF;\n",
              "    }\n",
              "  </style>\n",
              "\n",
              "      <script>\n",
              "        const buttonEl =\n",
              "          document.querySelector('#df-d3c58071-2abc-415d-8443-fc0d9341c59b button.colab-df-convert');\n",
              "        buttonEl.style.display =\n",
              "          google.colab.kernel.accessAllowed ? 'block' : 'none';\n",
              "\n",
              "        async function convertToInteractive(key) {\n",
              "          const element = document.querySelector('#df-d3c58071-2abc-415d-8443-fc0d9341c59b');\n",
              "          const dataTable =\n",
              "            await google.colab.kernel.invokeFunction('convertToInteractive',\n",
              "                                                     [key], {});\n",
              "          if (!dataTable) return;\n",
              "\n",
              "          const docLinkHtml = 'Like what you see? Visit the ' +\n",
              "            '<a target=\"_blank\" href=https://colab.research.google.com/notebooks/data_table.ipynb>data table notebook</a>'\n",
              "            + ' to learn more about interactive tables.';\n",
              "          element.innerHTML = '';\n",
              "          dataTable['output_type'] = 'display_data';\n",
              "          await google.colab.output.renderOutput(dataTable, element);\n",
              "          const docLink = document.createElement('div');\n",
              "          docLink.innerHTML = docLinkHtml;\n",
              "          element.appendChild(docLink);\n",
              "        }\n",
              "      </script>\n",
              "    </div>\n",
              "  </div>\n",
              "  "
            ]
          },
          "metadata": {},
          "execution_count": 12
        }
      ]
    },
    {
      "cell_type": "code",
      "source": [
        "train_df[[\"words\", \"labels\"]].to_csv(r'train/train.txt', header=None, index=None, sep=' ')"
      ],
      "metadata": {
        "id": "vJn9UN1NuZ8h"
      },
      "execution_count": 13,
      "outputs": []
    },
    {
      "cell_type": "code",
      "source": [
        "test_df[[\"words\", \"labels\"]].to_csv(r'train/test.txt', header=None, index=None, sep=' ')"
      ],
      "metadata": {
        "id": "44aq_RqKvwTX"
      },
      "execution_count": 14,
      "outputs": []
    },
    {
      "cell_type": "code",
      "source": [
        "# define columns\n",
        "columns = {0 : 'text', 1 : 'ner'}\n",
        "# directory where the data resides\n",
        "data_folder = 'train/'\n",
        "# initializing the corpus\n",
        "corpus: Corpus = ColumnCorpus(data_folder, columns,\n",
        "                              train_file = 'train.txt',\n",
        "                              test_file = 'test.txt',\n",
        "                              dev_file = 'test.txt')"
      ],
      "metadata": {
        "colab": {
          "base_uri": "https://localhost:8080/"
        },
        "id": "tqvnlx986-Bz",
        "outputId": "287b3da4-94e7-4b3f-da55-229d8decffa8"
      },
      "execution_count": 15,
      "outputs": [
        {
          "output_type": "stream",
          "name": "stdout",
          "text": [
            "2023-01-27 17:05:34,287 Reading data from train\n",
            "2023-01-27 17:05:34,289 Train: train/train.txt\n",
            "2023-01-27 17:05:34,290 Dev: train/test.txt\n",
            "2023-01-27 17:05:34,291 Test: train/test.txt\n"
          ]
        }
      ]
    },
    {
      "cell_type": "code",
      "source": [
        "print(len(corpus.train))"
      ],
      "metadata": {
        "colab": {
          "base_uri": "https://localhost:8080/"
        },
        "id": "kRM1j7TG4I-i",
        "outputId": "a3196007-8ba0-4888-878b-97ee42060fb6"
      },
      "execution_count": 16,
      "outputs": [
        {
          "output_type": "stream",
          "name": "stdout",
          "text": [
            "354\n"
          ]
        }
      ]
    },
    {
      "cell_type": "code",
      "source": [
        "# tag to predict\n",
        "columns = {0: 'text', 1: 'ner'}\n",
        "tag_type = columns[1]\n",
        "# make tag dictionary from the corpus\n",
        "tag_dictionary = corpus.make_label_dictionary(\"ner\")"
      ],
      "metadata": {
        "colab": {
          "base_uri": "https://localhost:8080/"
        },
        "id": "kxKKr9Xw6Wnw",
        "outputId": "88bd050a-e90d-4df3-d4c9-0c3749315605"
      },
      "execution_count": 17,
      "outputs": [
        {
          "output_type": "stream",
          "name": "stdout",
          "text": [
            "2023-01-27 17:05:37,044 Computing label dictionary. Progress:\n"
          ]
        },
        {
          "output_type": "stream",
          "name": "stderr",
          "text": [
            "354it [00:00, 35328.44it/s]"
          ]
        },
        {
          "output_type": "stream",
          "name": "stdout",
          "text": [
            "2023-01-27 17:05:37,067 Dictionary created for label 'ner' with 9 values: Street_Name (seen 353 times), City (seen 287 times), State (seen 265 times), Country (seen 265 times), Zip_Code (seen 255 times), Building_Number (seen 104 times), Building_Name (seen 20 times), Recipient (seen 18 times)\n"
          ]
        },
        {
          "output_type": "stream",
          "name": "stderr",
          "text": [
            "\n"
          ]
        }
      ]
    },
    {
      "cell_type": "code",
      "source": [
        "tag_dictionary"
      ],
      "metadata": {
        "colab": {
          "base_uri": "https://localhost:8080/"
        },
        "id": "VkgfYWeR5orb",
        "outputId": "d82ce8ba-a09f-4b8a-ae57-f4b4baf55709"
      },
      "execution_count": 18,
      "outputs": [
        {
          "output_type": "execute_result",
          "data": {
            "text/plain": [
              "<flair.data.Dictionary at 0x7f1635da67f0>"
            ]
          },
          "metadata": {},
          "execution_count": 18
        }
      ]
    },
    {
      "cell_type": "code",
      "source": [
        "\n",
        "\n",
        "# init Flair embeddings\n",
        "flair_forward_embedding = FlairEmbeddings('multi-forward')\n",
        "flair_backward_embedding = FlairEmbeddings('multi-backward')\n",
        "\n",
        "# init multilingual BERT\n",
        "bert_embedding = TransformerWordEmbeddings('bert-base-multilingual-cased')\n",
        "\n",
        "# now create the StackedEmbedding object that combines all embeddings\n",
        "embeddings = StackedEmbeddings(\n",
        "    embeddings=[flair_forward_embedding, flair_backward_embedding, bert_embedding])"
      ],
      "metadata": {
        "id": "KrHrUxKyDE1p"
      },
      "execution_count": 19,
      "outputs": []
    },
    {
      "cell_type": "code",
      "source": [
        "\n",
        "# 2. what label do we want to predict?\n",
        "label_type = 'ner'\n",
        "\n",
        "# 3. make the label dictionary from the corpus\n",
        "label_dict = corpus.make_label_dictionary(label_type=label_type)\n",
        "print(label_dict)\n",
        "\n",
        "# 4. initialize embedding stack with Flair and GloVe\n",
        "embedding_types = [\n",
        "    # WordEmbeddings('glove'),\n",
        "    FlairEmbeddings('news-forward'),\n",
        "    FlairEmbeddings('news-backward'),\n",
        "]\n",
        "\n",
        "embeddings = StackedEmbeddings(embeddings=embedding_types)\n",
        "\n",
        "# 5. initialize sequence tagger\n",
        "tagger = SequenceTagger(hidden_size=256,\n",
        "                        embeddings=embeddings,\n",
        "                        tag_dictionary=label_dict,\n",
        "                        tag_type=label_type,\n",
        "                        use_crf=True)\n",
        "\n",
        "# 6. initialize trainer\n",
        "trainer = ModelTrainer(tagger, corpus)\n",
        "\n",
        "# 7. start training\n",
        "trainer.train('resources/taggers/sota-ner-flair',\n",
        "              learning_rate=0.1,\n",
        "              mini_batch_size=32,\n",
        "              max_epochs=50)"
      ],
      "metadata": {
        "id": "WJ3tlZa58P-r",
        "colab": {
          "base_uri": "https://localhost:8080/"
        },
        "outputId": "e93a2ed8-3b24-4ac4-c458-e8c26a534098"
      },
      "execution_count": 22,
      "outputs": [
        {
          "output_type": "stream",
          "name": "stdout",
          "text": [
            "2023-01-27 17:09:32,380 Computing label dictionary. Progress:\n"
          ]
        },
        {
          "output_type": "stream",
          "name": "stderr",
          "text": [
            "354it [00:00, 17891.11it/s]"
          ]
        },
        {
          "output_type": "stream",
          "name": "stdout",
          "text": [
            "2023-01-27 17:09:32,411 Dictionary created for label 'ner' with 9 values: Street_Name (seen 353 times), City (seen 287 times), State (seen 265 times), Country (seen 265 times), Zip_Code (seen 255 times), Building_Number (seen 104 times), Building_Name (seen 20 times), Recipient (seen 18 times)\n",
            "Dictionary with 9 tags: <unk>, Street_Name, City, State, Country, Zip_Code, Building_Number, Building_Name, Recipient\n"
          ]
        },
        {
          "output_type": "stream",
          "name": "stderr",
          "text": [
            "\n"
          ]
        },
        {
          "output_type": "stream",
          "name": "stdout",
          "text": [
            "2023-01-27 17:09:32,771 SequenceTagger predicts: Dictionary with 33 tags: O, S-Street_Name, B-Street_Name, E-Street_Name, I-Street_Name, S-City, B-City, E-City, I-City, S-State, B-State, E-State, I-State, S-Country, B-Country, E-Country, I-Country, S-Zip_Code, B-Zip_Code, E-Zip_Code, I-Zip_Code, S-Building_Number, B-Building_Number, E-Building_Number, I-Building_Number, S-Building_Name, B-Building_Name, E-Building_Name, I-Building_Name, S-Recipient, B-Recipient, E-Recipient, I-Recipient\n",
            "2023-01-27 17:09:32,995 ----------------------------------------------------------------------------------------------------\n",
            "2023-01-27 17:09:33,000 Model: \"SequenceTagger(\n",
            "  (embeddings): StackedEmbeddings(\n",
            "    (list_embedding_0): FlairEmbeddings(\n",
            "      (lm): LanguageModel(\n",
            "        (drop): Dropout(p=0.05, inplace=False)\n",
            "        (encoder): Embedding(300, 100)\n",
            "        (rnn): LSTM(100, 2048)\n",
            "        (decoder): Linear(in_features=2048, out_features=300, bias=True)\n",
            "      )\n",
            "    )\n",
            "    (list_embedding_1): FlairEmbeddings(\n",
            "      (lm): LanguageModel(\n",
            "        (drop): Dropout(p=0.05, inplace=False)\n",
            "        (encoder): Embedding(300, 100)\n",
            "        (rnn): LSTM(100, 2048)\n",
            "        (decoder): Linear(in_features=2048, out_features=300, bias=True)\n",
            "      )\n",
            "    )\n",
            "  )\n",
            "  (word_dropout): WordDropout(p=0.05)\n",
            "  (locked_dropout): LockedDropout(p=0.5)\n",
            "  (embedding2nn): Linear(in_features=4096, out_features=4096, bias=True)\n",
            "  (rnn): LSTM(4096, 256, batch_first=True, bidirectional=True)\n",
            "  (linear): Linear(in_features=512, out_features=35, bias=True)\n",
            "  (loss_function): ViterbiLoss()\n",
            "  (crf): CRF()\n",
            ")\"\n",
            "2023-01-27 17:09:33,003 ----------------------------------------------------------------------------------------------------\n",
            "2023-01-27 17:09:33,007 Corpus: \"Corpus: 354 train + 24 dev + 24 test sentences\"\n",
            "2023-01-27 17:09:33,008 ----------------------------------------------------------------------------------------------------\n",
            "2023-01-27 17:09:33,012 Parameters:\n",
            "2023-01-27 17:09:33,013  - learning_rate: \"0.100000\"\n",
            "2023-01-27 17:09:33,015  - mini_batch_size: \"32\"\n",
            "2023-01-27 17:09:33,018  - patience: \"3\"\n",
            "2023-01-27 17:09:33,019  - anneal_factor: \"0.5\"\n",
            "2023-01-27 17:09:33,025  - max_epochs: \"50\"\n",
            "2023-01-27 17:09:33,027  - shuffle: \"True\"\n",
            "2023-01-27 17:09:33,033  - train_with_dev: \"False\"\n",
            "2023-01-27 17:09:33,034  - batch_growth_annealing: \"False\"\n",
            "2023-01-27 17:09:33,035 ----------------------------------------------------------------------------------------------------\n",
            "2023-01-27 17:09:33,038 Model training base path: \"resources/taggers/sota-ner-flair\"\n",
            "2023-01-27 17:09:33,040 ----------------------------------------------------------------------------------------------------\n",
            "2023-01-27 17:09:33,041 Device: cuda:0\n",
            "2023-01-27 17:09:33,042 ----------------------------------------------------------------------------------------------------\n",
            "2023-01-27 17:09:33,043 Embeddings storage mode: cpu\n",
            "2023-01-27 17:09:33,045 ----------------------------------------------------------------------------------------------------\n",
            "2023-01-27 17:09:33,111 epoch 1 - iter 1/12 - loss 3.88766405 - samples/sec: 507.20 - lr: 0.100000\n",
            "2023-01-27 17:09:33,160 epoch 1 - iter 2/12 - loss 3.73838302 - samples/sec: 687.17 - lr: 0.100000\n"
          ]
        },
        {
          "output_type": "stream",
          "name": "stderr",
          "text": [
            "/usr/local/lib/python3.8/dist-packages/flair/trainers/trainer.py:64: UserWarning: There should be no best model saved at epoch 1 except there is a model from previous trainings in your training folder. All previous best models will be deleted.\n",
            "  warnings.warn(\n"
          ]
        },
        {
          "output_type": "stream",
          "name": "stdout",
          "text": [
            "2023-01-27 17:09:33,203 epoch 1 - iter 3/12 - loss 3.59427922 - samples/sec: 882.51 - lr: 0.100000\n",
            "2023-01-27 17:09:33,248 epoch 1 - iter 4/12 - loss 3.50833435 - samples/sec: 750.54 - lr: 0.100000\n",
            "2023-01-27 17:09:33,299 epoch 1 - iter 5/12 - loss 3.57959323 - samples/sec: 692.43 - lr: 0.100000\n",
            "2023-01-27 17:09:33,350 epoch 1 - iter 6/12 - loss 3.53743284 - samples/sec: 653.67 - lr: 0.100000\n",
            "2023-01-27 17:09:33,396 epoch 1 - iter 7/12 - loss 3.42877097 - samples/sec: 749.42 - lr: 0.100000\n",
            "2023-01-27 17:09:33,442 epoch 1 - iter 8/12 - loss 3.30277822 - samples/sec: 766.96 - lr: 0.100000\n",
            "2023-01-27 17:09:33,492 epoch 1 - iter 9/12 - loss 3.15776081 - samples/sec: 672.61 - lr: 0.100000\n",
            "2023-01-27 17:09:33,536 epoch 1 - iter 10/12 - loss 3.00621442 - samples/sec: 761.67 - lr: 0.100000\n",
            "2023-01-27 17:09:33,579 epoch 1 - iter 11/12 - loss 2.87034478 - samples/sec: 802.65 - lr: 0.100000\n",
            "2023-01-27 17:09:33,597 epoch 1 - iter 12/12 - loss 2.85940032 - samples/sec: 2066.19 - lr: 0.100000\n",
            "2023-01-27 17:09:33,598 ----------------------------------------------------------------------------------------------------\n",
            "2023-01-27 17:09:33,603 EPOCH 1 done: loss 2.8594 - lr 0.100000\n"
          ]
        },
        {
          "output_type": "stream",
          "name": "stderr",
          "text": [
            "100%|██████████| 1/1 [00:00<00:00, 23.51it/s]"
          ]
        },
        {
          "output_type": "stream",
          "name": "stdout",
          "text": [
            "2023-01-27 17:09:33,655 Evaluating as a multi-label problem: False\n",
            "2023-01-27 17:09:33,674 DEV : loss 3.821397542953491 - f1-score (micro avg)  0.1272\n",
            "2023-01-27 17:09:33,677 BAD EPOCHS (no improvement): 0\n",
            "2023-01-27 17:09:33,683 saving best model\n"
          ]
        },
        {
          "output_type": "stream",
          "name": "stderr",
          "text": [
            "\n"
          ]
        },
        {
          "output_type": "stream",
          "name": "stdout",
          "text": [
            "2023-01-27 17:09:34,257 ----------------------------------------------------------------------------------------------------\n",
            "2023-01-27 17:09:34,305 epoch 2 - iter 1/12 - loss 2.62562931 - samples/sec: 753.71 - lr: 0.100000\n",
            "2023-01-27 17:09:34,370 epoch 2 - iter 2/12 - loss 2.18182911 - samples/sec: 525.28 - lr: 0.100000\n",
            "2023-01-27 17:09:34,419 epoch 2 - iter 3/12 - loss 2.01244202 - samples/sec: 695.11 - lr: 0.100000\n",
            "2023-01-27 17:09:34,467 epoch 2 - iter 4/12 - loss 1.91191080 - samples/sec: 704.74 - lr: 0.100000\n",
            "2023-01-27 17:09:34,511 epoch 2 - iter 5/12 - loss 1.82636570 - samples/sec: 763.43 - lr: 0.100000\n",
            "2023-01-27 17:09:34,555 epoch 2 - iter 6/12 - loss 1.77246931 - samples/sec: 753.87 - lr: 0.100000\n",
            "2023-01-27 17:09:34,605 epoch 2 - iter 7/12 - loss 1.72851353 - samples/sec: 666.25 - lr: 0.100000\n",
            "2023-01-27 17:09:34,652 epoch 2 - iter 8/12 - loss 1.71680934 - samples/sec: 716.55 - lr: 0.100000\n",
            "2023-01-27 17:09:34,693 epoch 2 - iter 9/12 - loss 1.68827453 - samples/sec: 810.11 - lr: 0.100000\n",
            "2023-01-27 17:09:34,736 epoch 2 - iter 10/12 - loss 1.63736698 - samples/sec: 784.98 - lr: 0.100000\n",
            "2023-01-27 17:09:34,778 epoch 2 - iter 11/12 - loss 1.61227875 - samples/sec: 791.83 - lr: 0.100000\n",
            "2023-01-27 17:09:34,797 epoch 2 - iter 12/12 - loss 1.61334347 - samples/sec: 1857.50 - lr: 0.100000\n",
            "2023-01-27 17:09:34,799 ----------------------------------------------------------------------------------------------------\n",
            "2023-01-27 17:09:34,802 EPOCH 2 done: loss 1.6133 - lr 0.100000\n"
          ]
        },
        {
          "output_type": "stream",
          "name": "stderr",
          "text": [
            "100%|██████████| 1/1 [00:00<00:00, 23.31it/s]"
          ]
        },
        {
          "output_type": "stream",
          "name": "stdout",
          "text": [
            "2023-01-27 17:09:34,855 Evaluating as a multi-label problem: False\n",
            "2023-01-27 17:09:34,871 DEV : loss 1.976034164428711 - f1-score (micro avg)  0.2486\n",
            "2023-01-27 17:09:34,877 BAD EPOCHS (no improvement): 0\n",
            "2023-01-27 17:09:34,880 saving best model\n"
          ]
        },
        {
          "output_type": "stream",
          "name": "stderr",
          "text": [
            "\n"
          ]
        },
        {
          "output_type": "stream",
          "name": "stdout",
          "text": [
            "2023-01-27 17:09:35,683 ----------------------------------------------------------------------------------------------------\n",
            "2023-01-27 17:09:35,727 epoch 3 - iter 1/12 - loss 0.99137581 - samples/sec: 815.30 - lr: 0.100000\n",
            "2023-01-27 17:09:35,770 epoch 3 - iter 2/12 - loss 1.03236607 - samples/sec: 817.72 - lr: 0.100000\n",
            "2023-01-27 17:09:35,814 epoch 3 - iter 3/12 - loss 0.95761899 - samples/sec: 770.87 - lr: 0.100000\n",
            "2023-01-27 17:09:35,854 epoch 3 - iter 4/12 - loss 0.94169802 - samples/sec: 850.99 - lr: 0.100000\n",
            "2023-01-27 17:09:35,899 epoch 3 - iter 5/12 - loss 1.00993276 - samples/sec: 741.23 - lr: 0.100000\n",
            "2023-01-27 17:09:35,944 epoch 3 - iter 6/12 - loss 1.00027969 - samples/sec: 738.21 - lr: 0.100000\n",
            "2023-01-27 17:09:35,991 epoch 3 - iter 7/12 - loss 1.00289726 - samples/sec: 710.00 - lr: 0.100000\n",
            "2023-01-27 17:09:36,039 epoch 3 - iter 8/12 - loss 1.02361767 - samples/sec: 727.39 - lr: 0.100000\n",
            "2023-01-27 17:09:36,087 epoch 3 - iter 9/12 - loss 1.02527931 - samples/sec: 709.20 - lr: 0.100000\n",
            "2023-01-27 17:09:36,141 epoch 3 - iter 10/12 - loss 1.03387153 - samples/sec: 655.06 - lr: 0.100000\n",
            "2023-01-27 17:09:36,185 epoch 3 - iter 11/12 - loss 1.01171355 - samples/sec: 767.12 - lr: 0.100000\n",
            "2023-01-27 17:09:36,205 epoch 3 - iter 12/12 - loss 1.01865108 - samples/sec: 1826.27 - lr: 0.100000\n",
            "2023-01-27 17:09:36,207 ----------------------------------------------------------------------------------------------------\n",
            "2023-01-27 17:09:36,213 EPOCH 3 done: loss 1.0187 - lr 0.100000\n"
          ]
        },
        {
          "output_type": "stream",
          "name": "stderr",
          "text": [
            "100%|██████████| 1/1 [00:00<00:00, 23.09it/s]"
          ]
        },
        {
          "output_type": "stream",
          "name": "stdout",
          "text": [
            "2023-01-27 17:09:36,266 Evaluating as a multi-label problem: False\n",
            "2023-01-27 17:09:36,278 DEV : loss 1.5802427530288696 - f1-score (micro avg)  0.4162\n",
            "2023-01-27 17:09:36,281 BAD EPOCHS (no improvement): 0\n",
            "2023-01-27 17:09:36,288 saving best model\n"
          ]
        },
        {
          "output_type": "stream",
          "name": "stderr",
          "text": [
            "\n"
          ]
        },
        {
          "output_type": "stream",
          "name": "stdout",
          "text": [
            "2023-01-27 17:09:36,929 ----------------------------------------------------------------------------------------------------\n",
            "2023-01-27 17:09:36,972 epoch 4 - iter 1/12 - loss 0.88837104 - samples/sec: 794.65 - lr: 0.100000\n",
            "2023-01-27 17:09:37,023 epoch 4 - iter 2/12 - loss 0.83261750 - samples/sec: 654.16 - lr: 0.100000\n",
            "2023-01-27 17:09:37,068 epoch 4 - iter 3/12 - loss 0.95623813 - samples/sec: 749.57 - lr: 0.100000\n",
            "2023-01-27 17:09:37,111 epoch 4 - iter 4/12 - loss 0.92085625 - samples/sec: 785.69 - lr: 0.100000\n",
            "2023-01-27 17:09:37,164 epoch 4 - iter 5/12 - loss 0.85856595 - samples/sec: 615.62 - lr: 0.100000\n",
            "2023-01-27 17:09:37,207 epoch 4 - iter 6/12 - loss 0.85338314 - samples/sec: 788.15 - lr: 0.100000\n",
            "2023-01-27 17:09:37,250 epoch 4 - iter 7/12 - loss 0.87508547 - samples/sec: 758.83 - lr: 0.100000\n",
            "2023-01-27 17:09:37,295 epoch 4 - iter 8/12 - loss 0.83328803 - samples/sec: 746.21 - lr: 0.100000\n",
            "2023-01-27 17:09:37,339 epoch 4 - iter 9/12 - loss 0.80413813 - samples/sec: 760.93 - lr: 0.100000\n",
            "2023-01-27 17:09:37,383 epoch 4 - iter 10/12 - loss 0.78416819 - samples/sec: 745.36 - lr: 0.100000\n",
            "2023-01-27 17:09:37,430 epoch 4 - iter 11/12 - loss 0.77256139 - samples/sec: 705.37 - lr: 0.100000\n",
            "2023-01-27 17:09:37,448 epoch 4 - iter 12/12 - loss 0.77126168 - samples/sec: 2116.67 - lr: 0.100000\n",
            "2023-01-27 17:09:37,450 ----------------------------------------------------------------------------------------------------\n",
            "2023-01-27 17:09:37,453 EPOCH 4 done: loss 0.7713 - lr 0.100000\n"
          ]
        },
        {
          "output_type": "stream",
          "name": "stderr",
          "text": [
            "100%|██████████| 1/1 [00:00<00:00, 24.10it/s]"
          ]
        },
        {
          "output_type": "stream",
          "name": "stdout",
          "text": [
            "2023-01-27 17:09:37,501 Evaluating as a multi-label problem: False\n",
            "2023-01-27 17:09:37,515 DEV : loss 1.2149782180786133 - f1-score (micro avg)  0.675\n",
            "2023-01-27 17:09:37,522 BAD EPOCHS (no improvement): 0\n",
            "2023-01-27 17:09:37,524 saving best model\n"
          ]
        },
        {
          "output_type": "stream",
          "name": "stderr",
          "text": [
            "\n"
          ]
        },
        {
          "output_type": "stream",
          "name": "stdout",
          "text": [
            "2023-01-27 17:09:38,221 ----------------------------------------------------------------------------------------------------\n",
            "2023-01-27 17:09:38,275 epoch 5 - iter 1/12 - loss 0.54806263 - samples/sec: 637.88 - lr: 0.100000\n",
            "2023-01-27 17:09:38,321 epoch 5 - iter 2/12 - loss 0.62779603 - samples/sec: 722.87 - lr: 0.100000\n",
            "2023-01-27 17:09:38,376 epoch 5 - iter 3/12 - loss 0.69869300 - samples/sec: 696.19 - lr: 0.100000\n",
            "2023-01-27 17:09:38,427 epoch 5 - iter 4/12 - loss 0.68997552 - samples/sec: 683.08 - lr: 0.100000\n",
            "2023-01-27 17:09:38,471 epoch 5 - iter 5/12 - loss 0.69813216 - samples/sec: 776.97 - lr: 0.100000\n",
            "2023-01-27 17:09:38,513 epoch 5 - iter 6/12 - loss 0.67253732 - samples/sec: 811.30 - lr: 0.100000\n",
            "2023-01-27 17:09:38,556 epoch 5 - iter 7/12 - loss 0.64065198 - samples/sec: 795.14 - lr: 0.100000\n",
            "2023-01-27 17:09:38,598 epoch 5 - iter 8/12 - loss 0.61849375 - samples/sec: 804.15 - lr: 0.100000\n",
            "2023-01-27 17:09:38,639 epoch 5 - iter 9/12 - loss 0.62551680 - samples/sec: 836.56 - lr: 0.100000\n",
            "2023-01-27 17:09:38,679 epoch 5 - iter 10/12 - loss 0.60596207 - samples/sec: 829.93 - lr: 0.100000\n",
            "2023-01-27 17:09:38,722 epoch 5 - iter 11/12 - loss 0.61604077 - samples/sec: 776.85 - lr: 0.100000\n",
            "2023-01-27 17:09:38,740 epoch 5 - iter 12/12 - loss 0.61470149 - samples/sec: 2009.55 - lr: 0.100000\n",
            "2023-01-27 17:09:38,742 ----------------------------------------------------------------------------------------------------\n",
            "2023-01-27 17:09:38,745 EPOCH 5 done: loss 0.6147 - lr 0.100000\n"
          ]
        },
        {
          "output_type": "stream",
          "name": "stderr",
          "text": [
            "100%|██████████| 1/1 [00:00<00:00, 24.02it/s]"
          ]
        },
        {
          "output_type": "stream",
          "name": "stdout",
          "text": [
            "2023-01-27 17:09:38,794 Evaluating as a multi-label problem: False\n",
            "2023-01-27 17:09:38,805 DEV : loss 1.1610045433044434 - f1-score (micro avg)  0.6879\n",
            "2023-01-27 17:09:38,808 BAD EPOCHS (no improvement): 0\n",
            "2023-01-27 17:09:38,813 saving best model\n"
          ]
        },
        {
          "output_type": "stream",
          "name": "stderr",
          "text": [
            "\n"
          ]
        },
        {
          "output_type": "stream",
          "name": "stdout",
          "text": [
            "2023-01-27 17:09:39,534 ----------------------------------------------------------------------------------------------------\n",
            "2023-01-27 17:09:39,580 epoch 6 - iter 1/12 - loss 0.42671239 - samples/sec: 745.54 - lr: 0.100000\n",
            "2023-01-27 17:09:39,626 epoch 6 - iter 2/12 - loss 0.38947371 - samples/sec: 735.46 - lr: 0.100000\n",
            "2023-01-27 17:09:39,682 epoch 6 - iter 3/12 - loss 0.45693530 - samples/sec: 626.37 - lr: 0.100000\n",
            "2023-01-27 17:09:39,723 epoch 6 - iter 4/12 - loss 0.46851886 - samples/sec: 842.31 - lr: 0.100000\n",
            "2023-01-27 17:09:39,762 epoch 6 - iter 5/12 - loss 0.46935379 - samples/sec: 869.79 - lr: 0.100000\n",
            "2023-01-27 17:09:39,804 epoch 6 - iter 6/12 - loss 0.51403415 - samples/sec: 805.21 - lr: 0.100000\n",
            "2023-01-27 17:09:39,849 epoch 6 - iter 7/12 - loss 0.52627348 - samples/sec: 764.69 - lr: 0.100000\n",
            "2023-01-27 17:09:39,888 epoch 6 - iter 8/12 - loss 0.53569931 - samples/sec: 858.70 - lr: 0.100000\n",
            "2023-01-27 17:09:39,931 epoch 6 - iter 9/12 - loss 0.54480268 - samples/sec: 776.95 - lr: 0.100000\n",
            "2023-01-27 17:09:39,972 epoch 6 - iter 10/12 - loss 0.53583028 - samples/sec: 827.32 - lr: 0.100000\n",
            "2023-01-27 17:09:40,017 epoch 6 - iter 11/12 - loss 0.53084290 - samples/sec: 742.89 - lr: 0.100000\n",
            "2023-01-27 17:09:40,032 epoch 6 - iter 12/12 - loss 0.53274788 - samples/sec: 2560.38 - lr: 0.100000\n",
            "2023-01-27 17:09:40,034 ----------------------------------------------------------------------------------------------------\n",
            "2023-01-27 17:09:40,037 EPOCH 6 done: loss 0.5327 - lr 0.100000\n"
          ]
        },
        {
          "output_type": "stream",
          "name": "stderr",
          "text": [
            "100%|██████████| 1/1 [00:00<00:00, 24.85it/s]"
          ]
        },
        {
          "output_type": "stream",
          "name": "stdout",
          "text": [
            "2023-01-27 17:09:40,089 Evaluating as a multi-label problem: False\n",
            "2023-01-27 17:09:40,099 DEV : loss 1.0468510389328003 - f1-score (micro avg)  0.6736\n",
            "2023-01-27 17:09:40,106 BAD EPOCHS (no improvement): 1\n",
            "2023-01-27 17:09:40,111 ----------------------------------------------------------------------------------------------------\n",
            "2023-01-27 17:09:40,156 epoch 7 - iter 1/12 - loss 0.67099600 - samples/sec: 765.39 - lr: 0.100000\n",
            "2023-01-27 17:09:40,199 epoch 7 - iter 2/12 - loss 0.55126833 - samples/sec: 802.15 - lr: 0.100000\n"
          ]
        },
        {
          "output_type": "stream",
          "name": "stderr",
          "text": [
            "\n"
          ]
        },
        {
          "output_type": "stream",
          "name": "stdout",
          "text": [
            "2023-01-27 17:09:40,249 epoch 7 - iter 3/12 - loss 0.51292582 - samples/sec: 660.19 - lr: 0.100000\n",
            "2023-01-27 17:09:40,288 epoch 7 - iter 4/12 - loss 0.49638864 - samples/sec: 913.70 - lr: 0.100000\n",
            "2023-01-27 17:09:40,330 epoch 7 - iter 5/12 - loss 0.48919578 - samples/sec: 807.88 - lr: 0.100000\n",
            "2023-01-27 17:09:40,372 epoch 7 - iter 6/12 - loss 0.45909433 - samples/sec: 820.12 - lr: 0.100000\n",
            "2023-01-27 17:09:40,417 epoch 7 - iter 7/12 - loss 0.46828389 - samples/sec: 732.03 - lr: 0.100000\n",
            "2023-01-27 17:09:40,464 epoch 7 - iter 8/12 - loss 0.47297443 - samples/sec: 706.19 - lr: 0.100000\n",
            "2023-01-27 17:09:40,505 epoch 7 - iter 9/12 - loss 0.47358871 - samples/sec: 848.95 - lr: 0.100000\n",
            "2023-01-27 17:09:40,548 epoch 7 - iter 10/12 - loss 0.47138479 - samples/sec: 763.29 - lr: 0.100000\n",
            "2023-01-27 17:09:40,591 epoch 7 - iter 11/12 - loss 0.46338506 - samples/sec: 783.25 - lr: 0.100000\n",
            "2023-01-27 17:09:40,609 epoch 7 - iter 12/12 - loss 0.46395563 - samples/sec: 1957.10 - lr: 0.100000\n",
            "2023-01-27 17:09:40,611 ----------------------------------------------------------------------------------------------------\n",
            "2023-01-27 17:09:40,613 EPOCH 7 done: loss 0.4640 - lr 0.100000\n"
          ]
        },
        {
          "output_type": "stream",
          "name": "stderr",
          "text": [
            "100%|██████████| 1/1 [00:00<00:00, 24.02it/s]"
          ]
        },
        {
          "output_type": "stream",
          "name": "stdout",
          "text": [
            "2023-01-27 17:09:40,664 Evaluating as a multi-label problem: False\n",
            "2023-01-27 17:09:40,674 DEV : loss 0.9849593043327332 - f1-score (micro avg)  0.6918\n",
            "2023-01-27 17:09:40,678 BAD EPOCHS (no improvement): 0\n",
            "2023-01-27 17:09:40,679 saving best model\n"
          ]
        },
        {
          "output_type": "stream",
          "name": "stderr",
          "text": [
            "\n"
          ]
        },
        {
          "output_type": "stream",
          "name": "stdout",
          "text": [
            "2023-01-27 17:09:41,316 ----------------------------------------------------------------------------------------------------\n",
            "2023-01-27 17:09:41,366 epoch 8 - iter 1/12 - loss 0.39941967 - samples/sec: 751.83 - lr: 0.100000\n",
            "2023-01-27 17:09:41,419 epoch 8 - iter 2/12 - loss 0.44865277 - samples/sec: 636.96 - lr: 0.100000\n",
            "2023-01-27 17:09:41,464 epoch 8 - iter 3/12 - loss 0.42402211 - samples/sec: 757.73 - lr: 0.100000\n",
            "2023-01-27 17:09:41,505 epoch 8 - iter 4/12 - loss 0.44865827 - samples/sec: 830.76 - lr: 0.100000\n",
            "2023-01-27 17:09:41,556 epoch 8 - iter 5/12 - loss 0.43773994 - samples/sec: 733.70 - lr: 0.100000\n",
            "2023-01-27 17:09:41,597 epoch 8 - iter 6/12 - loss 0.42889197 - samples/sec: 824.86 - lr: 0.100000\n",
            "2023-01-27 17:09:41,640 epoch 8 - iter 7/12 - loss 0.41447373 - samples/sec: 792.55 - lr: 0.100000\n",
            "2023-01-27 17:09:41,680 epoch 8 - iter 8/12 - loss 0.41214525 - samples/sec: 854.45 - lr: 0.100000\n",
            "2023-01-27 17:09:41,723 epoch 8 - iter 9/12 - loss 0.41172579 - samples/sec: 793.92 - lr: 0.100000\n",
            "2023-01-27 17:09:41,765 epoch 8 - iter 10/12 - loss 0.43392454 - samples/sec: 796.46 - lr: 0.100000\n",
            "2023-01-27 17:09:41,806 epoch 8 - iter 11/12 - loss 0.42233084 - samples/sec: 832.82 - lr: 0.100000\n",
            "2023-01-27 17:09:41,824 epoch 8 - iter 12/12 - loss 0.42023786 - samples/sec: 1979.09 - lr: 0.100000\n",
            "2023-01-27 17:09:41,826 ----------------------------------------------------------------------------------------------------\n",
            "2023-01-27 17:09:41,828 EPOCH 8 done: loss 0.4202 - lr 0.100000\n"
          ]
        },
        {
          "output_type": "stream",
          "name": "stderr",
          "text": [
            "100%|██████████| 1/1 [00:00<00:00, 22.19it/s]"
          ]
        },
        {
          "output_type": "stream",
          "name": "stdout",
          "text": [
            "2023-01-27 17:09:41,885 Evaluating as a multi-label problem: False\n",
            "2023-01-27 17:09:41,897 DEV : loss 0.7233941555023193 - f1-score (micro avg)  0.8485\n",
            "2023-01-27 17:09:41,900 BAD EPOCHS (no improvement): 0\n",
            "2023-01-27 17:09:41,903 saving best model\n"
          ]
        },
        {
          "output_type": "stream",
          "name": "stderr",
          "text": [
            "\n"
          ]
        },
        {
          "output_type": "stream",
          "name": "stdout",
          "text": [
            "2023-01-27 17:09:42,554 ----------------------------------------------------------------------------------------------------\n",
            "2023-01-27 17:09:42,604 epoch 9 - iter 1/12 - loss 0.42901733 - samples/sec: 715.37 - lr: 0.100000\n",
            "2023-01-27 17:09:42,651 epoch 9 - iter 2/12 - loss 0.34054143 - samples/sec: 708.51 - lr: 0.100000\n",
            "2023-01-27 17:09:42,711 epoch 9 - iter 3/12 - loss 0.38822455 - samples/sec: 602.85 - lr: 0.100000\n",
            "2023-01-27 17:09:42,753 epoch 9 - iter 4/12 - loss 0.38738996 - samples/sec: 786.33 - lr: 0.100000\n",
            "2023-01-27 17:09:42,800 epoch 9 - iter 5/12 - loss 0.36390838 - samples/sec: 705.79 - lr: 0.100000\n",
            "2023-01-27 17:09:42,844 epoch 9 - iter 6/12 - loss 0.38636446 - samples/sec: 781.39 - lr: 0.100000\n",
            "2023-01-27 17:09:42,890 epoch 9 - iter 7/12 - loss 0.39035223 - samples/sec: 710.17 - lr: 0.100000\n",
            "2023-01-27 17:09:42,935 epoch 9 - iter 8/12 - loss 0.39017284 - samples/sec: 752.10 - lr: 0.100000\n",
            "2023-01-27 17:09:42,978 epoch 9 - iter 9/12 - loss 0.38608253 - samples/sec: 775.74 - lr: 0.100000\n",
            "2023-01-27 17:09:43,020 epoch 9 - iter 10/12 - loss 0.38403464 - samples/sec: 795.15 - lr: 0.100000\n",
            "2023-01-27 17:09:43,065 epoch 9 - iter 11/12 - loss 0.38675821 - samples/sec: 739.84 - lr: 0.100000\n",
            "2023-01-27 17:09:43,083 epoch 9 - iter 12/12 - loss 0.38528243 - samples/sec: 1977.54 - lr: 0.100000\n",
            "2023-01-27 17:09:43,084 ----------------------------------------------------------------------------------------------------\n",
            "2023-01-27 17:09:43,087 EPOCH 9 done: loss 0.3853 - lr 0.100000\n"
          ]
        },
        {
          "output_type": "stream",
          "name": "stderr",
          "text": [
            "100%|██████████| 1/1 [00:00<00:00, 23.17it/s]"
          ]
        },
        {
          "output_type": "stream",
          "name": "stdout",
          "text": [
            "2023-01-27 17:09:43,141 Evaluating as a multi-label problem: False\n",
            "2023-01-27 17:09:43,155 DEV : loss 0.6423113346099854 - f1-score (micro avg)  0.8343\n",
            "2023-01-27 17:09:43,159 BAD EPOCHS (no improvement): 1\n",
            "2023-01-27 17:09:43,161 ----------------------------------------------------------------------------------------------------\n",
            "2023-01-27 17:09:43,207 epoch 10 - iter 1/12 - loss 0.35645092 - samples/sec: 807.42 - lr: 0.100000\n",
            "2023-01-27 17:09:43,247 epoch 10 - iter 2/12 - loss 0.41703943 - samples/sec: 838.26 - lr: 0.100000\n",
            "2023-01-27 17:09:43,294 epoch 10 - iter 3/12 - loss 0.47040757 - samples/sec: 707.56 - lr: 0.100000\n"
          ]
        },
        {
          "output_type": "stream",
          "name": "stderr",
          "text": [
            "\n"
          ]
        },
        {
          "output_type": "stream",
          "name": "stdout",
          "text": [
            "2023-01-27 17:09:43,342 epoch 10 - iter 4/12 - loss 0.41666162 - samples/sec: 700.05 - lr: 0.100000\n",
            "2023-01-27 17:09:43,384 epoch 10 - iter 5/12 - loss 0.37444106 - samples/sec: 816.07 - lr: 0.100000\n",
            "2023-01-27 17:09:43,425 epoch 10 - iter 6/12 - loss 0.34692969 - samples/sec: 810.62 - lr: 0.100000\n",
            "2023-01-27 17:09:43,480 epoch 10 - iter 7/12 - loss 0.36216657 - samples/sec: 635.24 - lr: 0.100000\n",
            "2023-01-27 17:09:43,524 epoch 10 - iter 8/12 - loss 0.36592252 - samples/sec: 769.60 - lr: 0.100000\n",
            "2023-01-27 17:09:43,565 epoch 10 - iter 9/12 - loss 0.34608679 - samples/sec: 811.25 - lr: 0.100000\n",
            "2023-01-27 17:09:43,606 epoch 10 - iter 10/12 - loss 0.34075038 - samples/sec: 825.49 - lr: 0.100000\n",
            "2023-01-27 17:09:43,646 epoch 10 - iter 11/12 - loss 0.33176562 - samples/sec: 854.74 - lr: 0.100000\n",
            "2023-01-27 17:09:43,664 epoch 10 - iter 12/12 - loss 0.33082044 - samples/sec: 2048.66 - lr: 0.100000\n",
            "2023-01-27 17:09:43,665 ----------------------------------------------------------------------------------------------------\n",
            "2023-01-27 17:09:43,668 EPOCH 10 done: loss 0.3308 - lr 0.100000\n"
          ]
        },
        {
          "output_type": "stream",
          "name": "stderr",
          "text": [
            "100%|██████████| 1/1 [00:00<00:00, 24.38it/s]"
          ]
        },
        {
          "output_type": "stream",
          "name": "stdout",
          "text": [
            "2023-01-27 17:09:43,718 Evaluating as a multi-label problem: False\n",
            "2023-01-27 17:09:43,730 DEV : loss 0.7232666015625 - f1-score (micro avg)  0.775\n",
            "2023-01-27 17:09:43,734 BAD EPOCHS (no improvement): 2\n",
            "2023-01-27 17:09:43,738 ----------------------------------------------------------------------------------------------------\n",
            "2023-01-27 17:09:43,785 epoch 11 - iter 1/12 - loss 0.35407405 - samples/sec: 749.18 - lr: 0.100000\n",
            "2023-01-27 17:09:43,831 epoch 11 - iter 2/12 - loss 0.28415804 - samples/sec: 713.40 - lr: 0.100000\n",
            "2023-01-27 17:09:43,868 epoch 11 - iter 3/12 - loss 0.27414601 - samples/sec: 915.27 - lr: 0.100000\n"
          ]
        },
        {
          "output_type": "stream",
          "name": "stderr",
          "text": [
            "\n"
          ]
        },
        {
          "output_type": "stream",
          "name": "stdout",
          "text": [
            "2023-01-27 17:09:43,908 epoch 11 - iter 4/12 - loss 0.28025654 - samples/sec: 827.36 - lr: 0.100000\n",
            "2023-01-27 17:09:43,951 epoch 11 - iter 5/12 - loss 0.26454413 - samples/sec: 783.93 - lr: 0.100000\n",
            "2023-01-27 17:09:43,990 epoch 11 - iter 6/12 - loss 0.26264401 - samples/sec: 854.94 - lr: 0.100000\n",
            "2023-01-27 17:09:44,031 epoch 11 - iter 7/12 - loss 0.28031721 - samples/sec: 826.86 - lr: 0.100000\n",
            "2023-01-27 17:09:44,076 epoch 11 - iter 8/12 - loss 0.29236024 - samples/sec: 735.50 - lr: 0.100000\n",
            "2023-01-27 17:09:44,119 epoch 11 - iter 9/12 - loss 0.29586577 - samples/sec: 778.30 - lr: 0.100000\n",
            "2023-01-27 17:09:44,162 epoch 11 - iter 10/12 - loss 0.29576138 - samples/sec: 786.59 - lr: 0.100000\n",
            "2023-01-27 17:09:44,203 epoch 11 - iter 11/12 - loss 0.30294959 - samples/sec: 817.77 - lr: 0.100000\n",
            "2023-01-27 17:09:44,223 epoch 11 - iter 12/12 - loss 0.30770247 - samples/sec: 1754.64 - lr: 0.100000\n",
            "2023-01-27 17:09:44,224 ----------------------------------------------------------------------------------------------------\n",
            "2023-01-27 17:09:44,227 EPOCH 11 done: loss 0.3077 - lr 0.100000\n"
          ]
        },
        {
          "output_type": "stream",
          "name": "stderr",
          "text": [
            "100%|██████████| 1/1 [00:00<00:00, 24.73it/s]"
          ]
        },
        {
          "output_type": "stream",
          "name": "stdout",
          "text": [
            "2023-01-27 17:09:44,276 Evaluating as a multi-label problem: False\n",
            "2023-01-27 17:09:44,293 DEV : loss 0.6599087119102478 - f1-score (micro avg)  0.8249\n",
            "2023-01-27 17:09:44,298 BAD EPOCHS (no improvement): 3\n",
            "2023-01-27 17:09:44,300 ----------------------------------------------------------------------------------------------------\n",
            "2023-01-27 17:09:44,349 epoch 12 - iter 1/12 - loss 0.24580169 - samples/sec: 688.26 - lr: 0.100000\n",
            "2023-01-27 17:09:44,389 epoch 12 - iter 2/12 - loss 0.20138752 - samples/sec: 911.20 - lr: 0.100000\n",
            "2023-01-27 17:09:44,431 epoch 12 - iter 3/12 - loss 0.27249466 - samples/sec: 807.01 - lr: 0.100000\n"
          ]
        },
        {
          "output_type": "stream",
          "name": "stderr",
          "text": [
            "\n"
          ]
        },
        {
          "output_type": "stream",
          "name": "stdout",
          "text": [
            "2023-01-27 17:09:44,476 epoch 12 - iter 4/12 - loss 0.29102546 - samples/sec: 842.03 - lr: 0.100000\n",
            "2023-01-27 17:09:44,519 epoch 12 - iter 5/12 - loss 0.30091236 - samples/sec: 834.40 - lr: 0.100000\n",
            "2023-01-27 17:09:44,562 epoch 12 - iter 6/12 - loss 0.30253116 - samples/sec: 788.68 - lr: 0.100000\n",
            "2023-01-27 17:09:44,600 epoch 12 - iter 7/12 - loss 0.27302036 - samples/sec: 902.99 - lr: 0.100000\n",
            "2023-01-27 17:09:44,640 epoch 12 - iter 8/12 - loss 0.28322421 - samples/sec: 840.74 - lr: 0.100000\n",
            "2023-01-27 17:09:44,683 epoch 12 - iter 9/12 - loss 0.28564665 - samples/sec: 822.37 - lr: 0.100000\n",
            "2023-01-27 17:09:44,725 epoch 12 - iter 10/12 - loss 0.28319530 - samples/sec: 811.85 - lr: 0.100000\n",
            "2023-01-27 17:09:44,765 epoch 12 - iter 11/12 - loss 0.29141614 - samples/sec: 841.56 - lr: 0.100000\n",
            "2023-01-27 17:09:44,783 epoch 12 - iter 12/12 - loss 0.29422523 - samples/sec: 2000.14 - lr: 0.100000\n",
            "2023-01-27 17:09:44,785 ----------------------------------------------------------------------------------------------------\n",
            "2023-01-27 17:09:44,788 EPOCH 12 done: loss 0.2942 - lr 0.100000\n"
          ]
        },
        {
          "output_type": "stream",
          "name": "stderr",
          "text": [
            "100%|██████████| 1/1 [00:00<00:00, 23.07it/s]"
          ]
        },
        {
          "output_type": "stream",
          "name": "stdout",
          "text": [
            "2023-01-27 17:09:44,843 Evaluating as a multi-label problem: False\n",
            "2023-01-27 17:09:44,853 DEV : loss 0.679093599319458 - f1-score (micro avg)  0.7765\n",
            "2023-01-27 17:09:44,857 Epoch    12: reducing learning rate of group 0 to 5.0000e-02.\n",
            "2023-01-27 17:09:44,859 BAD EPOCHS (no improvement): 4\n",
            "2023-01-27 17:09:44,866 ----------------------------------------------------------------------------------------------------\n",
            "2023-01-27 17:09:44,906 epoch 13 - iter 1/12 - loss 0.29728866 - samples/sec: 860.41 - lr: 0.050000\n",
            "2023-01-27 17:09:44,947 epoch 13 - iter 2/12 - loss 0.21802332 - samples/sec: 808.36 - lr: 0.050000\n",
            "2023-01-27 17:09:44,988 epoch 13 - iter 3/12 - loss 0.23806767 - samples/sec: 815.31 - lr: 0.050000\n"
          ]
        },
        {
          "output_type": "stream",
          "name": "stderr",
          "text": [
            "\n"
          ]
        },
        {
          "output_type": "stream",
          "name": "stdout",
          "text": [
            "2023-01-27 17:09:45,029 epoch 13 - iter 4/12 - loss 0.22662413 - samples/sec: 831.17 - lr: 0.050000\n",
            "2023-01-27 17:09:45,071 epoch 13 - iter 5/12 - loss 0.22441632 - samples/sec: 885.41 - lr: 0.050000\n",
            "2023-01-27 17:09:45,113 epoch 13 - iter 6/12 - loss 0.22745811 - samples/sec: 793.66 - lr: 0.050000\n",
            "2023-01-27 17:09:45,155 epoch 13 - iter 7/12 - loss 0.22690750 - samples/sec: 816.23 - lr: 0.050000\n",
            "2023-01-27 17:09:45,192 epoch 13 - iter 8/12 - loss 0.23775843 - samples/sec: 925.81 - lr: 0.050000\n",
            "2023-01-27 17:09:45,230 epoch 13 - iter 9/12 - loss 0.23530583 - samples/sec: 933.36 - lr: 0.050000\n",
            "2023-01-27 17:09:45,269 epoch 13 - iter 10/12 - loss 0.24044732 - samples/sec: 881.08 - lr: 0.050000\n",
            "2023-01-27 17:09:45,311 epoch 13 - iter 11/12 - loss 0.25015401 - samples/sec: 803.15 - lr: 0.050000\n",
            "2023-01-27 17:09:45,336 epoch 13 - iter 12/12 - loss 0.25427666 - samples/sec: 1583.11 - lr: 0.050000\n",
            "2023-01-27 17:09:45,340 ----------------------------------------------------------------------------------------------------\n",
            "2023-01-27 17:09:45,341 EPOCH 13 done: loss 0.2543 - lr 0.050000\n"
          ]
        },
        {
          "output_type": "stream",
          "name": "stderr",
          "text": [
            "100%|██████████| 1/1 [00:00<00:00, 26.44it/s]"
          ]
        },
        {
          "output_type": "stream",
          "name": "stdout",
          "text": [
            "2023-01-27 17:09:45,390 Evaluating as a multi-label problem: False\n",
            "2023-01-27 17:09:45,400 DEV : loss 0.5010471940040588 - f1-score (micro avg)  0.8276\n",
            "2023-01-27 17:09:45,403 BAD EPOCHS (no improvement): 1\n",
            "2023-01-27 17:09:45,408 ----------------------------------------------------------------------------------------------------\n",
            "2023-01-27 17:09:45,454 epoch 14 - iter 1/12 - loss 0.26904588 - samples/sec: 833.75 - lr: 0.050000\n",
            "2023-01-27 17:09:45,495 epoch 14 - iter 2/12 - loss 0.24859887 - samples/sec: 828.60 - lr: 0.050000\n",
            "2023-01-27 17:09:45,538 epoch 14 - iter 3/12 - loss 0.24151733 - samples/sec: 797.00 - lr: 0.050000\n"
          ]
        },
        {
          "output_type": "stream",
          "name": "stderr",
          "text": [
            "\n"
          ]
        },
        {
          "output_type": "stream",
          "name": "stdout",
          "text": [
            "2023-01-27 17:09:45,580 epoch 14 - iter 4/12 - loss 0.20615161 - samples/sec: 786.47 - lr: 0.050000\n",
            "2023-01-27 17:09:45,622 epoch 14 - iter 5/12 - loss 0.21009059 - samples/sec: 806.92 - lr: 0.050000\n",
            "2023-01-27 17:09:45,660 epoch 14 - iter 6/12 - loss 0.21430793 - samples/sec: 881.04 - lr: 0.050000\n",
            "2023-01-27 17:09:45,701 epoch 14 - iter 7/12 - loss 0.22806690 - samples/sec: 842.50 - lr: 0.050000\n",
            "2023-01-27 17:09:45,739 epoch 14 - iter 8/12 - loss 0.23506046 - samples/sec: 865.22 - lr: 0.050000\n",
            "2023-01-27 17:09:45,784 epoch 14 - iter 9/12 - loss 0.23666515 - samples/sec: 748.45 - lr: 0.050000\n",
            "2023-01-27 17:09:45,824 epoch 14 - iter 10/12 - loss 0.23253149 - samples/sec: 836.30 - lr: 0.050000\n",
            "2023-01-27 17:09:45,867 epoch 14 - iter 11/12 - loss 0.22554409 - samples/sec: 785.80 - lr: 0.050000\n",
            "2023-01-27 17:09:45,889 epoch 14 - iter 12/12 - loss 0.22616822 - samples/sec: 1772.23 - lr: 0.050000\n",
            "2023-01-27 17:09:45,891 ----------------------------------------------------------------------------------------------------\n",
            "2023-01-27 17:09:45,894 EPOCH 14 done: loss 0.2262 - lr 0.050000\n"
          ]
        },
        {
          "output_type": "stream",
          "name": "stderr",
          "text": [
            "100%|██████████| 1/1 [00:00<00:00, 22.60it/s]"
          ]
        },
        {
          "output_type": "stream",
          "name": "stdout",
          "text": [
            "2023-01-27 17:09:45,945 Evaluating as a multi-label problem: False\n",
            "2023-01-27 17:09:45,956 DEV : loss 0.45561784505844116 - f1-score (micro avg)  0.8621\n",
            "2023-01-27 17:09:45,962 BAD EPOCHS (no improvement): 0\n",
            "2023-01-27 17:09:45,967 saving best model\n"
          ]
        },
        {
          "output_type": "stream",
          "name": "stderr",
          "text": [
            "\n"
          ]
        },
        {
          "output_type": "stream",
          "name": "stdout",
          "text": [
            "2023-01-27 17:09:46,577 ----------------------------------------------------------------------------------------------------\n",
            "2023-01-27 17:09:46,624 epoch 15 - iter 1/12 - loss 0.30120592 - samples/sec: 732.32 - lr: 0.050000\n",
            "2023-01-27 17:09:46,680 epoch 15 - iter 2/12 - loss 0.21678762 - samples/sec: 610.61 - lr: 0.050000\n",
            "2023-01-27 17:09:46,734 epoch 15 - iter 3/12 - loss 0.20167894 - samples/sec: 747.17 - lr: 0.050000\n",
            "2023-01-27 17:09:46,774 epoch 15 - iter 4/12 - loss 0.21500691 - samples/sec: 835.63 - lr: 0.050000\n",
            "2023-01-27 17:09:46,825 epoch 15 - iter 5/12 - loss 0.21839956 - samples/sec: 652.11 - lr: 0.050000\n",
            "2023-01-27 17:09:46,864 epoch 15 - iter 6/12 - loss 0.20689115 - samples/sec: 872.57 - lr: 0.050000\n",
            "2023-01-27 17:09:46,905 epoch 15 - iter 7/12 - loss 0.21965773 - samples/sec: 840.24 - lr: 0.050000\n",
            "2023-01-27 17:09:46,945 epoch 15 - iter 8/12 - loss 0.21786865 - samples/sec: 840.31 - lr: 0.050000\n",
            "2023-01-27 17:09:46,986 epoch 15 - iter 9/12 - loss 0.22134565 - samples/sec: 803.22 - lr: 0.050000\n",
            "2023-01-27 17:09:47,024 epoch 15 - iter 10/12 - loss 0.21115454 - samples/sec: 891.65 - lr: 0.050000\n",
            "2023-01-27 17:09:47,064 epoch 15 - iter 11/12 - loss 0.21200556 - samples/sec: 817.22 - lr: 0.050000\n",
            "2023-01-27 17:09:47,083 epoch 15 - iter 12/12 - loss 0.21088506 - samples/sec: 1910.16 - lr: 0.050000\n",
            "2023-01-27 17:09:47,084 ----------------------------------------------------------------------------------------------------\n",
            "2023-01-27 17:09:47,088 EPOCH 15 done: loss 0.2109 - lr 0.050000\n"
          ]
        },
        {
          "output_type": "stream",
          "name": "stderr",
          "text": [
            "100%|██████████| 1/1 [00:00<00:00, 23.83it/s]"
          ]
        },
        {
          "output_type": "stream",
          "name": "stdout",
          "text": [
            "2023-01-27 17:09:47,138 Evaluating as a multi-label problem: False\n",
            "2023-01-27 17:09:47,149 DEV : loss 0.43193483352661133 - f1-score (micro avg)  0.8315\n",
            "2023-01-27 17:09:47,153 BAD EPOCHS (no improvement): 1\n",
            "2023-01-27 17:09:47,158 ----------------------------------------------------------------------------------------------------\n",
            "2023-01-27 17:09:47,201 epoch 16 - iter 1/12 - loss 0.29381793 - samples/sec: 815.21 - lr: 0.050000\n",
            "2023-01-27 17:09:47,242 epoch 16 - iter 2/12 - loss 0.27788267 - samples/sec: 818.47 - lr: 0.050000\n",
            "2023-01-27 17:09:47,283 epoch 16 - iter 3/12 - loss 0.22623098 - samples/sec: 821.61 - lr: 0.050000\n"
          ]
        },
        {
          "output_type": "stream",
          "name": "stderr",
          "text": [
            "\n"
          ]
        },
        {
          "output_type": "stream",
          "name": "stdout",
          "text": [
            "2023-01-27 17:09:47,326 epoch 16 - iter 4/12 - loss 0.18190229 - samples/sec: 790.26 - lr: 0.050000\n",
            "2023-01-27 17:09:47,374 epoch 16 - iter 5/12 - loss 0.18124425 - samples/sec: 706.01 - lr: 0.050000\n",
            "2023-01-27 17:09:47,418 epoch 16 - iter 6/12 - loss 0.19509207 - samples/sec: 776.87 - lr: 0.050000\n",
            "2023-01-27 17:09:47,461 epoch 16 - iter 7/12 - loss 0.21013473 - samples/sec: 781.55 - lr: 0.050000\n",
            "2023-01-27 17:09:47,500 epoch 16 - iter 8/12 - loss 0.21413808 - samples/sec: 871.48 - lr: 0.050000\n",
            "2023-01-27 17:09:47,544 epoch 16 - iter 9/12 - loss 0.20368170 - samples/sec: 776.84 - lr: 0.050000\n",
            "2023-01-27 17:09:47,582 epoch 16 - iter 10/12 - loss 0.20203582 - samples/sec: 908.18 - lr: 0.050000\n",
            "2023-01-27 17:09:47,621 epoch 16 - iter 11/12 - loss 0.20009740 - samples/sec: 866.23 - lr: 0.050000\n",
            "2023-01-27 17:09:47,639 epoch 16 - iter 12/12 - loss 0.19922488 - samples/sec: 2006.57 - lr: 0.050000\n",
            "2023-01-27 17:09:47,642 ----------------------------------------------------------------------------------------------------\n",
            "2023-01-27 17:09:47,644 EPOCH 16 done: loss 0.1992 - lr 0.050000\n"
          ]
        },
        {
          "output_type": "stream",
          "name": "stderr",
          "text": [
            "100%|██████████| 1/1 [00:00<00:00, 23.55it/s]"
          ]
        },
        {
          "output_type": "stream",
          "name": "stdout",
          "text": [
            "2023-01-27 17:09:47,698 Evaluating as a multi-label problem: False\n",
            "2023-01-27 17:09:47,708 DEV : loss 0.42331036925315857 - f1-score (micro avg)  0.814\n",
            "2023-01-27 17:09:47,711 BAD EPOCHS (no improvement): 2\n",
            "2023-01-27 17:09:47,718 ----------------------------------------------------------------------------------------------------\n",
            "2023-01-27 17:09:47,760 epoch 17 - iter 1/12 - loss 0.22690564 - samples/sec: 841.26 - lr: 0.050000\n",
            "2023-01-27 17:09:47,802 epoch 17 - iter 2/12 - loss 0.19818331 - samples/sec: 821.06 - lr: 0.050000\n",
            "2023-01-27 17:09:47,844 epoch 17 - iter 3/12 - loss 0.19220443 - samples/sec: 778.66 - lr: 0.050000\n"
          ]
        },
        {
          "output_type": "stream",
          "name": "stderr",
          "text": [
            "\n"
          ]
        },
        {
          "output_type": "stream",
          "name": "stdout",
          "text": [
            "2023-01-27 17:09:47,887 epoch 17 - iter 4/12 - loss 0.20721286 - samples/sec: 791.83 - lr: 0.050000\n",
            "2023-01-27 17:09:47,931 epoch 17 - iter 5/12 - loss 0.20098059 - samples/sec: 766.99 - lr: 0.050000\n",
            "2023-01-27 17:09:47,974 epoch 17 - iter 6/12 - loss 0.21654192 - samples/sec: 776.49 - lr: 0.050000\n",
            "2023-01-27 17:09:48,014 epoch 17 - iter 7/12 - loss 0.21837696 - samples/sec: 814.96 - lr: 0.050000\n",
            "2023-01-27 17:09:48,054 epoch 17 - iter 8/12 - loss 0.20956012 - samples/sec: 851.69 - lr: 0.050000\n",
            "2023-01-27 17:09:48,094 epoch 17 - iter 9/12 - loss 0.20328921 - samples/sec: 837.47 - lr: 0.050000\n",
            "2023-01-27 17:09:48,133 epoch 17 - iter 10/12 - loss 0.19254532 - samples/sec: 866.04 - lr: 0.050000\n",
            "2023-01-27 17:09:48,176 epoch 17 - iter 11/12 - loss 0.19355557 - samples/sec: 779.26 - lr: 0.050000\n",
            "2023-01-27 17:09:48,193 epoch 17 - iter 12/12 - loss 0.19253360 - samples/sec: 2033.69 - lr: 0.050000\n",
            "2023-01-27 17:09:48,195 ----------------------------------------------------------------------------------------------------\n",
            "2023-01-27 17:09:48,198 EPOCH 17 done: loss 0.1925 - lr 0.050000\n"
          ]
        },
        {
          "output_type": "stream",
          "name": "stderr",
          "text": [
            "100%|██████████| 1/1 [00:00<00:00, 21.92it/s]"
          ]
        },
        {
          "output_type": "stream",
          "name": "stdout",
          "text": [
            "2023-01-27 17:09:48,252 Evaluating as a multi-label problem: False\n",
            "2023-01-27 17:09:48,264 DEV : loss 0.4092784523963928 - f1-score (micro avg)  0.8284\n",
            "2023-01-27 17:09:48,269 BAD EPOCHS (no improvement): 3\n",
            "2023-01-27 17:09:48,273 ----------------------------------------------------------------------------------------------------\n",
            "2023-01-27 17:09:48,314 epoch 18 - iter 1/12 - loss 0.16460600 - samples/sec: 838.68 - lr: 0.050000\n",
            "2023-01-27 17:09:48,357 epoch 18 - iter 2/12 - loss 0.19154725 - samples/sec: 786.66 - lr: 0.050000\n",
            "2023-01-27 17:09:48,403 epoch 18 - iter 3/12 - loss 0.21812907 - samples/sec: 719.38 - lr: 0.050000\n"
          ]
        },
        {
          "output_type": "stream",
          "name": "stderr",
          "text": [
            "\n"
          ]
        },
        {
          "output_type": "stream",
          "name": "stdout",
          "text": [
            "2023-01-27 17:09:48,445 epoch 18 - iter 4/12 - loss 0.21533131 - samples/sec: 846.31 - lr: 0.050000\n",
            "2023-01-27 17:09:48,489 epoch 18 - iter 5/12 - loss 0.21208124 - samples/sec: 762.40 - lr: 0.050000\n",
            "2023-01-27 17:09:48,543 epoch 18 - iter 6/12 - loss 0.20688819 - samples/sec: 642.87 - lr: 0.050000\n",
            "2023-01-27 17:09:48,585 epoch 18 - iter 7/12 - loss 0.19997557 - samples/sec: 783.60 - lr: 0.050000\n",
            "2023-01-27 17:09:48,632 epoch 18 - iter 8/12 - loss 0.19231210 - samples/sec: 720.13 - lr: 0.050000\n",
            "2023-01-27 17:09:48,674 epoch 18 - iter 9/12 - loss 0.18947699 - samples/sec: 811.64 - lr: 0.050000\n",
            "2023-01-27 17:09:48,720 epoch 18 - iter 10/12 - loss 0.18643012 - samples/sec: 725.61 - lr: 0.050000\n",
            "2023-01-27 17:09:48,761 epoch 18 - iter 11/12 - loss 0.18770183 - samples/sec: 824.67 - lr: 0.050000\n",
            "2023-01-27 17:09:48,779 epoch 18 - iter 12/12 - loss 0.18803046 - samples/sec: 2021.29 - lr: 0.050000\n",
            "2023-01-27 17:09:48,781 ----------------------------------------------------------------------------------------------------\n",
            "2023-01-27 17:09:48,784 EPOCH 18 done: loss 0.1880 - lr 0.050000\n"
          ]
        },
        {
          "output_type": "stream",
          "name": "stderr",
          "text": [
            "100%|██████████| 1/1 [00:00<00:00, 23.60it/s]"
          ]
        },
        {
          "output_type": "stream",
          "name": "stdout",
          "text": [
            "2023-01-27 17:09:48,834 Evaluating as a multi-label problem: False\n",
            "2023-01-27 17:09:48,846 DEV : loss 0.4319869577884674 - f1-score (micro avg)  0.8372\n",
            "2023-01-27 17:09:48,853 Epoch    18: reducing learning rate of group 0 to 2.5000e-02.\n",
            "2023-01-27 17:09:48,857 BAD EPOCHS (no improvement): 4\n",
            "2023-01-27 17:09:48,860 ----------------------------------------------------------------------------------------------------\n",
            "2023-01-27 17:09:48,901 epoch 19 - iter 1/12 - loss 0.16014786 - samples/sec: 862.17 - lr: 0.025000\n",
            "2023-01-27 17:09:48,944 epoch 19 - iter 2/12 - loss 0.19319356 - samples/sec: 779.02 - lr: 0.025000\n",
            "2023-01-27 17:09:48,985 epoch 19 - iter 3/12 - loss 0.20284870 - samples/sec: 836.01 - lr: 0.025000\n"
          ]
        },
        {
          "output_type": "stream",
          "name": "stderr",
          "text": [
            "\n"
          ]
        },
        {
          "output_type": "stream",
          "name": "stdout",
          "text": [
            "2023-01-27 17:09:49,025 epoch 19 - iter 4/12 - loss 0.18709953 - samples/sec: 833.19 - lr: 0.025000\n",
            "2023-01-27 17:09:49,071 epoch 19 - iter 5/12 - loss 0.18999807 - samples/sec: 765.97 - lr: 0.025000\n",
            "2023-01-27 17:09:49,113 epoch 19 - iter 6/12 - loss 0.18116947 - samples/sec: 800.51 - lr: 0.025000\n",
            "2023-01-27 17:09:49,152 epoch 19 - iter 7/12 - loss 0.16934164 - samples/sec: 925.81 - lr: 0.025000\n",
            "2023-01-27 17:09:49,191 epoch 19 - iter 8/12 - loss 0.16552805 - samples/sec: 885.87 - lr: 0.025000\n",
            "2023-01-27 17:09:49,232 epoch 19 - iter 9/12 - loss 0.17098544 - samples/sec: 833.91 - lr: 0.025000\n",
            "2023-01-27 17:09:49,273 epoch 19 - iter 10/12 - loss 0.17734902 - samples/sec: 843.45 - lr: 0.025000\n",
            "2023-01-27 17:09:49,312 epoch 19 - iter 11/12 - loss 0.17521378 - samples/sec: 893.77 - lr: 0.025000\n",
            "2023-01-27 17:09:49,331 epoch 19 - iter 12/12 - loss 0.17452605 - samples/sec: 1897.77 - lr: 0.025000\n",
            "2023-01-27 17:09:49,334 ----------------------------------------------------------------------------------------------------\n",
            "2023-01-27 17:09:49,335 EPOCH 19 done: loss 0.1745 - lr 0.025000\n"
          ]
        },
        {
          "output_type": "stream",
          "name": "stderr",
          "text": [
            "100%|██████████| 1/1 [00:00<00:00, 19.63it/s]"
          ]
        },
        {
          "output_type": "stream",
          "name": "stdout",
          "text": [
            "2023-01-27 17:09:49,397 Evaluating as a multi-label problem: False\n",
            "2023-01-27 17:09:49,415 DEV : loss 0.37061506509780884 - f1-score (micro avg)  0.8421\n",
            "2023-01-27 17:09:49,420 BAD EPOCHS (no improvement): 1\n",
            "2023-01-27 17:09:49,423 ----------------------------------------------------------------------------------------------------\n",
            "2023-01-27 17:09:49,470 epoch 20 - iter 1/12 - loss 0.14345338 - samples/sec: 729.72 - lr: 0.025000\n",
            "2023-01-27 17:09:49,510 epoch 20 - iter 2/12 - loss 0.15184333 - samples/sec: 827.40 - lr: 0.025000\n"
          ]
        },
        {
          "output_type": "stream",
          "name": "stderr",
          "text": [
            "\n"
          ]
        },
        {
          "output_type": "stream",
          "name": "stdout",
          "text": [
            "2023-01-27 17:09:49,559 epoch 20 - iter 3/12 - loss 0.19780382 - samples/sec: 677.02 - lr: 0.025000\n",
            "2023-01-27 17:09:49,603 epoch 20 - iter 4/12 - loss 0.20111531 - samples/sec: 779.70 - lr: 0.025000\n",
            "2023-01-27 17:09:49,649 epoch 20 - iter 5/12 - loss 0.19527050 - samples/sec: 762.78 - lr: 0.025000\n",
            "2023-01-27 17:09:49,690 epoch 20 - iter 6/12 - loss 0.17888626 - samples/sec: 883.24 - lr: 0.025000\n",
            "2023-01-27 17:09:49,732 epoch 20 - iter 7/12 - loss 0.17855032 - samples/sec: 800.30 - lr: 0.025000\n",
            "2023-01-27 17:09:49,773 epoch 20 - iter 8/12 - loss 0.17195017 - samples/sec: 825.90 - lr: 0.025000\n",
            "2023-01-27 17:09:49,815 epoch 20 - iter 9/12 - loss 0.17646620 - samples/sec: 791.98 - lr: 0.025000\n",
            "2023-01-27 17:09:49,857 epoch 20 - iter 10/12 - loss 0.16977042 - samples/sec: 800.51 - lr: 0.025000\n",
            "2023-01-27 17:09:49,900 epoch 20 - iter 11/12 - loss 0.16649723 - samples/sec: 786.18 - lr: 0.025000\n",
            "2023-01-27 17:09:49,916 epoch 20 - iter 12/12 - loss 0.16846490 - samples/sec: 2253.30 - lr: 0.025000\n",
            "2023-01-27 17:09:49,918 ----------------------------------------------------------------------------------------------------\n",
            "2023-01-27 17:09:49,921 EPOCH 20 done: loss 0.1685 - lr 0.025000\n"
          ]
        },
        {
          "output_type": "stream",
          "name": "stderr",
          "text": [
            "100%|██████████| 1/1 [00:00<00:00, 24.06it/s]"
          ]
        },
        {
          "output_type": "stream",
          "name": "stdout",
          "text": [
            "2023-01-27 17:09:49,973 Evaluating as a multi-label problem: False\n",
            "2023-01-27 17:09:49,984 DEV : loss 0.349332332611084 - f1-score (micro avg)  0.8434\n",
            "2023-01-27 17:09:49,991 BAD EPOCHS (no improvement): 2\n",
            "2023-01-27 17:09:49,996 ----------------------------------------------------------------------------------------------------\n",
            "2023-01-27 17:09:50,039 epoch 21 - iter 1/12 - loss 0.16908765 - samples/sec: 822.00 - lr: 0.025000\n",
            "2023-01-27 17:09:50,081 epoch 21 - iter 2/12 - loss 0.18510431 - samples/sec: 831.64 - lr: 0.025000\n",
            "2023-01-27 17:09:50,123 epoch 21 - iter 3/12 - loss 0.18288546 - samples/sec: 842.40 - lr: 0.025000\n"
          ]
        },
        {
          "output_type": "stream",
          "name": "stderr",
          "text": [
            "\n"
          ]
        },
        {
          "output_type": "stream",
          "name": "stdout",
          "text": [
            "2023-01-27 17:09:50,165 epoch 21 - iter 4/12 - loss 0.16616101 - samples/sec: 815.32 - lr: 0.025000\n",
            "2023-01-27 17:09:50,210 epoch 21 - iter 5/12 - loss 0.17409905 - samples/sec: 755.84 - lr: 0.025000\n",
            "2023-01-27 17:09:50,250 epoch 21 - iter 6/12 - loss 0.16086443 - samples/sec: 843.98 - lr: 0.025000\n",
            "2023-01-27 17:09:50,291 epoch 21 - iter 7/12 - loss 0.15207634 - samples/sec: 826.86 - lr: 0.025000\n",
            "2023-01-27 17:09:50,333 epoch 21 - iter 8/12 - loss 0.15319582 - samples/sec: 809.79 - lr: 0.025000\n",
            "2023-01-27 17:09:50,373 epoch 21 - iter 9/12 - loss 0.16420873 - samples/sec: 844.50 - lr: 0.025000\n",
            "2023-01-27 17:09:50,411 epoch 21 - iter 10/12 - loss 0.16174774 - samples/sec: 871.22 - lr: 0.025000\n",
            "2023-01-27 17:09:50,459 epoch 21 - iter 11/12 - loss 0.16126289 - samples/sec: 715.52 - lr: 0.025000\n",
            "2023-01-27 17:09:50,475 epoch 21 - iter 12/12 - loss 0.16233205 - samples/sec: 2163.89 - lr: 0.025000\n",
            "2023-01-27 17:09:50,477 ----------------------------------------------------------------------------------------------------\n",
            "2023-01-27 17:09:50,480 EPOCH 21 done: loss 0.1623 - lr 0.025000\n"
          ]
        },
        {
          "output_type": "stream",
          "name": "stderr",
          "text": [
            "100%|██████████| 1/1 [00:00<00:00, 22.93it/s]"
          ]
        },
        {
          "output_type": "stream",
          "name": "stdout",
          "text": [
            "2023-01-27 17:09:50,532 Evaluating as a multi-label problem: False\n",
            "2023-01-27 17:09:50,545 DEV : loss 0.41309621930122375 - f1-score (micro avg)  0.8554\n",
            "2023-01-27 17:09:50,549 BAD EPOCHS (no improvement): 3\n",
            "2023-01-27 17:09:50,552 ----------------------------------------------------------------------------------------------------\n",
            "2023-01-27 17:09:50,599 epoch 22 - iter 1/12 - loss 0.21810797 - samples/sec: 729.26 - lr: 0.025000\n",
            "2023-01-27 17:09:50,636 epoch 22 - iter 2/12 - loss 0.19893392 - samples/sec: 920.56 - lr: 0.025000\n",
            "2023-01-27 17:09:50,673 epoch 22 - iter 3/12 - loss 0.16665965 - samples/sec: 902.13 - lr: 0.025000\n"
          ]
        },
        {
          "output_type": "stream",
          "name": "stderr",
          "text": [
            "\n"
          ]
        },
        {
          "output_type": "stream",
          "name": "stdout",
          "text": [
            "2023-01-27 17:09:50,712 epoch 22 - iter 4/12 - loss 0.15464205 - samples/sec: 876.48 - lr: 0.025000\n",
            "2023-01-27 17:09:50,753 epoch 22 - iter 5/12 - loss 0.14520135 - samples/sec: 820.64 - lr: 0.025000\n",
            "2023-01-27 17:09:50,794 epoch 22 - iter 6/12 - loss 0.15341307 - samples/sec: 821.98 - lr: 0.025000\n",
            "2023-01-27 17:09:50,835 epoch 22 - iter 7/12 - loss 0.15335979 - samples/sec: 829.35 - lr: 0.025000\n",
            "2023-01-27 17:09:50,875 epoch 22 - iter 8/12 - loss 0.15193043 - samples/sec: 815.86 - lr: 0.025000\n",
            "2023-01-27 17:09:50,914 epoch 22 - iter 9/12 - loss 0.15451209 - samples/sec: 877.44 - lr: 0.025000\n",
            "2023-01-27 17:09:50,952 epoch 22 - iter 10/12 - loss 0.15188711 - samples/sec: 902.98 - lr: 0.025000\n",
            "2023-01-27 17:09:50,993 epoch 22 - iter 11/12 - loss 0.15147248 - samples/sec: 807.46 - lr: 0.025000\n",
            "2023-01-27 17:09:51,011 epoch 22 - iter 12/12 - loss 0.15068049 - samples/sec: 2071.55 - lr: 0.025000\n",
            "2023-01-27 17:09:51,014 ----------------------------------------------------------------------------------------------------\n",
            "2023-01-27 17:09:51,016 EPOCH 22 done: loss 0.1507 - lr 0.025000\n"
          ]
        },
        {
          "output_type": "stream",
          "name": "stderr",
          "text": [
            "100%|██████████| 1/1 [00:00<00:00, 23.71it/s]"
          ]
        },
        {
          "output_type": "stream",
          "name": "stdout",
          "text": [
            "2023-01-27 17:09:51,065 Evaluating as a multi-label problem: False\n",
            "2023-01-27 17:09:51,078 DEV : loss 0.3326340615749359 - f1-score (micro avg)  0.8471\n",
            "2023-01-27 17:09:51,081 Epoch    22: reducing learning rate of group 0 to 1.2500e-02.\n",
            "2023-01-27 17:09:51,082 BAD EPOCHS (no improvement): 4\n",
            "2023-01-27 17:09:51,086 ----------------------------------------------------------------------------------------------------\n",
            "2023-01-27 17:09:51,133 epoch 23 - iter 1/12 - loss 0.14333911 - samples/sec: 701.73 - lr: 0.012500\n",
            "2023-01-27 17:09:51,174 epoch 23 - iter 2/12 - loss 0.21855780 - samples/sec: 834.84 - lr: 0.012500\n",
            "2023-01-27 17:09:51,216 epoch 23 - iter 3/12 - loss 0.19045320 - samples/sec: 792.34 - lr: 0.012500\n"
          ]
        },
        {
          "output_type": "stream",
          "name": "stderr",
          "text": [
            "\n"
          ]
        },
        {
          "output_type": "stream",
          "name": "stdout",
          "text": [
            "2023-01-27 17:09:51,255 epoch 23 - iter 4/12 - loss 0.16637392 - samples/sec: 880.99 - lr: 0.012500\n",
            "2023-01-27 17:09:51,293 epoch 23 - iter 5/12 - loss 0.15720061 - samples/sec: 897.80 - lr: 0.012500\n",
            "2023-01-27 17:09:51,333 epoch 23 - iter 6/12 - loss 0.16477775 - samples/sec: 842.63 - lr: 0.012500\n",
            "2023-01-27 17:09:51,370 epoch 23 - iter 7/12 - loss 0.15357189 - samples/sec: 927.33 - lr: 0.012500\n",
            "2023-01-27 17:09:51,415 epoch 23 - iter 8/12 - loss 0.15395778 - samples/sec: 791.91 - lr: 0.012500\n",
            "2023-01-27 17:09:51,456 epoch 23 - iter 9/12 - loss 0.14892982 - samples/sec: 866.23 - lr: 0.012500\n",
            "2023-01-27 17:09:51,504 epoch 23 - iter 10/12 - loss 0.14754003 - samples/sec: 790.57 - lr: 0.012500\n",
            "2023-01-27 17:09:51,546 epoch 23 - iter 11/12 - loss 0.14710456 - samples/sec: 810.40 - lr: 0.012500\n",
            "2023-01-27 17:09:51,564 epoch 23 - iter 12/12 - loss 0.14667191 - samples/sec: 2078.48 - lr: 0.012500\n",
            "2023-01-27 17:09:51,569 ----------------------------------------------------------------------------------------------------\n",
            "2023-01-27 17:09:51,572 EPOCH 23 done: loss 0.1467 - lr 0.012500\n"
          ]
        },
        {
          "output_type": "stream",
          "name": "stderr",
          "text": [
            "100%|██████████| 1/1 [00:00<00:00, 23.94it/s]"
          ]
        },
        {
          "output_type": "stream",
          "name": "stdout",
          "text": [
            "2023-01-27 17:09:51,624 Evaluating as a multi-label problem: False\n",
            "2023-01-27 17:09:51,635 DEV : loss 0.3522579073905945 - f1-score (micro avg)  0.8434\n",
            "2023-01-27 17:09:51,640 BAD EPOCHS (no improvement): 1\n",
            "2023-01-27 17:09:51,642 ----------------------------------------------------------------------------------------------------\n",
            "2023-01-27 17:09:51,689 epoch 24 - iter 1/12 - loss 0.13643789 - samples/sec: 875.30 - lr: 0.012500\n",
            "2023-01-27 17:09:51,730 epoch 24 - iter 2/12 - loss 0.16977248 - samples/sec: 852.99 - lr: 0.012500\n",
            "2023-01-27 17:09:51,771 epoch 24 - iter 3/12 - loss 0.16892780 - samples/sec: 811.35 - lr: 0.012500\n"
          ]
        },
        {
          "output_type": "stream",
          "name": "stderr",
          "text": [
            "\n"
          ]
        },
        {
          "output_type": "stream",
          "name": "stdout",
          "text": [
            "2023-01-27 17:09:51,811 epoch 24 - iter 4/12 - loss 0.15560956 - samples/sec: 839.36 - lr: 0.012500\n",
            "2023-01-27 17:09:51,854 epoch 24 - iter 5/12 - loss 0.16230554 - samples/sec: 776.30 - lr: 0.012500\n",
            "2023-01-27 17:09:51,894 epoch 24 - iter 6/12 - loss 0.15234199 - samples/sec: 847.28 - lr: 0.012500\n",
            "2023-01-27 17:09:51,933 epoch 24 - iter 7/12 - loss 0.14041632 - samples/sec: 852.79 - lr: 0.012500\n",
            "2023-01-27 17:09:51,973 epoch 24 - iter 8/12 - loss 0.14550364 - samples/sec: 825.39 - lr: 0.012500\n",
            "2023-01-27 17:09:52,016 epoch 24 - iter 9/12 - loss 0.14751976 - samples/sec: 782.35 - lr: 0.012500\n",
            "2023-01-27 17:09:52,054 epoch 24 - iter 10/12 - loss 0.14991372 - samples/sec: 880.00 - lr: 0.012500\n",
            "2023-01-27 17:09:52,097 epoch 24 - iter 11/12 - loss 0.15271586 - samples/sec: 796.02 - lr: 0.012500\n",
            "2023-01-27 17:09:52,115 epoch 24 - iter 12/12 - loss 0.15480530 - samples/sec: 1910.08 - lr: 0.012500\n",
            "2023-01-27 17:09:52,117 ----------------------------------------------------------------------------------------------------\n",
            "2023-01-27 17:09:52,119 EPOCH 24 done: loss 0.1548 - lr 0.012500\n"
          ]
        },
        {
          "output_type": "stream",
          "name": "stderr",
          "text": [
            "100%|██████████| 1/1 [00:00<00:00, 23.85it/s]"
          ]
        },
        {
          "output_type": "stream",
          "name": "stdout",
          "text": [
            "2023-01-27 17:09:52,173 Evaluating as a multi-label problem: False\n",
            "2023-01-27 17:09:52,182 DEV : loss 0.33534497022628784 - f1-score (micro avg)  0.8421\n",
            "2023-01-27 17:09:52,186 BAD EPOCHS (no improvement): 2\n",
            "2023-01-27 17:09:52,192 ----------------------------------------------------------------------------------------------------\n",
            "2023-01-27 17:09:52,233 epoch 25 - iter 1/12 - loss 0.20615178 - samples/sec: 882.04 - lr: 0.012500\n",
            "2023-01-27 17:09:52,272 epoch 25 - iter 2/12 - loss 0.15989792 - samples/sec: 857.27 - lr: 0.012500\n",
            "2023-01-27 17:09:52,314 epoch 25 - iter 3/12 - loss 0.13244501 - samples/sec: 802.80 - lr: 0.012500\n"
          ]
        },
        {
          "output_type": "stream",
          "name": "stderr",
          "text": [
            "\n"
          ]
        },
        {
          "output_type": "stream",
          "name": "stdout",
          "text": [
            "2023-01-27 17:09:52,354 epoch 25 - iter 4/12 - loss 0.12508307 - samples/sec: 841.64 - lr: 0.012500\n",
            "2023-01-27 17:09:52,397 epoch 25 - iter 5/12 - loss 0.14620555 - samples/sec: 769.32 - lr: 0.012500\n",
            "2023-01-27 17:09:52,440 epoch 25 - iter 6/12 - loss 0.16194924 - samples/sec: 772.54 - lr: 0.012500\n",
            "2023-01-27 17:09:52,484 epoch 25 - iter 7/12 - loss 0.15703359 - samples/sec: 761.04 - lr: 0.012500\n",
            "2023-01-27 17:09:52,531 epoch 25 - iter 8/12 - loss 0.14961939 - samples/sec: 755.03 - lr: 0.012500\n",
            "2023-01-27 17:09:52,571 epoch 25 - iter 9/12 - loss 0.14346266 - samples/sec: 850.78 - lr: 0.012500\n",
            "2023-01-27 17:09:52,620 epoch 25 - iter 10/12 - loss 0.14428759 - samples/sec: 680.29 - lr: 0.012500\n",
            "2023-01-27 17:09:52,659 epoch 25 - iter 11/12 - loss 0.14449942 - samples/sec: 881.31 - lr: 0.012500\n",
            "2023-01-27 17:09:52,677 epoch 25 - iter 12/12 - loss 0.14507851 - samples/sec: 1968.95 - lr: 0.012500\n",
            "2023-01-27 17:09:52,678 ----------------------------------------------------------------------------------------------------\n",
            "2023-01-27 17:09:52,681 EPOCH 25 done: loss 0.1451 - lr 0.012500\n"
          ]
        },
        {
          "output_type": "stream",
          "name": "stderr",
          "text": [
            "100%|██████████| 1/1 [00:00<00:00, 23.45it/s]"
          ]
        },
        {
          "output_type": "stream",
          "name": "stdout",
          "text": [
            "2023-01-27 17:09:52,732 Evaluating as a multi-label problem: False\n",
            "2023-01-27 17:09:52,745 DEV : loss 0.33470720052719116 - f1-score (micro avg)  0.8452\n",
            "2023-01-27 17:09:52,752 BAD EPOCHS (no improvement): 3\n",
            "2023-01-27 17:09:52,755 ----------------------------------------------------------------------------------------------------\n",
            "2023-01-27 17:09:52,800 epoch 26 - iter 1/12 - loss 0.17435170 - samples/sec: 773.23 - lr: 0.012500\n",
            "2023-01-27 17:09:52,838 epoch 26 - iter 2/12 - loss 0.17881436 - samples/sec: 875.55 - lr: 0.012500\n",
            "2023-01-27 17:09:52,878 epoch 26 - iter 3/12 - loss 0.15607118 - samples/sec: 843.55 - lr: 0.012500\n"
          ]
        },
        {
          "output_type": "stream",
          "name": "stderr",
          "text": [
            "\n"
          ]
        },
        {
          "output_type": "stream",
          "name": "stdout",
          "text": [
            "2023-01-27 17:09:52,923 epoch 26 - iter 4/12 - loss 0.14341112 - samples/sec: 742.66 - lr: 0.012500\n",
            "2023-01-27 17:09:52,967 epoch 26 - iter 5/12 - loss 0.12871129 - samples/sec: 822.48 - lr: 0.012500\n",
            "2023-01-27 17:09:53,009 epoch 26 - iter 6/12 - loss 0.12301698 - samples/sec: 807.33 - lr: 0.012500\n",
            "2023-01-27 17:09:53,049 epoch 26 - iter 7/12 - loss 0.13118398 - samples/sec: 887.68 - lr: 0.012500\n",
            "2023-01-27 17:09:53,098 epoch 26 - iter 8/12 - loss 0.13571179 - samples/sec: 741.10 - lr: 0.012500\n",
            "2023-01-27 17:09:53,141 epoch 26 - iter 9/12 - loss 0.14039137 - samples/sec: 815.67 - lr: 0.012500\n",
            "2023-01-27 17:09:53,183 epoch 26 - iter 10/12 - loss 0.14985772 - samples/sec: 837.10 - lr: 0.012500\n",
            "2023-01-27 17:09:53,225 epoch 26 - iter 11/12 - loss 0.14742188 - samples/sec: 815.43 - lr: 0.012500\n",
            "2023-01-27 17:09:53,243 epoch 26 - iter 12/12 - loss 0.14684024 - samples/sec: 2268.23 - lr: 0.012500\n",
            "2023-01-27 17:09:53,246 ----------------------------------------------------------------------------------------------------\n",
            "2023-01-27 17:09:53,248 EPOCH 26 done: loss 0.1468 - lr 0.012500\n"
          ]
        },
        {
          "output_type": "stream",
          "name": "stderr",
          "text": [
            "100%|██████████| 1/1 [00:00<00:00, 22.65it/s]"
          ]
        },
        {
          "output_type": "stream",
          "name": "stdout",
          "text": [
            "2023-01-27 17:09:53,301 Evaluating as a multi-label problem: False\n",
            "2023-01-27 17:09:53,315 DEV : loss 0.3308475911617279 - f1-score (micro avg)  0.8554\n",
            "2023-01-27 17:09:53,321 Epoch    26: reducing learning rate of group 0 to 6.2500e-03.\n",
            "2023-01-27 17:09:53,325 BAD EPOCHS (no improvement): 4\n",
            "2023-01-27 17:09:53,330 ----------------------------------------------------------------------------------------------------\n",
            "2023-01-27 17:09:53,380 epoch 27 - iter 1/12 - loss 0.16115389 - samples/sec: 788.50 - lr: 0.006250\n",
            "2023-01-27 17:09:53,422 epoch 27 - iter 2/12 - loss 0.15887589 - samples/sec: 822.86 - lr: 0.006250\n"
          ]
        },
        {
          "output_type": "stream",
          "name": "stderr",
          "text": [
            "\n"
          ]
        },
        {
          "output_type": "stream",
          "name": "stdout",
          "text": [
            "2023-01-27 17:09:53,467 epoch 27 - iter 3/12 - loss 0.16080421 - samples/sec: 754.06 - lr: 0.006250\n",
            "2023-01-27 17:09:53,512 epoch 27 - iter 4/12 - loss 0.14520422 - samples/sec: 736.18 - lr: 0.006250\n",
            "2023-01-27 17:09:53,559 epoch 27 - iter 5/12 - loss 0.13904044 - samples/sec: 733.83 - lr: 0.006250\n",
            "2023-01-27 17:09:53,602 epoch 27 - iter 6/12 - loss 0.15681709 - samples/sec: 792.42 - lr: 0.006250\n",
            "2023-01-27 17:09:53,644 epoch 27 - iter 7/12 - loss 0.14726828 - samples/sec: 801.25 - lr: 0.006250\n",
            "2023-01-27 17:09:53,687 epoch 27 - iter 8/12 - loss 0.14301559 - samples/sec: 848.12 - lr: 0.006250\n",
            "2023-01-27 17:09:53,727 epoch 27 - iter 9/12 - loss 0.13686269 - samples/sec: 857.25 - lr: 0.006250\n",
            "2023-01-27 17:09:53,769 epoch 27 - iter 10/12 - loss 0.13961589 - samples/sec: 844.99 - lr: 0.006250\n",
            "2023-01-27 17:09:53,809 epoch 27 - iter 11/12 - loss 0.13963109 - samples/sec: 850.63 - lr: 0.006250\n",
            "2023-01-27 17:09:53,827 epoch 27 - iter 12/12 - loss 0.13915002 - samples/sec: 2045.32 - lr: 0.006250\n",
            "2023-01-27 17:09:53,828 ----------------------------------------------------------------------------------------------------\n",
            "2023-01-27 17:09:53,831 EPOCH 27 done: loss 0.1392 - lr 0.006250\n"
          ]
        },
        {
          "output_type": "stream",
          "name": "stderr",
          "text": [
            "100%|██████████| 1/1 [00:00<00:00, 21.88it/s]"
          ]
        },
        {
          "output_type": "stream",
          "name": "stdout",
          "text": [
            "2023-01-27 17:09:53,887 Evaluating as a multi-label problem: False\n",
            "2023-01-27 17:09:53,898 DEV : loss 0.31758373975753784 - f1-score (micro avg)  0.8434\n",
            "2023-01-27 17:09:53,904 BAD EPOCHS (no improvement): 1\n",
            "2023-01-27 17:09:53,907 ----------------------------------------------------------------------------------------------------\n",
            "2023-01-27 17:09:53,950 epoch 28 - iter 1/12 - loss 0.14439334 - samples/sec: 814.14 - lr: 0.006250\n",
            "2023-01-27 17:09:53,995 epoch 28 - iter 2/12 - loss 0.16619441 - samples/sec: 814.33 - lr: 0.006250\n",
            "2023-01-27 17:09:54,035 epoch 28 - iter 3/12 - loss 0.15950909 - samples/sec: 825.29 - lr: 0.006250\n"
          ]
        },
        {
          "output_type": "stream",
          "name": "stderr",
          "text": [
            "\n"
          ]
        },
        {
          "output_type": "stream",
          "name": "stdout",
          "text": [
            "2023-01-27 17:09:54,079 epoch 28 - iter 4/12 - loss 0.15056544 - samples/sec: 771.22 - lr: 0.006250\n",
            "2023-01-27 17:09:54,123 epoch 28 - iter 5/12 - loss 0.13317142 - samples/sec: 775.15 - lr: 0.006250\n",
            "2023-01-27 17:09:54,166 epoch 28 - iter 6/12 - loss 0.13508794 - samples/sec: 763.27 - lr: 0.006250\n",
            "2023-01-27 17:09:54,205 epoch 28 - iter 7/12 - loss 0.13812053 - samples/sec: 851.88 - lr: 0.006250\n",
            "2023-01-27 17:09:54,247 epoch 28 - iter 8/12 - loss 0.13750853 - samples/sec: 803.47 - lr: 0.006250\n",
            "2023-01-27 17:09:54,286 epoch 28 - iter 9/12 - loss 0.14261583 - samples/sec: 843.96 - lr: 0.006250\n",
            "2023-01-27 17:09:54,329 epoch 28 - iter 10/12 - loss 0.13647376 - samples/sec: 781.09 - lr: 0.006250\n",
            "2023-01-27 17:09:54,367 epoch 28 - iter 11/12 - loss 0.13477091 - samples/sec: 865.31 - lr: 0.006250\n",
            "2023-01-27 17:09:54,386 epoch 28 - iter 12/12 - loss 0.13510109 - samples/sec: 1894.37 - lr: 0.006250\n",
            "2023-01-27 17:09:54,388 ----------------------------------------------------------------------------------------------------\n",
            "2023-01-27 17:09:54,391 EPOCH 28 done: loss 0.1351 - lr 0.006250\n"
          ]
        },
        {
          "output_type": "stream",
          "name": "stderr",
          "text": [
            "100%|██████████| 1/1 [00:00<00:00, 22.83it/s]"
          ]
        },
        {
          "output_type": "stream",
          "name": "stdout",
          "text": [
            "2023-01-27 17:09:54,443 Evaluating as a multi-label problem: False\n",
            "2023-01-27 17:09:54,456 DEV : loss 0.324332594871521 - f1-score (micro avg)  0.8623\n",
            "2023-01-27 17:09:54,459 BAD EPOCHS (no improvement): 0\n",
            "2023-01-27 17:09:54,467 saving best model\n"
          ]
        },
        {
          "output_type": "stream",
          "name": "stderr",
          "text": [
            "\n"
          ]
        },
        {
          "output_type": "stream",
          "name": "stdout",
          "text": [
            "2023-01-27 17:09:55,138 ----------------------------------------------------------------------------------------------------\n",
            "2023-01-27 17:09:55,187 epoch 29 - iter 1/12 - loss 0.09361117 - samples/sec: 777.04 - lr: 0.006250\n",
            "2023-01-27 17:09:55,255 epoch 29 - iter 2/12 - loss 0.11792228 - samples/sec: 485.40 - lr: 0.006250\n",
            "2023-01-27 17:09:55,296 epoch 29 - iter 3/12 - loss 0.11189296 - samples/sec: 837.03 - lr: 0.006250\n",
            "2023-01-27 17:09:55,337 epoch 29 - iter 4/12 - loss 0.13414418 - samples/sec: 836.74 - lr: 0.006250\n",
            "2023-01-27 17:09:55,381 epoch 29 - iter 5/12 - loss 0.13408309 - samples/sec: 845.76 - lr: 0.006250\n",
            "2023-01-27 17:09:55,424 epoch 29 - iter 6/12 - loss 0.12458312 - samples/sec: 798.21 - lr: 0.006250\n",
            "2023-01-27 17:09:55,465 epoch 29 - iter 7/12 - loss 0.12244194 - samples/sec: 890.40 - lr: 0.006250\n",
            "2023-01-27 17:09:55,507 epoch 29 - iter 8/12 - loss 0.12952255 - samples/sec: 820.58 - lr: 0.006250\n",
            "2023-01-27 17:09:55,549 epoch 29 - iter 9/12 - loss 0.12941600 - samples/sec: 784.65 - lr: 0.006250\n",
            "2023-01-27 17:09:55,592 epoch 29 - iter 10/12 - loss 0.13737380 - samples/sec: 802.97 - lr: 0.006250\n",
            "2023-01-27 17:09:55,635 epoch 29 - iter 11/12 - loss 0.13478175 - samples/sec: 794.26 - lr: 0.006250\n",
            "2023-01-27 17:09:55,654 epoch 29 - iter 12/12 - loss 0.13495766 - samples/sec: 2032.68 - lr: 0.006250\n",
            "2023-01-27 17:09:55,658 ----------------------------------------------------------------------------------------------------\n",
            "2023-01-27 17:09:55,659 EPOCH 29 done: loss 0.1350 - lr 0.006250\n"
          ]
        },
        {
          "output_type": "stream",
          "name": "stderr",
          "text": [
            "100%|██████████| 1/1 [00:00<00:00, 23.65it/s]"
          ]
        },
        {
          "output_type": "stream",
          "name": "stdout",
          "text": [
            "2023-01-27 17:09:55,711 Evaluating as a multi-label problem: False\n",
            "2023-01-27 17:09:55,721 DEV : loss 0.31430569291114807 - f1-score (micro avg)  0.8434\n",
            "2023-01-27 17:09:55,726 BAD EPOCHS (no improvement): 1\n",
            "2023-01-27 17:09:55,730 ----------------------------------------------------------------------------------------------------\n",
            "2023-01-27 17:09:55,770 epoch 30 - iter 1/12 - loss 0.08323250 - samples/sec: 836.54 - lr: 0.006250\n",
            "2023-01-27 17:09:55,811 epoch 30 - iter 2/12 - loss 0.11528458 - samples/sec: 832.43 - lr: 0.006250\n",
            "2023-01-27 17:09:55,853 epoch 30 - iter 3/12 - loss 0.13290445 - samples/sec: 799.96 - lr: 0.006250\n"
          ]
        },
        {
          "output_type": "stream",
          "name": "stderr",
          "text": [
            "\n"
          ]
        },
        {
          "output_type": "stream",
          "name": "stdout",
          "text": [
            "2023-01-27 17:09:55,901 epoch 30 - iter 4/12 - loss 0.13288098 - samples/sec: 705.18 - lr: 0.006250\n",
            "2023-01-27 17:09:55,944 epoch 30 - iter 5/12 - loss 0.14103184 - samples/sec: 789.55 - lr: 0.006250\n",
            "2023-01-27 17:09:55,983 epoch 30 - iter 6/12 - loss 0.13065412 - samples/sec: 908.45 - lr: 0.006250\n",
            "2023-01-27 17:09:56,022 epoch 30 - iter 7/12 - loss 0.13967558 - samples/sec: 881.69 - lr: 0.006250\n",
            "2023-01-27 17:09:56,065 epoch 30 - iter 8/12 - loss 0.13733303 - samples/sec: 824.12 - lr: 0.006250\n",
            "2023-01-27 17:09:56,107 epoch 30 - iter 9/12 - loss 0.14441045 - samples/sec: 800.65 - lr: 0.006250\n",
            "2023-01-27 17:09:56,146 epoch 30 - iter 10/12 - loss 0.14271269 - samples/sec: 864.16 - lr: 0.006250\n",
            "2023-01-27 17:09:56,187 epoch 30 - iter 11/12 - loss 0.13813676 - samples/sec: 828.08 - lr: 0.006250\n",
            "2023-01-27 17:09:56,206 epoch 30 - iter 12/12 - loss 0.13758956 - samples/sec: 1921.82 - lr: 0.006250\n",
            "2023-01-27 17:09:56,207 ----------------------------------------------------------------------------------------------------\n",
            "2023-01-27 17:09:56,210 EPOCH 30 done: loss 0.1376 - lr 0.006250\n"
          ]
        },
        {
          "output_type": "stream",
          "name": "stderr",
          "text": [
            "100%|██████████| 1/1 [00:00<00:00, 22.77it/s]"
          ]
        },
        {
          "output_type": "stream",
          "name": "stdout",
          "text": [
            "2023-01-27 17:09:56,262 Evaluating as a multi-label problem: False\n",
            "2023-01-27 17:09:56,275 DEV : loss 0.31054002046585083 - f1-score (micro avg)  0.8655\n",
            "2023-01-27 17:09:56,280 BAD EPOCHS (no improvement): 0\n",
            "2023-01-27 17:09:56,284 saving best model\n"
          ]
        },
        {
          "output_type": "stream",
          "name": "stderr",
          "text": [
            "\n"
          ]
        },
        {
          "output_type": "stream",
          "name": "stdout",
          "text": [
            "2023-01-27 17:09:56,898 ----------------------------------------------------------------------------------------------------\n",
            "2023-01-27 17:09:56,943 epoch 31 - iter 1/12 - loss 0.12691495 - samples/sec: 775.58 - lr: 0.006250\n",
            "2023-01-27 17:09:56,998 epoch 31 - iter 2/12 - loss 0.11789995 - samples/sec: 604.62 - lr: 0.006250\n",
            "2023-01-27 17:09:57,047 epoch 31 - iter 3/12 - loss 0.13210552 - samples/sec: 805.23 - lr: 0.006250\n",
            "2023-01-27 17:09:57,088 epoch 31 - iter 4/12 - loss 0.12242626 - samples/sec: 812.47 - lr: 0.006250\n",
            "2023-01-27 17:09:57,133 epoch 31 - iter 5/12 - loss 0.13507322 - samples/sec: 758.95 - lr: 0.006250\n",
            "2023-01-27 17:09:57,176 epoch 31 - iter 6/12 - loss 0.13766111 - samples/sec: 775.61 - lr: 0.006250\n",
            "2023-01-27 17:09:57,217 epoch 31 - iter 7/12 - loss 0.13286517 - samples/sec: 822.70 - lr: 0.006250\n",
            "2023-01-27 17:09:57,257 epoch 31 - iter 8/12 - loss 0.14242400 - samples/sec: 848.91 - lr: 0.006250\n",
            "2023-01-27 17:09:57,297 epoch 31 - iter 9/12 - loss 0.13862879 - samples/sec: 837.50 - lr: 0.006250\n",
            "2023-01-27 17:09:57,340 epoch 31 - iter 10/12 - loss 0.14002266 - samples/sec: 790.67 - lr: 0.006250\n",
            "2023-01-27 17:09:57,377 epoch 31 - iter 11/12 - loss 0.13671424 - samples/sec: 920.49 - lr: 0.006250\n",
            "2023-01-27 17:09:57,396 epoch 31 - iter 12/12 - loss 0.13721209 - samples/sec: 1949.65 - lr: 0.006250\n",
            "2023-01-27 17:09:57,398 ----------------------------------------------------------------------------------------------------\n",
            "2023-01-27 17:09:57,400 EPOCH 31 done: loss 0.1372 - lr 0.006250\n"
          ]
        },
        {
          "output_type": "stream",
          "name": "stderr",
          "text": [
            "100%|██████████| 1/1 [00:00<00:00, 22.89it/s]"
          ]
        },
        {
          "output_type": "stream",
          "name": "stdout",
          "text": [
            "2023-01-27 17:09:57,453 Evaluating as a multi-label problem: False\n",
            "2023-01-27 17:09:57,467 DEV : loss 0.31440305709838867 - f1-score (micro avg)  0.8639\n",
            "2023-01-27 17:09:57,474 BAD EPOCHS (no improvement): 1\n",
            "2023-01-27 17:09:57,476 ----------------------------------------------------------------------------------------------------\n",
            "2023-01-27 17:09:57,523 epoch 32 - iter 1/12 - loss 0.19684584 - samples/sec: 704.60 - lr: 0.006250\n",
            "2023-01-27 17:09:57,564 epoch 32 - iter 2/12 - loss 0.16020762 - samples/sec: 817.44 - lr: 0.006250\n",
            "2023-01-27 17:09:57,604 epoch 32 - iter 3/12 - loss 0.13108223 - samples/sec: 847.17 - lr: 0.006250\n"
          ]
        },
        {
          "output_type": "stream",
          "name": "stderr",
          "text": [
            "\n"
          ]
        },
        {
          "output_type": "stream",
          "name": "stdout",
          "text": [
            "2023-01-27 17:09:57,649 epoch 32 - iter 4/12 - loss 0.12209463 - samples/sec: 754.35 - lr: 0.006250\n",
            "2023-01-27 17:09:57,697 epoch 32 - iter 5/12 - loss 0.11439515 - samples/sec: 696.77 - lr: 0.006250\n",
            "2023-01-27 17:09:57,739 epoch 32 - iter 6/12 - loss 0.12488816 - samples/sec: 816.53 - lr: 0.006250\n",
            "2023-01-27 17:09:57,779 epoch 32 - iter 7/12 - loss 0.12876292 - samples/sec: 839.03 - lr: 0.006250\n",
            "2023-01-27 17:09:57,822 epoch 32 - iter 8/12 - loss 0.13052785 - samples/sec: 772.07 - lr: 0.006250\n",
            "2023-01-27 17:09:57,865 epoch 32 - iter 9/12 - loss 0.14279481 - samples/sec: 773.59 - lr: 0.006250\n",
            "2023-01-27 17:09:57,903 epoch 32 - iter 10/12 - loss 0.14632047 - samples/sec: 903.56 - lr: 0.006250\n",
            "2023-01-27 17:09:57,944 epoch 32 - iter 11/12 - loss 0.13798880 - samples/sec: 845.24 - lr: 0.006250\n",
            "2023-01-27 17:09:57,961 epoch 32 - iter 12/12 - loss 0.13839246 - samples/sec: 2048.25 - lr: 0.006250\n",
            "2023-01-27 17:09:57,963 ----------------------------------------------------------------------------------------------------\n",
            "2023-01-27 17:09:57,966 EPOCH 32 done: loss 0.1384 - lr 0.006250\n"
          ]
        },
        {
          "output_type": "stream",
          "name": "stderr",
          "text": [
            "100%|██████████| 1/1 [00:00<00:00, 23.24it/s]"
          ]
        },
        {
          "output_type": "stream",
          "name": "stdout",
          "text": [
            "2023-01-27 17:09:58,016 Evaluating as a multi-label problem: False\n",
            "2023-01-27 17:09:58,028 DEV : loss 0.31501683592796326 - f1-score (micro avg)  0.8623\n",
            "2023-01-27 17:09:58,031 BAD EPOCHS (no improvement): 2\n",
            "2023-01-27 17:09:58,033 ----------------------------------------------------------------------------------------------------\n",
            "2023-01-27 17:09:58,082 epoch 33 - iter 1/12 - loss 0.11689375 - samples/sec: 792.39 - lr: 0.006250\n",
            "2023-01-27 17:09:58,125 epoch 33 - iter 2/12 - loss 0.13863191 - samples/sec: 778.86 - lr: 0.006250\n",
            "2023-01-27 17:09:58,166 epoch 33 - iter 3/12 - loss 0.12095205 - samples/sec: 805.59 - lr: 0.006250\n"
          ]
        },
        {
          "output_type": "stream",
          "name": "stderr",
          "text": [
            "\n"
          ]
        },
        {
          "output_type": "stream",
          "name": "stdout",
          "text": [
            "2023-01-27 17:09:58,210 epoch 33 - iter 4/12 - loss 0.11262293 - samples/sec: 751.08 - lr: 0.006250\n",
            "2023-01-27 17:09:58,252 epoch 33 - iter 5/12 - loss 0.11468650 - samples/sec: 870.94 - lr: 0.006250\n",
            "2023-01-27 17:09:58,294 epoch 33 - iter 6/12 - loss 0.11067396 - samples/sec: 782.37 - lr: 0.006250\n",
            "2023-01-27 17:09:58,340 epoch 33 - iter 7/12 - loss 0.11590841 - samples/sec: 737.07 - lr: 0.006250\n",
            "2023-01-27 17:09:58,381 epoch 33 - iter 8/12 - loss 0.11550122 - samples/sec: 834.17 - lr: 0.006250\n",
            "2023-01-27 17:09:58,423 epoch 33 - iter 9/12 - loss 0.12168776 - samples/sec: 785.29 - lr: 0.006250\n",
            "2023-01-27 17:09:58,472 epoch 33 - iter 10/12 - loss 0.12577552 - samples/sec: 681.09 - lr: 0.006250\n",
            "2023-01-27 17:09:58,514 epoch 33 - iter 11/12 - loss 0.13334819 - samples/sec: 796.63 - lr: 0.006250\n",
            "2023-01-27 17:09:58,534 epoch 33 - iter 12/12 - loss 0.13455338 - samples/sec: 1838.10 - lr: 0.006250\n",
            "2023-01-27 17:09:58,535 ----------------------------------------------------------------------------------------------------\n",
            "2023-01-27 17:09:58,539 EPOCH 33 done: loss 0.1346 - lr 0.006250\n"
          ]
        },
        {
          "output_type": "stream",
          "name": "stderr",
          "text": [
            "100%|██████████| 1/1 [00:00<00:00, 22.89it/s]"
          ]
        },
        {
          "output_type": "stream",
          "name": "stdout",
          "text": [
            "2023-01-27 17:09:58,593 Evaluating as a multi-label problem: False\n",
            "2023-01-27 17:09:58,605 DEV : loss 0.30538150668144226 - f1-score (micro avg)  0.8655\n",
            "2023-01-27 17:09:58,609 BAD EPOCHS (no improvement): 0\n",
            "2023-01-27 17:09:58,611 ----------------------------------------------------------------------------------------------------\n",
            "2023-01-27 17:09:58,663 epoch 34 - iter 1/12 - loss 0.16149527 - samples/sec: 728.07 - lr: 0.006250\n",
            "2023-01-27 17:09:58,706 epoch 34 - iter 2/12 - loss 0.13476036 - samples/sec: 766.31 - lr: 0.006250\n"
          ]
        },
        {
          "output_type": "stream",
          "name": "stderr",
          "text": [
            "\n"
          ]
        },
        {
          "output_type": "stream",
          "name": "stdout",
          "text": [
            "2023-01-27 17:09:58,747 epoch 34 - iter 3/12 - loss 0.12665579 - samples/sec: 816.19 - lr: 0.006250\n",
            "2023-01-27 17:09:58,794 epoch 34 - iter 4/12 - loss 0.12978410 - samples/sec: 709.92 - lr: 0.006250\n",
            "2023-01-27 17:09:58,840 epoch 34 - iter 5/12 - loss 0.13691024 - samples/sec: 744.16 - lr: 0.006250\n",
            "2023-01-27 17:09:58,884 epoch 34 - iter 6/12 - loss 0.12906244 - samples/sec: 762.08 - lr: 0.006250\n",
            "2023-01-27 17:09:58,926 epoch 34 - iter 7/12 - loss 0.13289484 - samples/sec: 807.98 - lr: 0.006250\n",
            "2023-01-27 17:09:58,968 epoch 34 - iter 8/12 - loss 0.13912751 - samples/sec: 795.08 - lr: 0.006250\n",
            "2023-01-27 17:09:59,014 epoch 34 - iter 9/12 - loss 0.14024149 - samples/sec: 728.02 - lr: 0.006250\n",
            "2023-01-27 17:09:59,056 epoch 34 - iter 10/12 - loss 0.13265584 - samples/sec: 810.34 - lr: 0.006250\n",
            "2023-01-27 17:09:59,100 epoch 34 - iter 11/12 - loss 0.13888490 - samples/sec: 758.91 - lr: 0.006250\n",
            "2023-01-27 17:09:59,121 epoch 34 - iter 12/12 - loss 0.13892912 - samples/sec: 1752.90 - lr: 0.006250\n",
            "2023-01-27 17:09:59,124 ----------------------------------------------------------------------------------------------------\n",
            "2023-01-27 17:09:59,126 EPOCH 34 done: loss 0.1389 - lr 0.006250\n"
          ]
        },
        {
          "output_type": "stream",
          "name": "stderr",
          "text": [
            "100%|██████████| 1/1 [00:00<00:00, 22.08it/s]"
          ]
        },
        {
          "output_type": "stream",
          "name": "stdout",
          "text": [
            "2023-01-27 17:09:59,180 Evaluating as a multi-label problem: False\n",
            "2023-01-27 17:09:59,195 DEV : loss 0.30304571986198425 - f1-score (micro avg)  0.8434\n",
            "2023-01-27 17:09:59,198 BAD EPOCHS (no improvement): 1\n",
            "2023-01-27 17:09:59,200 ----------------------------------------------------------------------------------------------------\n",
            "2023-01-27 17:09:59,245 epoch 35 - iter 1/12 - loss 0.13455897 - samples/sec: 770.79 - lr: 0.006250\n",
            "2023-01-27 17:09:59,286 epoch 35 - iter 2/12 - loss 0.13451586 - samples/sec: 823.77 - lr: 0.006250\n",
            "2023-01-27 17:09:59,329 epoch 35 - iter 3/12 - loss 0.13970391 - samples/sec: 769.34 - lr: 0.006250\n"
          ]
        },
        {
          "output_type": "stream",
          "name": "stderr",
          "text": [
            "\n"
          ]
        },
        {
          "output_type": "stream",
          "name": "stdout",
          "text": [
            "2023-01-27 17:09:59,369 epoch 35 - iter 4/12 - loss 0.12127745 - samples/sec: 837.69 - lr: 0.006250\n",
            "2023-01-27 17:09:59,415 epoch 35 - iter 5/12 - loss 0.12097320 - samples/sec: 712.67 - lr: 0.006250\n",
            "2023-01-27 17:09:59,457 epoch 35 - iter 6/12 - loss 0.12007578 - samples/sec: 801.86 - lr: 0.006250\n",
            "2023-01-27 17:09:59,498 epoch 35 - iter 7/12 - loss 0.12863388 - samples/sec: 806.48 - lr: 0.006250\n",
            "2023-01-27 17:09:59,539 epoch 35 - iter 8/12 - loss 0.13499558 - samples/sec: 817.48 - lr: 0.006250\n",
            "2023-01-27 17:09:59,582 epoch 35 - iter 9/12 - loss 0.13191746 - samples/sec: 777.14 - lr: 0.006250\n",
            "2023-01-27 17:09:59,619 epoch 35 - iter 10/12 - loss 0.12648359 - samples/sec: 911.03 - lr: 0.006250\n",
            "2023-01-27 17:09:59,665 epoch 35 - iter 11/12 - loss 0.12832118 - samples/sec: 736.74 - lr: 0.006250\n",
            "2023-01-27 17:09:59,686 epoch 35 - iter 12/12 - loss 0.12797877 - samples/sec: 1721.00 - lr: 0.006250\n",
            "2023-01-27 17:09:59,688 ----------------------------------------------------------------------------------------------------\n",
            "2023-01-27 17:09:59,691 EPOCH 35 done: loss 0.1280 - lr 0.006250\n"
          ]
        },
        {
          "output_type": "stream",
          "name": "stderr",
          "text": [
            "100%|██████████| 1/1 [00:00<00:00, 20.81it/s]"
          ]
        },
        {
          "output_type": "stream",
          "name": "stdout",
          "text": [
            "2023-01-27 17:09:59,747 Evaluating as a multi-label problem: False\n",
            "2023-01-27 17:09:59,762 DEV : loss 0.3063388764858246 - f1-score (micro avg)  0.8623\n",
            "2023-01-27 17:09:59,767 BAD EPOCHS (no improvement): 2\n",
            "2023-01-27 17:09:59,769 ----------------------------------------------------------------------------------------------------\n",
            "2023-01-27 17:09:59,815 epoch 36 - iter 1/12 - loss 0.12871390 - samples/sec: 730.15 - lr: 0.006250\n",
            "2023-01-27 17:09:59,856 epoch 36 - iter 2/12 - loss 0.13989927 - samples/sec: 821.69 - lr: 0.006250\n",
            "2023-01-27 17:09:59,895 epoch 36 - iter 3/12 - loss 0.13895942 - samples/sec: 860.93 - lr: 0.006250\n"
          ]
        },
        {
          "output_type": "stream",
          "name": "stderr",
          "text": [
            "\n"
          ]
        },
        {
          "output_type": "stream",
          "name": "stdout",
          "text": [
            "2023-01-27 17:09:59,944 epoch 36 - iter 4/12 - loss 0.14139474 - samples/sec: 768.28 - lr: 0.006250\n",
            "2023-01-27 17:10:00,003 epoch 36 - iter 5/12 - loss 0.15308564 - samples/sec: 572.66 - lr: 0.006250\n",
            "2023-01-27 17:10:00,043 epoch 36 - iter 6/12 - loss 0.14522107 - samples/sec: 856.12 - lr: 0.006250\n",
            "2023-01-27 17:10:00,082 epoch 36 - iter 7/12 - loss 0.13640622 - samples/sec: 863.38 - lr: 0.006250\n",
            "2023-01-27 17:10:00,125 epoch 36 - iter 8/12 - loss 0.13783255 - samples/sec: 767.16 - lr: 0.006250\n",
            "2023-01-27 17:10:00,170 epoch 36 - iter 9/12 - loss 0.14128554 - samples/sec: 757.62 - lr: 0.006250\n",
            "2023-01-27 17:10:00,210 epoch 36 - iter 10/12 - loss 0.14041788 - samples/sec: 853.02 - lr: 0.006250\n",
            "2023-01-27 17:10:00,249 epoch 36 - iter 11/12 - loss 0.13451204 - samples/sec: 838.40 - lr: 0.006250\n",
            "2023-01-27 17:10:00,268 epoch 36 - iter 12/12 - loss 0.13414147 - samples/sec: 1956.24 - lr: 0.006250\n",
            "2023-01-27 17:10:00,270 ----------------------------------------------------------------------------------------------------\n",
            "2023-01-27 17:10:00,274 EPOCH 36 done: loss 0.1341 - lr 0.006250\n"
          ]
        },
        {
          "output_type": "stream",
          "name": "stderr",
          "text": [
            "100%|██████████| 1/1 [00:00<00:00, 22.59it/s]"
          ]
        },
        {
          "output_type": "stream",
          "name": "stdout",
          "text": [
            "2023-01-27 17:10:00,327 Evaluating as a multi-label problem: False\n",
            "2023-01-27 17:10:00,337 DEV : loss 0.3018682301044464 - f1-score (micro avg)  0.8623\n",
            "2023-01-27 17:10:00,340 BAD EPOCHS (no improvement): 3\n",
            "2023-01-27 17:10:00,344 ----------------------------------------------------------------------------------------------------\n",
            "2023-01-27 17:10:00,390 epoch 37 - iter 1/12 - loss 0.22739072 - samples/sec: 782.71 - lr: 0.006250\n",
            "2023-01-27 17:10:00,434 epoch 37 - iter 2/12 - loss 0.16358545 - samples/sec: 776.77 - lr: 0.006250\n",
            "2023-01-27 17:10:00,472 epoch 37 - iter 3/12 - loss 0.15488809 - samples/sec: 899.04 - lr: 0.006250\n"
          ]
        },
        {
          "output_type": "stream",
          "name": "stderr",
          "text": [
            "\n"
          ]
        },
        {
          "output_type": "stream",
          "name": "stdout",
          "text": [
            "2023-01-27 17:10:00,515 epoch 37 - iter 4/12 - loss 0.15133844 - samples/sec: 772.35 - lr: 0.006250\n",
            "2023-01-27 17:10:00,559 epoch 37 - iter 5/12 - loss 0.13270032 - samples/sec: 758.67 - lr: 0.006250\n",
            "2023-01-27 17:10:00,600 epoch 37 - iter 6/12 - loss 0.12329736 - samples/sec: 818.54 - lr: 0.006250\n",
            "2023-01-27 17:10:00,642 epoch 37 - iter 7/12 - loss 0.12760815 - samples/sec: 802.72 - lr: 0.006250\n",
            "2023-01-27 17:10:00,693 epoch 37 - iter 8/12 - loss 0.13541525 - samples/sec: 651.40 - lr: 0.006250\n",
            "2023-01-27 17:10:00,736 epoch 37 - iter 9/12 - loss 0.13379582 - samples/sec: 892.47 - lr: 0.006250\n",
            "2023-01-27 17:10:00,775 epoch 37 - iter 10/12 - loss 0.12641040 - samples/sec: 857.01 - lr: 0.006250\n",
            "2023-01-27 17:10:00,822 epoch 37 - iter 11/12 - loss 0.12595803 - samples/sec: 716.21 - lr: 0.006250\n",
            "2023-01-27 17:10:00,840 epoch 37 - iter 12/12 - loss 0.12605983 - samples/sec: 1910.60 - lr: 0.006250\n",
            "2023-01-27 17:10:00,842 ----------------------------------------------------------------------------------------------------\n",
            "2023-01-27 17:10:00,845 EPOCH 37 done: loss 0.1261 - lr 0.006250\n"
          ]
        },
        {
          "output_type": "stream",
          "name": "stderr",
          "text": [
            "100%|██████████| 1/1 [00:00<00:00, 22.31it/s]"
          ]
        },
        {
          "output_type": "stream",
          "name": "stdout",
          "text": [
            "2023-01-27 17:10:00,899 Evaluating as a multi-label problem: False\n",
            "2023-01-27 17:10:00,915 DEV : loss 0.2974373400211334 - f1-score (micro avg)  0.8623\n",
            "2023-01-27 17:10:00,919 Epoch    37: reducing learning rate of group 0 to 3.1250e-03.\n",
            "2023-01-27 17:10:00,927 BAD EPOCHS (no improvement): 4\n",
            "2023-01-27 17:10:00,929 ----------------------------------------------------------------------------------------------------\n",
            "2023-01-27 17:10:00,980 epoch 38 - iter 1/12 - loss 0.04228912 - samples/sec: 664.69 - lr: 0.003125\n",
            "2023-01-27 17:10:01,022 epoch 38 - iter 2/12 - loss 0.06416502 - samples/sec: 817.90 - lr: 0.003125\n"
          ]
        },
        {
          "output_type": "stream",
          "name": "stderr",
          "text": [
            "\n"
          ]
        },
        {
          "output_type": "stream",
          "name": "stdout",
          "text": [
            "2023-01-27 17:10:01,067 epoch 38 - iter 3/12 - loss 0.08470187 - samples/sec: 786.43 - lr: 0.003125\n",
            "2023-01-27 17:10:01,113 epoch 38 - iter 4/12 - loss 0.08548751 - samples/sec: 774.67 - lr: 0.003125\n",
            "2023-01-27 17:10:01,156 epoch 38 - iter 5/12 - loss 0.11000931 - samples/sec: 777.97 - lr: 0.003125\n",
            "2023-01-27 17:10:01,199 epoch 38 - iter 6/12 - loss 0.11705355 - samples/sec: 783.52 - lr: 0.003125\n",
            "2023-01-27 17:10:01,242 epoch 38 - iter 7/12 - loss 0.12587623 - samples/sec: 777.72 - lr: 0.003125\n",
            "2023-01-27 17:10:01,286 epoch 38 - iter 8/12 - loss 0.12376205 - samples/sec: 764.26 - lr: 0.003125\n",
            "2023-01-27 17:10:01,327 epoch 38 - iter 9/12 - loss 0.12471845 - samples/sec: 820.27 - lr: 0.003125\n",
            "2023-01-27 17:10:01,367 epoch 38 - iter 10/12 - loss 0.12386517 - samples/sec: 840.22 - lr: 0.003125\n",
            "2023-01-27 17:10:01,409 epoch 38 - iter 11/12 - loss 0.13186652 - samples/sec: 813.57 - lr: 0.003125\n",
            "2023-01-27 17:10:01,427 epoch 38 - iter 12/12 - loss 0.13138347 - samples/sec: 2015.89 - lr: 0.003125\n",
            "2023-01-27 17:10:01,428 ----------------------------------------------------------------------------------------------------\n",
            "2023-01-27 17:10:01,431 EPOCH 38 done: loss 0.1314 - lr 0.003125\n"
          ]
        },
        {
          "output_type": "stream",
          "name": "stderr",
          "text": [
            "100%|██████████| 1/1 [00:00<00:00, 21.29it/s]"
          ]
        },
        {
          "output_type": "stream",
          "name": "stdout",
          "text": [
            "2023-01-27 17:10:01,488 Evaluating as a multi-label problem: False\n",
            "2023-01-27 17:10:01,505 DEV : loss 0.30000150203704834 - f1-score (micro avg)  0.8623\n",
            "2023-01-27 17:10:01,508 BAD EPOCHS (no improvement): 1\n",
            "2023-01-27 17:10:01,512 ----------------------------------------------------------------------------------------------------\n",
            "2023-01-27 17:10:01,557 epoch 39 - iter 1/12 - loss 0.07032570 - samples/sec: 782.20 - lr: 0.003125\n",
            "2023-01-27 17:10:01,599 epoch 39 - iter 2/12 - loss 0.12216043 - samples/sec: 796.95 - lr: 0.003125\n"
          ]
        },
        {
          "output_type": "stream",
          "name": "stderr",
          "text": [
            "\n"
          ]
        },
        {
          "output_type": "stream",
          "name": "stdout",
          "text": [
            "2023-01-27 17:10:01,646 epoch 39 - iter 3/12 - loss 0.13061493 - samples/sec: 717.84 - lr: 0.003125\n",
            "2023-01-27 17:10:01,688 epoch 39 - iter 4/12 - loss 0.14054346 - samples/sec: 805.36 - lr: 0.003125\n",
            "2023-01-27 17:10:01,737 epoch 39 - iter 5/12 - loss 0.13515766 - samples/sec: 690.57 - lr: 0.003125\n",
            "2023-01-27 17:10:01,778 epoch 39 - iter 6/12 - loss 0.14510519 - samples/sec: 835.59 - lr: 0.003125\n",
            "2023-01-27 17:10:01,821 epoch 39 - iter 7/12 - loss 0.13701472 - samples/sec: 768.72 - lr: 0.003125\n",
            "2023-01-27 17:10:01,864 epoch 39 - iter 8/12 - loss 0.13174246 - samples/sec: 780.44 - lr: 0.003125\n",
            "2023-01-27 17:10:01,910 epoch 39 - iter 9/12 - loss 0.13477456 - samples/sec: 727.44 - lr: 0.003125\n",
            "2023-01-27 17:10:01,950 epoch 39 - iter 10/12 - loss 0.13093701 - samples/sec: 862.44 - lr: 0.003125\n",
            "2023-01-27 17:10:01,995 epoch 39 - iter 11/12 - loss 0.13497230 - samples/sec: 727.07 - lr: 0.003125\n",
            "2023-01-27 17:10:02,014 epoch 39 - iter 12/12 - loss 0.13427559 - samples/sec: 1994.79 - lr: 0.003125\n",
            "2023-01-27 17:10:02,016 ----------------------------------------------------------------------------------------------------\n",
            "2023-01-27 17:10:02,019 EPOCH 39 done: loss 0.1343 - lr 0.003125\n"
          ]
        },
        {
          "output_type": "stream",
          "name": "stderr",
          "text": [
            "100%|██████████| 1/1 [00:00<00:00, 22.47it/s]"
          ]
        },
        {
          "output_type": "stream",
          "name": "stdout",
          "text": [
            "2023-01-27 17:10:02,075 Evaluating as a multi-label problem: False\n",
            "2023-01-27 17:10:02,088 DEV : loss 0.2987183928489685 - f1-score (micro avg)  0.8623\n",
            "2023-01-27 17:10:02,092 BAD EPOCHS (no improvement): 2\n",
            "2023-01-27 17:10:02,098 ----------------------------------------------------------------------------------------------------\n",
            "2023-01-27 17:10:02,145 epoch 40 - iter 1/12 - loss 0.15618989 - samples/sec: 738.78 - lr: 0.003125\n",
            "2023-01-27 17:10:02,187 epoch 40 - iter 2/12 - loss 0.15254845 - samples/sec: 810.47 - lr: 0.003125\n"
          ]
        },
        {
          "output_type": "stream",
          "name": "stderr",
          "text": [
            "\n"
          ]
        },
        {
          "output_type": "stream",
          "name": "stdout",
          "text": [
            "2023-01-27 17:10:02,234 epoch 40 - iter 3/12 - loss 0.12882136 - samples/sec: 726.26 - lr: 0.003125\n",
            "2023-01-27 17:10:02,272 epoch 40 - iter 4/12 - loss 0.12658311 - samples/sec: 874.17 - lr: 0.003125\n",
            "2023-01-27 17:10:02,315 epoch 40 - iter 5/12 - loss 0.12992929 - samples/sec: 767.90 - lr: 0.003125\n",
            "2023-01-27 17:10:02,357 epoch 40 - iter 6/12 - loss 0.13356523 - samples/sec: 801.91 - lr: 0.003125\n",
            "2023-01-27 17:10:02,399 epoch 40 - iter 7/12 - loss 0.13904013 - samples/sec: 808.48 - lr: 0.003125\n",
            "2023-01-27 17:10:02,443 epoch 40 - iter 8/12 - loss 0.13586556 - samples/sec: 764.11 - lr: 0.003125\n",
            "2023-01-27 17:10:02,488 epoch 40 - iter 9/12 - loss 0.13203526 - samples/sec: 736.44 - lr: 0.003125\n",
            "2023-01-27 17:10:02,528 epoch 40 - iter 10/12 - loss 0.12950183 - samples/sec: 841.90 - lr: 0.003125\n",
            "2023-01-27 17:10:02,569 epoch 40 - iter 11/12 - loss 0.12657679 - samples/sec: 916.01 - lr: 0.003125\n",
            "2023-01-27 17:10:02,586 epoch 40 - iter 12/12 - loss 0.12669187 - samples/sec: 2176.07 - lr: 0.003125\n",
            "2023-01-27 17:10:02,592 ----------------------------------------------------------------------------------------------------\n",
            "2023-01-27 17:10:02,597 EPOCH 40 done: loss 0.1267 - lr 0.003125\n"
          ]
        },
        {
          "output_type": "stream",
          "name": "stderr",
          "text": [
            "100%|██████████| 1/1 [00:00<00:00, 20.98it/s]"
          ]
        },
        {
          "output_type": "stream",
          "name": "stdout",
          "text": [
            "2023-01-27 17:10:02,654 Evaluating as a multi-label problem: False\n",
            "2023-01-27 17:10:02,670 DEV : loss 0.30125170946121216 - f1-score (micro avg)  0.8639\n",
            "2023-01-27 17:10:02,675 BAD EPOCHS (no improvement): 3\n",
            "2023-01-27 17:10:02,680 ----------------------------------------------------------------------------------------------------\n",
            "2023-01-27 17:10:02,729 epoch 41 - iter 1/12 - loss 0.13177200 - samples/sec: 699.98 - lr: 0.003125\n",
            "2023-01-27 17:10:02,775 epoch 41 - iter 2/12 - loss 0.11692955 - samples/sec: 746.84 - lr: 0.003125\n"
          ]
        },
        {
          "output_type": "stream",
          "name": "stderr",
          "text": [
            "\n"
          ]
        },
        {
          "output_type": "stream",
          "name": "stdout",
          "text": [
            "2023-01-27 17:10:02,815 epoch 41 - iter 3/12 - loss 0.10692007 - samples/sec: 830.81 - lr: 0.003125\n",
            "2023-01-27 17:10:02,852 epoch 41 - iter 4/12 - loss 0.09914641 - samples/sec: 929.25 - lr: 0.003125\n",
            "2023-01-27 17:10:02,894 epoch 41 - iter 5/12 - loss 0.11329951 - samples/sec: 788.58 - lr: 0.003125\n",
            "2023-01-27 17:10:02,936 epoch 41 - iter 6/12 - loss 0.11640385 - samples/sec: 797.01 - lr: 0.003125\n",
            "2023-01-27 17:10:02,978 epoch 41 - iter 7/12 - loss 0.11668963 - samples/sec: 790.80 - lr: 0.003125\n",
            "2023-01-27 17:10:03,022 epoch 41 - iter 8/12 - loss 0.11629850 - samples/sec: 757.08 - lr: 0.003125\n",
            "2023-01-27 17:10:03,065 epoch 41 - iter 9/12 - loss 0.11744271 - samples/sec: 782.60 - lr: 0.003125\n",
            "2023-01-27 17:10:03,107 epoch 41 - iter 10/12 - loss 0.11467227 - samples/sec: 807.60 - lr: 0.003125\n",
            "2023-01-27 17:10:03,150 epoch 41 - iter 11/12 - loss 0.11459316 - samples/sec: 834.32 - lr: 0.003125\n",
            "2023-01-27 17:10:03,170 epoch 41 - iter 12/12 - loss 0.11849491 - samples/sec: 1814.61 - lr: 0.003125\n",
            "2023-01-27 17:10:03,172 ----------------------------------------------------------------------------------------------------\n",
            "2023-01-27 17:10:03,177 EPOCH 41 done: loss 0.1185 - lr 0.003125\n"
          ]
        },
        {
          "output_type": "stream",
          "name": "stderr",
          "text": [
            "100%|██████████| 1/1 [00:00<00:00, 21.58it/s]"
          ]
        },
        {
          "output_type": "stream",
          "name": "stdout",
          "text": [
            "2023-01-27 17:10:03,233 Evaluating as a multi-label problem: False\n",
            "2023-01-27 17:10:03,247 DEV : loss 0.30075177550315857 - f1-score (micro avg)  0.8639\n",
            "2023-01-27 17:10:03,251 Epoch    41: reducing learning rate of group 0 to 1.5625e-03.\n",
            "2023-01-27 17:10:03,254 BAD EPOCHS (no improvement): 4\n",
            "2023-01-27 17:10:03,255 ----------------------------------------------------------------------------------------------------\n",
            "2023-01-27 17:10:03,301 epoch 42 - iter 1/12 - loss 0.11509833 - samples/sec: 728.24 - lr: 0.001563\n",
            "2023-01-27 17:10:03,342 epoch 42 - iter 2/12 - loss 0.13661050 - samples/sec: 870.18 - lr: 0.001563\n"
          ]
        },
        {
          "output_type": "stream",
          "name": "stderr",
          "text": [
            "\n"
          ]
        },
        {
          "output_type": "stream",
          "name": "stdout",
          "text": [
            "2023-01-27 17:10:03,386 epoch 42 - iter 3/12 - loss 0.11763949 - samples/sec: 760.85 - lr: 0.001563\n",
            "2023-01-27 17:10:03,430 epoch 42 - iter 4/12 - loss 0.14814891 - samples/sec: 779.80 - lr: 0.001563\n",
            "2023-01-27 17:10:03,470 epoch 42 - iter 5/12 - loss 0.13727581 - samples/sec: 842.77 - lr: 0.001563\n",
            "2023-01-27 17:10:03,509 epoch 42 - iter 6/12 - loss 0.13277838 - samples/sec: 875.92 - lr: 0.001563\n",
            "2023-01-27 17:10:03,555 epoch 42 - iter 7/12 - loss 0.12839029 - samples/sec: 723.58 - lr: 0.001563\n",
            "2023-01-27 17:10:03,602 epoch 42 - iter 8/12 - loss 0.12952631 - samples/sec: 799.59 - lr: 0.001563\n",
            "2023-01-27 17:10:03,642 epoch 42 - iter 9/12 - loss 0.13020170 - samples/sec: 853.04 - lr: 0.001563\n",
            "2023-01-27 17:10:03,685 epoch 42 - iter 10/12 - loss 0.12754611 - samples/sec: 818.48 - lr: 0.001563\n",
            "2023-01-27 17:10:03,729 epoch 42 - iter 11/12 - loss 0.12892997 - samples/sec: 761.98 - lr: 0.001563\n",
            "2023-01-27 17:10:03,748 epoch 42 - iter 12/12 - loss 0.12858159 - samples/sec: 1935.17 - lr: 0.001563\n",
            "2023-01-27 17:10:03,752 ----------------------------------------------------------------------------------------------------\n",
            "2023-01-27 17:10:03,754 EPOCH 42 done: loss 0.1286 - lr 0.001563\n"
          ]
        },
        {
          "output_type": "stream",
          "name": "stderr",
          "text": [
            "100%|██████████| 1/1 [00:00<00:00, 19.45it/s]"
          ]
        },
        {
          "output_type": "stream",
          "name": "stdout",
          "text": [
            "2023-01-27 17:10:03,815 Evaluating as a multi-label problem: False\n",
            "2023-01-27 17:10:03,829 DEV : loss 0.301078200340271 - f1-score (micro avg)  0.8639\n",
            "2023-01-27 17:10:03,833 BAD EPOCHS (no improvement): 1\n",
            "2023-01-27 17:10:03,835 ----------------------------------------------------------------------------------------------------\n",
            "2023-01-27 17:10:03,882 epoch 43 - iter 1/12 - loss 0.08428471 - samples/sec: 742.95 - lr: 0.001563\n",
            "2023-01-27 17:10:03,925 epoch 43 - iter 2/12 - loss 0.14860091 - samples/sec: 849.29 - lr: 0.001563\n"
          ]
        },
        {
          "output_type": "stream",
          "name": "stderr",
          "text": [
            "\n"
          ]
        },
        {
          "output_type": "stream",
          "name": "stdout",
          "text": [
            "2023-01-27 17:10:03,974 epoch 43 - iter 3/12 - loss 0.13592393 - samples/sec: 734.12 - lr: 0.001563\n",
            "2023-01-27 17:10:04,014 epoch 43 - iter 4/12 - loss 0.13633301 - samples/sec: 861.05 - lr: 0.001563\n",
            "2023-01-27 17:10:04,054 epoch 43 - iter 5/12 - loss 0.14194134 - samples/sec: 882.47 - lr: 0.001563\n",
            "2023-01-27 17:10:04,099 epoch 43 - iter 6/12 - loss 0.13254698 - samples/sec: 763.30 - lr: 0.001563\n",
            "2023-01-27 17:10:04,144 epoch 43 - iter 7/12 - loss 0.13545219 - samples/sec: 738.13 - lr: 0.001563\n",
            "2023-01-27 17:10:04,187 epoch 43 - iter 8/12 - loss 0.12613617 - samples/sec: 820.25 - lr: 0.001563\n",
            "2023-01-27 17:10:04,230 epoch 43 - iter 9/12 - loss 0.12902073 - samples/sec: 791.27 - lr: 0.001563\n",
            "2023-01-27 17:10:04,274 epoch 43 - iter 10/12 - loss 0.13163625 - samples/sec: 780.54 - lr: 0.001563\n",
            "2023-01-27 17:10:04,315 epoch 43 - iter 11/12 - loss 0.12806546 - samples/sec: 821.78 - lr: 0.001563\n",
            "2023-01-27 17:10:04,335 epoch 43 - iter 12/12 - loss 0.12822045 - samples/sec: 1880.33 - lr: 0.001563\n",
            "2023-01-27 17:10:04,337 ----------------------------------------------------------------------------------------------------\n",
            "2023-01-27 17:10:04,341 EPOCH 43 done: loss 0.1282 - lr 0.001563\n"
          ]
        },
        {
          "output_type": "stream",
          "name": "stderr",
          "text": [
            "100%|██████████| 1/1 [00:00<00:00, 20.47it/s]"
          ]
        },
        {
          "output_type": "stream",
          "name": "stdout",
          "text": [
            "2023-01-27 17:10:04,401 Evaluating as a multi-label problem: False\n",
            "2023-01-27 17:10:04,414 DEV : loss 0.3007071912288666 - f1-score (micro avg)  0.8623\n",
            "2023-01-27 17:10:04,418 BAD EPOCHS (no improvement): 2\n",
            "2023-01-27 17:10:04,423 ----------------------------------------------------------------------------------------------------\n",
            "2023-01-27 17:10:04,468 epoch 44 - iter 1/12 - loss 0.11493224 - samples/sec: 765.17 - lr: 0.001563\n",
            "2023-01-27 17:10:04,508 epoch 44 - iter 2/12 - loss 0.12787154 - samples/sec: 850.14 - lr: 0.001563\n"
          ]
        },
        {
          "output_type": "stream",
          "name": "stderr",
          "text": [
            "\n"
          ]
        },
        {
          "output_type": "stream",
          "name": "stdout",
          "text": [
            "2023-01-27 17:10:04,553 epoch 44 - iter 3/12 - loss 0.12561691 - samples/sec: 747.14 - lr: 0.001563\n",
            "2023-01-27 17:10:04,597 epoch 44 - iter 4/12 - loss 0.12367425 - samples/sec: 820.43 - lr: 0.001563\n",
            "2023-01-27 17:10:04,642 epoch 44 - iter 5/12 - loss 0.13622912 - samples/sec: 728.84 - lr: 0.001563\n",
            "2023-01-27 17:10:04,685 epoch 44 - iter 6/12 - loss 0.13820106 - samples/sec: 780.17 - lr: 0.001563\n",
            "2023-01-27 17:10:04,727 epoch 44 - iter 7/12 - loss 0.13385095 - samples/sec: 810.05 - lr: 0.001563\n",
            "2023-01-27 17:10:04,774 epoch 44 - iter 8/12 - loss 0.13160884 - samples/sec: 719.02 - lr: 0.001563\n",
            "2023-01-27 17:10:04,825 epoch 44 - iter 9/12 - loss 0.13345483 - samples/sec: 657.90 - lr: 0.001563\n",
            "2023-01-27 17:10:04,866 epoch 44 - iter 10/12 - loss 0.12434003 - samples/sec: 819.41 - lr: 0.001563\n",
            "2023-01-27 17:10:04,909 epoch 44 - iter 11/12 - loss 0.12505339 - samples/sec: 801.17 - lr: 0.001563\n",
            "2023-01-27 17:10:04,931 epoch 44 - iter 12/12 - loss 0.12861349 - samples/sec: 1526.26 - lr: 0.001563\n",
            "2023-01-27 17:10:04,933 ----------------------------------------------------------------------------------------------------\n",
            "2023-01-27 17:10:04,936 EPOCH 44 done: loss 0.1286 - lr 0.001563\n"
          ]
        },
        {
          "output_type": "stream",
          "name": "stderr",
          "text": [
            "100%|██████████| 1/1 [00:00<00:00, 23.70it/s]"
          ]
        },
        {
          "output_type": "stream",
          "name": "stdout",
          "text": [
            "2023-01-27 17:10:04,988 Evaluating as a multi-label problem: False\n",
            "2023-01-27 17:10:05,003 DEV : loss 0.29910314083099365 - f1-score (micro avg)  0.869\n",
            "2023-01-27 17:10:05,007 BAD EPOCHS (no improvement): 0\n",
            "2023-01-27 17:10:05,010 saving best model\n"
          ]
        },
        {
          "output_type": "stream",
          "name": "stderr",
          "text": [
            "\n"
          ]
        },
        {
          "output_type": "stream",
          "name": "stdout",
          "text": [
            "2023-01-27 17:10:05,687 ----------------------------------------------------------------------------------------------------\n",
            "2023-01-27 17:10:05,740 epoch 45 - iter 1/12 - loss 0.17794680 - samples/sec: 727.55 - lr: 0.001563\n",
            "2023-01-27 17:10:05,844 epoch 45 - iter 2/12 - loss 0.14650874 - samples/sec: 650.84 - lr: 0.001563\n",
            "2023-01-27 17:10:05,890 epoch 45 - iter 3/12 - loss 0.13541656 - samples/sec: 740.92 - lr: 0.001563\n",
            "2023-01-27 17:10:05,944 epoch 45 - iter 4/12 - loss 0.13316087 - samples/sec: 709.03 - lr: 0.001563\n",
            "2023-01-27 17:10:05,991 epoch 45 - iter 5/12 - loss 0.13849099 - samples/sec: 704.24 - lr: 0.001563\n",
            "2023-01-27 17:10:06,041 epoch 45 - iter 6/12 - loss 0.13732831 - samples/sec: 682.15 - lr: 0.001563\n",
            "2023-01-27 17:10:06,088 epoch 45 - iter 7/12 - loss 0.13845186 - samples/sec: 715.16 - lr: 0.001563\n",
            "2023-01-27 17:10:06,131 epoch 45 - iter 8/12 - loss 0.13409867 - samples/sec: 795.08 - lr: 0.001563\n",
            "2023-01-27 17:10:06,178 epoch 45 - iter 9/12 - loss 0.13083619 - samples/sec: 707.92 - lr: 0.001563\n",
            "2023-01-27 17:10:06,220 epoch 45 - iter 10/12 - loss 0.13002445 - samples/sec: 813.65 - lr: 0.001563\n",
            "2023-01-27 17:10:06,264 epoch 45 - iter 11/12 - loss 0.13323862 - samples/sec: 790.59 - lr: 0.001563\n",
            "2023-01-27 17:10:06,281 epoch 45 - iter 12/12 - loss 0.13255174 - samples/sec: 2099.94 - lr: 0.001563\n",
            "2023-01-27 17:10:06,286 ----------------------------------------------------------------------------------------------------\n",
            "2023-01-27 17:10:06,289 EPOCH 45 done: loss 0.1326 - lr 0.001563\n"
          ]
        },
        {
          "output_type": "stream",
          "name": "stderr",
          "text": [
            "100%|██████████| 1/1 [00:00<00:00, 21.15it/s]"
          ]
        },
        {
          "output_type": "stream",
          "name": "stdout",
          "text": [
            "2023-01-27 17:10:06,345 Evaluating as a multi-label problem: False\n",
            "2023-01-27 17:10:06,358 DEV : loss 0.29696279764175415 - f1-score (micro avg)  0.8623\n",
            "2023-01-27 17:10:06,362 BAD EPOCHS (no improvement): 1\n",
            "2023-01-27 17:10:06,364 ----------------------------------------------------------------------------------------------------\n",
            "2023-01-27 17:10:06,417 epoch 46 - iter 1/12 - loss 0.11144611 - samples/sec: 631.05 - lr: 0.001563\n",
            "2023-01-27 17:10:06,458 epoch 46 - iter 2/12 - loss 0.13156168 - samples/sec: 821.20 - lr: 0.001563\n"
          ]
        },
        {
          "output_type": "stream",
          "name": "stderr",
          "text": [
            "\n"
          ]
        },
        {
          "output_type": "stream",
          "name": "stdout",
          "text": [
            "2023-01-27 17:10:06,507 epoch 46 - iter 3/12 - loss 0.15172577 - samples/sec: 684.25 - lr: 0.001563\n",
            "2023-01-27 17:10:06,552 epoch 46 - iter 4/12 - loss 0.14316276 - samples/sec: 754.19 - lr: 0.001563\n",
            "2023-01-27 17:10:06,601 epoch 46 - iter 5/12 - loss 0.13049658 - samples/sec: 676.74 - lr: 0.001563\n",
            "2023-01-27 17:10:06,650 epoch 46 - iter 6/12 - loss 0.12677942 - samples/sec: 709.19 - lr: 0.001563\n",
            "2023-01-27 17:10:06,697 epoch 46 - iter 7/12 - loss 0.11783733 - samples/sec: 724.62 - lr: 0.001563\n",
            "2023-01-27 17:10:06,744 epoch 46 - iter 8/12 - loss 0.13203737 - samples/sec: 707.62 - lr: 0.001563\n",
            "2023-01-27 17:10:06,790 epoch 46 - iter 9/12 - loss 0.12820139 - samples/sec: 748.69 - lr: 0.001563\n",
            "2023-01-27 17:10:06,837 epoch 46 - iter 10/12 - loss 0.13692462 - samples/sec: 712.70 - lr: 0.001563\n",
            "2023-01-27 17:10:06,893 epoch 46 - iter 11/12 - loss 0.13121272 - samples/sec: 619.44 - lr: 0.001563\n",
            "2023-01-27 17:10:06,914 epoch 46 - iter 12/12 - loss 0.13096261 - samples/sec: 2008.59 - lr: 0.001563\n",
            "2023-01-27 17:10:06,916 ----------------------------------------------------------------------------------------------------\n",
            "2023-01-27 17:10:06,919 EPOCH 46 done: loss 0.1310 - lr 0.001563\n"
          ]
        },
        {
          "output_type": "stream",
          "name": "stderr",
          "text": [
            "100%|██████████| 1/1 [00:00<00:00, 21.37it/s]"
          ]
        },
        {
          "output_type": "stream",
          "name": "stdout",
          "text": [
            "2023-01-27 17:10:06,976 Evaluating as a multi-label problem: False\n",
            "2023-01-27 17:10:06,994 DEV : loss 0.2934721112251282 - f1-score (micro avg)  0.8639\n",
            "2023-01-27 17:10:06,998 BAD EPOCHS (no improvement): 2\n",
            "2023-01-27 17:10:07,003 ----------------------------------------------------------------------------------------------------\n",
            "2023-01-27 17:10:07,050 epoch 47 - iter 1/12 - loss 0.15186909 - samples/sec: 730.25 - lr: 0.001563\n",
            "2023-01-27 17:10:07,093 epoch 47 - iter 2/12 - loss 0.14292622 - samples/sec: 785.20 - lr: 0.001563\n"
          ]
        },
        {
          "output_type": "stream",
          "name": "stderr",
          "text": [
            "\n"
          ]
        },
        {
          "output_type": "stream",
          "name": "stdout",
          "text": [
            "2023-01-27 17:10:07,143 epoch 47 - iter 3/12 - loss 0.17481716 - samples/sec: 684.54 - lr: 0.001563\n",
            "2023-01-27 17:10:07,189 epoch 47 - iter 4/12 - loss 0.16268663 - samples/sec: 742.21 - lr: 0.001563\n",
            "2023-01-27 17:10:07,234 epoch 47 - iter 5/12 - loss 0.15703766 - samples/sec: 777.80 - lr: 0.001563\n",
            "2023-01-27 17:10:07,275 epoch 47 - iter 6/12 - loss 0.14819271 - samples/sec: 827.08 - lr: 0.001563\n",
            "2023-01-27 17:10:07,322 epoch 47 - iter 7/12 - loss 0.13507331 - samples/sec: 773.54 - lr: 0.001563\n",
            "2023-01-27 17:10:07,367 epoch 47 - iter 8/12 - loss 0.12977767 - samples/sec: 749.22 - lr: 0.001563\n",
            "2023-01-27 17:10:07,412 epoch 47 - iter 9/12 - loss 0.12658850 - samples/sec: 780.58 - lr: 0.001563\n",
            "2023-01-27 17:10:07,455 epoch 47 - iter 10/12 - loss 0.12609820 - samples/sec: 802.04 - lr: 0.001563\n",
            "2023-01-27 17:10:07,499 epoch 47 - iter 11/12 - loss 0.12579129 - samples/sec: 769.05 - lr: 0.001563\n",
            "2023-01-27 17:10:07,517 epoch 47 - iter 12/12 - loss 0.12513321 - samples/sec: 2093.23 - lr: 0.001563\n",
            "2023-01-27 17:10:07,521 ----------------------------------------------------------------------------------------------------\n",
            "2023-01-27 17:10:07,522 EPOCH 47 done: loss 0.1251 - lr 0.001563\n"
          ]
        },
        {
          "output_type": "stream",
          "name": "stderr",
          "text": [
            "100%|██████████| 1/1 [00:00<00:00, 20.95it/s]"
          ]
        },
        {
          "output_type": "stream",
          "name": "stdout",
          "text": [
            "2023-01-27 17:10:07,580 Evaluating as a multi-label problem: False\n",
            "2023-01-27 17:10:07,595 DEV : loss 0.29616039991378784 - f1-score (micro avg)  0.869\n",
            "2023-01-27 17:10:07,600 BAD EPOCHS (no improvement): 0\n",
            "2023-01-27 17:10:07,603 ----------------------------------------------------------------------------------------------------\n",
            "2023-01-27 17:10:07,649 epoch 48 - iter 1/12 - loss 0.06514923 - samples/sec: 792.42 - lr: 0.001563\n",
            "2023-01-27 17:10:07,691 epoch 48 - iter 2/12 - loss 0.08406183 - samples/sec: 829.58 - lr: 0.001563\n"
          ]
        },
        {
          "output_type": "stream",
          "name": "stderr",
          "text": [
            "\n"
          ]
        },
        {
          "output_type": "stream",
          "name": "stdout",
          "text": [
            "2023-01-27 17:10:07,734 epoch 48 - iter 3/12 - loss 0.13094562 - samples/sec: 764.48 - lr: 0.001563\n",
            "2023-01-27 17:10:07,774 epoch 48 - iter 4/12 - loss 0.12076974 - samples/sec: 854.50 - lr: 0.001563\n",
            "2023-01-27 17:10:07,820 epoch 48 - iter 5/12 - loss 0.12323584 - samples/sec: 786.84 - lr: 0.001563\n",
            "2023-01-27 17:10:07,873 epoch 48 - iter 6/12 - loss 0.13119940 - samples/sec: 628.68 - lr: 0.001563\n",
            "2023-01-27 17:10:07,917 epoch 48 - iter 7/12 - loss 0.12630725 - samples/sec: 780.24 - lr: 0.001563\n",
            "2023-01-27 17:10:07,958 epoch 48 - iter 8/12 - loss 0.12297901 - samples/sec: 844.65 - lr: 0.001563\n",
            "2023-01-27 17:10:08,000 epoch 48 - iter 9/12 - loss 0.12764660 - samples/sec: 846.91 - lr: 0.001563\n",
            "2023-01-27 17:10:08,045 epoch 48 - iter 10/12 - loss 0.12430144 - samples/sec: 752.12 - lr: 0.001563\n",
            "2023-01-27 17:10:08,090 epoch 48 - iter 11/12 - loss 0.12882799 - samples/sec: 802.72 - lr: 0.001563\n",
            "2023-01-27 17:10:08,113 epoch 48 - iter 12/12 - loss 0.12868571 - samples/sec: 1547.98 - lr: 0.001563\n",
            "2023-01-27 17:10:08,115 ----------------------------------------------------------------------------------------------------\n",
            "2023-01-27 17:10:08,118 EPOCH 48 done: loss 0.1287 - lr 0.001563\n"
          ]
        },
        {
          "output_type": "stream",
          "name": "stderr",
          "text": [
            "100%|██████████| 1/1 [00:00<00:00, 23.65it/s]"
          ]
        },
        {
          "output_type": "stream",
          "name": "stdout",
          "text": [
            "2023-01-27 17:10:08,176 Evaluating as a multi-label problem: False\n",
            "2023-01-27 17:10:08,192 DEV : loss 0.2947950065135956 - f1-score (micro avg)  0.869\n",
            "2023-01-27 17:10:08,197 BAD EPOCHS (no improvement): 0\n",
            "2023-01-27 17:10:08,199 ----------------------------------------------------------------------------------------------------\n",
            "2023-01-27 17:10:08,248 epoch 49 - iter 1/12 - loss 0.13232149 - samples/sec: 703.46 - lr: 0.001563\n",
            "2023-01-27 17:10:08,293 epoch 49 - iter 2/12 - loss 0.11214114 - samples/sec: 738.55 - lr: 0.001563\n"
          ]
        },
        {
          "output_type": "stream",
          "name": "stderr",
          "text": [
            "\n"
          ]
        },
        {
          "output_type": "stream",
          "name": "stdout",
          "text": [
            "2023-01-27 17:10:08,336 epoch 49 - iter 3/12 - loss 0.09931059 - samples/sec: 783.61 - lr: 0.001563\n",
            "2023-01-27 17:10:08,381 epoch 49 - iter 4/12 - loss 0.10727572 - samples/sec: 755.63 - lr: 0.001563\n",
            "2023-01-27 17:10:08,424 epoch 49 - iter 5/12 - loss 0.11041955 - samples/sec: 771.26 - lr: 0.001563\n",
            "2023-01-27 17:10:08,470 epoch 49 - iter 6/12 - loss 0.12129778 - samples/sec: 736.48 - lr: 0.001563\n",
            "2023-01-27 17:10:08,515 epoch 49 - iter 7/12 - loss 0.11590175 - samples/sec: 747.56 - lr: 0.001563\n",
            "2023-01-27 17:10:08,559 epoch 49 - iter 8/12 - loss 0.12329780 - samples/sec: 778.68 - lr: 0.001563\n",
            "2023-01-27 17:10:08,599 epoch 49 - iter 9/12 - loss 0.11711259 - samples/sec: 853.97 - lr: 0.001563\n",
            "2023-01-27 17:10:08,642 epoch 49 - iter 10/12 - loss 0.11742459 - samples/sec: 830.89 - lr: 0.001563\n",
            "2023-01-27 17:10:08,685 epoch 49 - iter 11/12 - loss 0.12176620 - samples/sec: 769.91 - lr: 0.001563\n",
            "2023-01-27 17:10:08,704 epoch 49 - iter 12/12 - loss 0.12112325 - samples/sec: 2006.36 - lr: 0.001563\n",
            "2023-01-27 17:10:08,705 ----------------------------------------------------------------------------------------------------\n",
            "2023-01-27 17:10:08,708 EPOCH 49 done: loss 0.1211 - lr 0.001563\n"
          ]
        },
        {
          "output_type": "stream",
          "name": "stderr",
          "text": [
            "100%|██████████| 1/1 [00:00<00:00, 21.66it/s]"
          ]
        },
        {
          "output_type": "stream",
          "name": "stdout",
          "text": [
            "2023-01-27 17:10:08,765 Evaluating as a multi-label problem: False\n",
            "2023-01-27 17:10:08,782 DEV : loss 0.29339393973350525 - f1-score (micro avg)  0.869\n",
            "2023-01-27 17:10:08,786 BAD EPOCHS (no improvement): 0\n",
            "2023-01-27 17:10:08,789 ----------------------------------------------------------------------------------------------------\n",
            "2023-01-27 17:10:08,831 epoch 50 - iter 1/12 - loss 0.09049412 - samples/sec: 879.33 - lr: 0.001563\n",
            "2023-01-27 17:10:08,878 epoch 50 - iter 2/12 - loss 0.09781192 - samples/sec: 701.84 - lr: 0.001563\n"
          ]
        },
        {
          "output_type": "stream",
          "name": "stderr",
          "text": [
            "\n"
          ]
        },
        {
          "output_type": "stream",
          "name": "stdout",
          "text": [
            "2023-01-27 17:10:08,932 epoch 50 - iter 3/12 - loss 0.10981866 - samples/sec: 625.48 - lr: 0.001563\n",
            "2023-01-27 17:10:08,976 epoch 50 - iter 4/12 - loss 0.11471932 - samples/sec: 822.89 - lr: 0.001563\n",
            "2023-01-27 17:10:09,021 epoch 50 - iter 5/12 - loss 0.11746252 - samples/sec: 789.17 - lr: 0.001563\n",
            "2023-01-27 17:10:09,061 epoch 50 - iter 6/12 - loss 0.12738735 - samples/sec: 867.31 - lr: 0.001563\n",
            "2023-01-27 17:10:09,102 epoch 50 - iter 7/12 - loss 0.12937781 - samples/sec: 858.93 - lr: 0.001563\n",
            "2023-01-27 17:10:09,142 epoch 50 - iter 8/12 - loss 0.12602855 - samples/sec: 858.05 - lr: 0.001563\n",
            "2023-01-27 17:10:09,185 epoch 50 - iter 9/12 - loss 0.12310897 - samples/sec: 790.20 - lr: 0.001563\n",
            "2023-01-27 17:10:09,229 epoch 50 - iter 10/12 - loss 0.12670129 - samples/sec: 758.64 - lr: 0.001563\n",
            "2023-01-27 17:10:09,272 epoch 50 - iter 11/12 - loss 0.12893401 - samples/sec: 844.09 - lr: 0.001563\n",
            "2023-01-27 17:10:09,291 epoch 50 - iter 12/12 - loss 0.12909580 - samples/sec: 1946.54 - lr: 0.001563\n",
            "2023-01-27 17:10:09,293 ----------------------------------------------------------------------------------------------------\n",
            "2023-01-27 17:10:09,295 EPOCH 50 done: loss 0.1291 - lr 0.001563\n"
          ]
        },
        {
          "output_type": "stream",
          "name": "stderr",
          "text": [
            "100%|██████████| 1/1 [00:00<00:00, 22.42it/s]"
          ]
        },
        {
          "output_type": "stream",
          "name": "stdout",
          "text": [
            "2023-01-27 17:10:09,350 Evaluating as a multi-label problem: False\n",
            "2023-01-27 17:10:09,362 DEV : loss 0.29312923550605774 - f1-score (micro avg)  0.8706\n",
            "2023-01-27 17:10:09,368 BAD EPOCHS (no improvement): 0\n",
            "2023-01-27 17:10:09,371 saving best model\n"
          ]
        },
        {
          "output_type": "stream",
          "name": "stderr",
          "text": [
            "\n"
          ]
        },
        {
          "output_type": "stream",
          "name": "stdout",
          "text": [
            "2023-01-27 17:10:11,130 ----------------------------------------------------------------------------------------------------\n",
            "2023-01-27 17:10:11,132 loading file resources/taggers/sota-ner-flair/best-model.pt\n",
            "2023-01-27 17:10:11,634 SequenceTagger predicts: Dictionary with 35 tags: O, S-Street_Name, B-Street_Name, E-Street_Name, I-Street_Name, S-City, B-City, E-City, I-City, S-State, B-State, E-State, I-State, S-Country, B-Country, E-Country, I-Country, S-Zip_Code, B-Zip_Code, E-Zip_Code, I-Zip_Code, S-Building_Number, B-Building_Number, E-Building_Number, I-Building_Number, S-Building_Name, B-Building_Name, E-Building_Name, I-Building_Name, S-Recipient, B-Recipient, E-Recipient, I-Recipient, <START>, <STOP>\n"
          ]
        },
        {
          "output_type": "stream",
          "name": "stderr",
          "text": [
            "100%|██████████| 1/1 [00:00<00:00,  7.13it/s]"
          ]
        },
        {
          "output_type": "stream",
          "name": "stdout",
          "text": [
            "2023-01-27 17:10:12,035 Evaluating as a multi-label problem: False\n",
            "2023-01-27 17:10:12,054 0.8706\t0.8706\t0.8706\t0.7789\n",
            "2023-01-27 17:10:12,059 \n",
            "Results:\n",
            "- F-score (micro) 0.8706\n",
            "- F-score (macro) 0.7953\n",
            "- Accuracy 0.7789\n",
            "\n",
            "By class:\n",
            "                 precision    recall  f1-score   support\n",
            "\n",
            "    Street_Name     0.7895    0.8333    0.8108        18\n",
            "Building_Number     0.9412    1.0000    0.9697        16\n",
            "           City     0.8333    0.9091    0.8696        11\n",
            "          State     1.0000    1.0000    1.0000        11\n",
            "        Country     1.0000    1.0000    1.0000        11\n",
            "       Zip_Code     1.0000    0.7000    0.8235        10\n",
            "      Recipient     0.8000    1.0000    0.8889         4\n",
            "  Building_Name     0.0000    0.0000    0.0000         4\n",
            "\n",
            "      micro avg     0.8706    0.8706    0.8706        85\n",
            "      macro avg     0.7955    0.8053    0.7953        85\n",
            "   weighted avg     0.8663    0.8706    0.8643        85\n",
            "\n",
            "2023-01-27 17:10:12,061 ----------------------------------------------------------------------------------------------------\n"
          ]
        },
        {
          "output_type": "stream",
          "name": "stderr",
          "text": [
            "\n"
          ]
        },
        {
          "output_type": "execute_result",
          "data": {
            "text/plain": [
              "{'test_score': 0.8705882352941176,\n",
              " 'dev_score_history': [0.1271676300578035,\n",
              "  0.24864864864864863,\n",
              "  0.4161849710982659,\n",
              "  0.6749999999999999,\n",
              "  0.6878980891719745,\n",
              "  0.6735751295336788,\n",
              "  0.6918238993710691,\n",
              "  0.8484848484848485,\n",
              "  0.8342857142857144,\n",
              "  0.7749999999999999,\n",
              "  0.8248587570621468,\n",
              "  0.7764705882352941,\n",
              "  0.8275862068965517,\n",
              "  0.8620689655172413,\n",
              "  0.8314606741573034,\n",
              "  0.813953488372093,\n",
              "  0.8284023668639053,\n",
              "  0.8372093023255814,\n",
              "  0.8421052631578947,\n",
              "  0.8433734939759034,\n",
              "  0.8554216867469879,\n",
              "  0.8470588235294118,\n",
              "  0.8433734939759034,\n",
              "  0.8421052631578947,\n",
              "  0.8452380952380952,\n",
              "  0.8554216867469879,\n",
              "  0.8433734939759034,\n",
              "  0.8622754491017964,\n",
              "  0.8433734939759034,\n",
              "  0.8654970760233918,\n",
              "  0.863905325443787,\n",
              "  0.8622754491017964,\n",
              "  0.8654970760233918,\n",
              "  0.8433734939759034,\n",
              "  0.8622754491017964,\n",
              "  0.8622754491017964,\n",
              "  0.8622754491017964,\n",
              "  0.8622754491017964,\n",
              "  0.8622754491017964,\n",
              "  0.863905325443787,\n",
              "  0.863905325443787,\n",
              "  0.863905325443787,\n",
              "  0.8622754491017964,\n",
              "  0.8690476190476191,\n",
              "  0.8622754491017964,\n",
              "  0.863905325443787,\n",
              "  0.8690476190476191,\n",
              "  0.8690476190476191,\n",
              "  0.8690476190476191,\n",
              "  0.8705882352941176],\n",
              " 'train_loss_history': [2.8594003235552945,\n",
              "  1.6133434705141574,\n",
              "  1.0186510773028357,\n",
              "  0.7712616839651334,\n",
              "  0.6147014892707436,\n",
              "  0.5327478802136782,\n",
              "  0.4639556313638633,\n",
              "  0.42023785909016925,\n",
              "  0.3852824302716444,\n",
              "  0.3308204446135268,\n",
              "  0.30770246861344674,\n",
              "  0.2942252293818415,\n",
              "  0.2542766635700808,\n",
              "  0.22616822032605188,\n",
              "  0.21088505868857862,\n",
              "  0.19922488153317555,\n",
              "  0.19253360080180196,\n",
              "  0.18803045843954141,\n",
              "  0.17452605295989473,\n",
              "  0.16846489771611273,\n",
              "  0.1623320471768999,\n",
              "  0.1506804935002731,\n",
              "  0.14667191478492175,\n",
              "  0.15480530194643527,\n",
              "  0.14507850819388352,\n",
              "  0.1468402409957627,\n",
              "  0.13915001605190125,\n",
              "  0.13510108667578402,\n",
              "  0.1349576583689889,\n",
              "  0.13758955702269818,\n",
              "  0.13721209057306838,\n",
              "  0.13839245920127394,\n",
              "  0.1345533758906995,\n",
              "  0.13892911921786724,\n",
              "  0.12797877209334724,\n",
              "  0.1341414694058693,\n",
              "  0.1260598338929947,\n",
              "  0.13138347022277488,\n",
              "  0.13427558726510086,\n",
              "  0.12669186942321434,\n",
              "  0.11849491205592613,\n",
              "  0.12858159393914,\n",
              "  0.12822044501870367,\n",
              "  0.12861348814883475,\n",
              "  0.13255173742434398,\n",
              "  0.13096260889775335,\n",
              "  0.12513321267682953,\n",
              "  0.12868570877333818,\n",
              "  0.12112324924792274,\n",
              "  0.12909580489336434],\n",
              " 'dev_loss_history': [3.821397542953491,\n",
              "  1.976034164428711,\n",
              "  1.5802427530288696,\n",
              "  1.2149782180786133,\n",
              "  1.1610045433044434,\n",
              "  1.0468510389328003,\n",
              "  0.9849593043327332,\n",
              "  0.7233941555023193,\n",
              "  0.6423113346099854,\n",
              "  0.7232666015625,\n",
              "  0.6599087119102478,\n",
              "  0.679093599319458,\n",
              "  0.5010471940040588,\n",
              "  0.45561784505844116,\n",
              "  0.43193483352661133,\n",
              "  0.42331036925315857,\n",
              "  0.4092784523963928,\n",
              "  0.4319869577884674,\n",
              "  0.37061506509780884,\n",
              "  0.349332332611084,\n",
              "  0.41309621930122375,\n",
              "  0.3326340615749359,\n",
              "  0.3522579073905945,\n",
              "  0.33534497022628784,\n",
              "  0.33470720052719116,\n",
              "  0.3308475911617279,\n",
              "  0.31758373975753784,\n",
              "  0.324332594871521,\n",
              "  0.31430569291114807,\n",
              "  0.31054002046585083,\n",
              "  0.31440305709838867,\n",
              "  0.31501683592796326,\n",
              "  0.30538150668144226,\n",
              "  0.30304571986198425,\n",
              "  0.3063388764858246,\n",
              "  0.3018682301044464,\n",
              "  0.2974373400211334,\n",
              "  0.30000150203704834,\n",
              "  0.2987183928489685,\n",
              "  0.30125170946121216,\n",
              "  0.30075177550315857,\n",
              "  0.301078200340271,\n",
              "  0.3007071912288666,\n",
              "  0.29910314083099365,\n",
              "  0.29696279764175415,\n",
              "  0.2934721112251282,\n",
              "  0.29616039991378784,\n",
              "  0.2947950065135956,\n",
              "  0.29339393973350525,\n",
              "  0.29312923550605774]}"
            ]
          },
          "metadata": {},
          "execution_count": 22
        }
      ]
    },
    {
      "cell_type": "markdown",
      "source": [
        "# Transformer Embeddings "
      ],
      "metadata": {
        "id": "E07q69YP8KQ5"
      }
    },
    {
      "cell_type": "markdown",
      "source": [
        "Transformer based embedding. "
      ],
      "metadata": {
        "id": "w_SaT_CPLhBh"
      }
    },
    {
      "cell_type": "code",
      "source": [
        "from flair.embeddings import TransformerWordEmbeddings\n",
        "from flair.models import SequenceTagger\n",
        "from flair.trainers import ModelTrainer\n",
        "# 4. initialize fine-tuneable transformer embeddings WITH document context\n",
        "embeddings = TransformerWordEmbeddings(model='xlm-roberta-large',\n",
        "                                       layers=\"-1\",\n",
        "                                       subtoken_pooling=\"first\",\n",
        "                                       fine_tune=True,\n",
        "                                       use_context=True,\n",
        "                                       )\n",
        "\n",
        "# 5. initialize bare-bones sequence tagger (no CRF, no RNN, no reprojection)\n",
        "tagger = SequenceTagger(hidden_size=256,\n",
        "                        embeddings=embeddings,\n",
        "                        tag_dictionary=tag_dictionary,\n",
        "                        tag_type='ner',\n",
        "                        use_crf=False,\n",
        "                        use_rnn=False,\n",
        "                        reproject_embeddings=False,\n",
        "                        )\n",
        "\n",
        "# 6. initialize trainer\n",
        "trainer = ModelTrainer(tagger, corpus)\n",
        "\n",
        "# 7. run fine-tuning\n",
        "trainer.fine_tune('resources/taggers/sota-ner-flert',\n",
        "                  learning_rate=5.0e-6,\n",
        "                  mini_batch_size=4,\n",
        "                  mini_batch_chunk_size=1,  # remove this parameter to speed up computation if you have a big GPU\n",
        "                  )"
      ],
      "metadata": {
        "id": "QaKmFbFP6XVH"
      },
      "execution_count": null,
      "outputs": []
    },
    {
      "cell_type": "code",
      "source": [
        "\n",
        "from flair.embeddings import WordEmbeddings, StackedEmbeddings, TokenEmbeddings\n",
        "from typing import List\n",
        "embedding_types : List[TokenEmbeddings] = [\n",
        "        WordEmbeddings('glove'),\n",
        "        ## other embeddings\n",
        "        ]\n",
        "embeddings : StackedEmbeddings = StackedEmbeddings(\n",
        "                                 embeddings=embedding_types)\n",
        "\n",
        "from flair.models import SequenceTagger\n",
        "tagger : SequenceTagger = SequenceTagger(hidden_size=256,\n",
        "                                       embeddings=embeddings,\n",
        "                                       tag_dictionary=tag_dictionary,\n",
        "                                       tag_type=tag_type,\n",
        "                                       use_crf=True)\n",
        "print(tagger)\n",
        "from flair.trainers import ModelTrainer\n",
        "trainer : ModelTrainer = ModelTrainer(tagger, corpus)\n",
        "trainer.train('resources/taggers/example-ner',\n",
        "              learning_rate=0.1,\n",
        "              mini_batch_size=32,\n",
        "              max_epochs=150)"
      ],
      "metadata": {
        "id": "MzM65gnD5VMW"
      },
      "execution_count": null,
      "outputs": []
    },
    {
      "cell_type": "code",
      "source": [
        "from flair.data import Sentence\n",
        "from flair.models import SequenceTagger\n",
        "# load the trained model\n",
        "model = SequenceTagger.load('/content/resources/taggers/sota-ner-flair/best-model.pt')\n",
        "# create example sentence\n",
        "sentence = Sentence('My address is 223 NW STATE STRE, DOVER, DE 19001, United States.')\n",
        "# predict the tags\n",
        "model.predict(sentence)\n",
        "# print(sentence.to_tagged_string())\n",
        "print(sentence.labels)\n",
        "# ignore the lower confidence > 0.6, Train with more sample to reduce the false positive"
      ],
      "metadata": {
        "id": "1gG87o9-BUzT",
        "colab": {
          "base_uri": "https://localhost:8080/"
        },
        "outputId": "873aaf00-295b-4a5a-a4e7-d81694b2cab0"
      },
      "execution_count": 21,
      "outputs": [
        {
          "output_type": "stream",
          "name": "stdout",
          "text": [
            "2023-01-27 17:07:57,315 loading file /content/resources/taggers/sota-ner-flair/best-model.pt\n",
            "2023-01-27 17:07:57,811 SequenceTagger predicts: Dictionary with 35 tags: O, S-Street_Name, B-Street_Name, E-Street_Name, I-Street_Name, S-City, B-City, E-City, I-City, S-State, B-State, E-State, I-State, S-Country, B-Country, E-Country, I-Country, S-Zip_Code, B-Zip_Code, E-Zip_Code, I-Zip_Code, S-Building_Number, B-Building_Number, E-Building_Number, I-Building_Number, S-Building_Name, B-Building_Name, E-Building_Name, I-Building_Name, S-Recipient, B-Recipient, E-Recipient, I-Recipient, <START>, <STOP>\n",
            "['Span[0:1]: \"My\"'/'Building_Name' (0.5949), 'Span[1:3]: \"address is\"'/'Building_Name' (0.461), 'Span[3:4]: \"223\"'/'Building_Number' (0.9896), 'Span[4:8]: \"NW STATE STRE ,\"'/'Street_Name' (0.8287), 'Span[8:10]: \"DOVER ,\"'/'City' (0.5568), 'Span[10:11]: \"DE\"'/'State' (0.8656), 'Span[11:12]: \"19001\"'/'Zip_Code' (0.9248), 'Span[12:13]: \",\"'/'State' (0.3515), 'Span[13:16]: \"United States .\"'/'Country' (0.986)]\n"
          ]
        }
      ]
    }
  ]
}